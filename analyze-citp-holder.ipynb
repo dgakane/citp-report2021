{
 "cells": [
  {
   "cell_type": "markdown",
   "metadata": {},
   "source": [
    "# CITP一覧ページの分析\n",
    "情報処理学会のCITP一覧ページ https://www.ipsj.or.jp/CITPholders.html の内容を分析、可視化する。\n",
    "\n",
    "### 必要なライブラリのインポート"
   ]
  },
  {
   "cell_type": "code",
   "execution_count": 1,
   "metadata": {},
   "outputs": [],
   "source": [
    "import requests\n",
    "from bs4 import BeautifulSoup\n",
    "import pandas as pd\n",
    "import numpy as np\n",
    "import matplotlib.pyplot as plt\n",
    "import japanize_matplotlib\n",
    "import re\n",
    "import plotly.express as px\n",
    "\n",
    "pd.set_option('display.max_rows', 100)"
   ]
  },
  {
   "cell_type": "markdown",
   "metadata": {},
   "source": [
    "情報処理学会の一覧ベージからHTMLファイルを取得し、BeautifulSoupを用いて構文解析する。"
   ]
  },
  {
   "cell_type": "code",
   "execution_count": 2,
   "metadata": {},
   "outputs": [],
   "source": [
    "r = requests.get(\n",
    "    'https://www.ipsj.or.jp/CITPholders.html'\n",
    ")\n",
    "r.encoding = r.apparent_encoding\n",
    "soup = BeautifulSoup(r.text, 'html.parser')"
   ]
  },
  {
   "cell_type": "markdown",
   "metadata": {},
   "source": [
    "構文解析したHTMLの内容から、必要な情報を抜き出し、pandasのデータフレームに格納する。"
   ]
  },
  {
   "cell_type": "code",
   "execution_count": 3,
   "metadata": {},
   "outputs": [
    {
     "data": {
      "text/html": [
       "<div>\n",
       "<style scoped>\n",
       "    .dataframe tbody tr th:only-of-type {\n",
       "        vertical-align: middle;\n",
       "    }\n",
       "\n",
       "    .dataframe tbody tr th {\n",
       "        vertical-align: top;\n",
       "    }\n",
       "\n",
       "    .dataframe thead th {\n",
       "        text-align: right;\n",
       "    }\n",
       "</style>\n",
       "<table border=\"1\" class=\"dataframe\">\n",
       "  <thead>\n",
       "    <tr style=\"text-align: right;\">\n",
       "      <th></th>\n",
       "      <th>Number</th>\n",
       "      <th>Company</th>\n",
       "      <th>Name</th>\n",
       "    </tr>\n",
       "  </thead>\n",
       "  <tbody>\n",
       "    <tr>\n",
       "      <th>0</th>\n",
       "      <td>18001016</td>\n",
       "      <td>（株）日立製作所</td>\n",
       "      <td>相澤 裕千</td>\n",
       "    </tr>\n",
       "    <tr>\n",
       "      <th>1</th>\n",
       "      <td>20000228</td>\n",
       "      <td>株式会社　日立製作所</td>\n",
       "      <td>相本 昌幸</td>\n",
       "    </tr>\n",
       "    <tr>\n",
       "      <th>2</th>\n",
       "      <td>17000582</td>\n",
       "      <td>ニッセイ情報テクノロジー株式会社</td>\n",
       "      <td>阿江 邦章</td>\n",
       "    </tr>\n",
       "    <tr>\n",
       "      <th>3</th>\n",
       "      <td>16001181</td>\n",
       "      <td>エヌ・ティ・ティ・コムウェア（株）</td>\n",
       "      <td>青井 智史</td>\n",
       "    </tr>\n",
       "    <tr>\n",
       "      <th>4</th>\n",
       "      <td>20000365</td>\n",
       "      <td>三菱電機インフォメーションシステムズ（株）</td>\n",
       "      <td>青井 晶哉</td>\n",
       "    </tr>\n",
       "    <tr>\n",
       "      <th>...</th>\n",
       "      <td>...</td>\n",
       "      <td>...</td>\n",
       "      <td>...</td>\n",
       "    </tr>\n",
       "    <tr>\n",
       "      <th>7293</th>\n",
       "      <td>20000221</td>\n",
       "      <td></td>\n",
       "      <td></td>\n",
       "    </tr>\n",
       "    <tr>\n",
       "      <th>7294</th>\n",
       "      <td>20000223</td>\n",
       "      <td></td>\n",
       "      <td></td>\n",
       "    </tr>\n",
       "    <tr>\n",
       "      <th>7295</th>\n",
       "      <td>20000255</td>\n",
       "      <td></td>\n",
       "      <td></td>\n",
       "    </tr>\n",
       "    <tr>\n",
       "      <th>7296</th>\n",
       "      <td>20000265</td>\n",
       "      <td></td>\n",
       "      <td></td>\n",
       "    </tr>\n",
       "    <tr>\n",
       "      <th>7297</th>\n",
       "      <td>20000307</td>\n",
       "      <td></td>\n",
       "      <td></td>\n",
       "    </tr>\n",
       "  </tbody>\n",
       "</table>\n",
       "<p>7298 rows × 3 columns</p>\n",
       "</div>"
      ],
      "text/plain": [
       "        Number                Company   Name\n",
       "0     18001016               （株）日立製作所  相澤 裕千\n",
       "1     20000228             株式会社　日立製作所  相本 昌幸\n",
       "2     17000582       ニッセイ情報テクノロジー株式会社  阿江 邦章\n",
       "3     16001181      エヌ・ティ・ティ・コムウェア（株）  青井 智史\n",
       "4     20000365  三菱電機インフォメーションシステムズ（株）  青井 晶哉\n",
       "...        ...                    ...    ...\n",
       "7293  20000221                              \n",
       "7294  20000223                              \n",
       "7295  20000255                              \n",
       "7296  20000265                              \n",
       "7297  20000307                              \n",
       "\n",
       "[7298 rows x 3 columns]"
      ]
     },
     "execution_count": 3,
     "metadata": {},
     "output_type": "execute_result"
    }
   ],
   "source": [
    "df = pd.DataFrame( columns=[\"Number\", \"Company\", \"Name\"] ) \n",
    "for i in soup.select(\"ul.citplist li\"):\n",
    "    tmp = i.get(\"title\").split(\"/\")\n",
    "    number = tmp[1]\n",
    "    company = tmp[0]\n",
    "    df = df.append({\"Number\": number,\"Company\": company, \"Name\": i.text},ignore_index=True)\n",
    "\n",
    "# 「氏名の公開を希望しない認定情報技術者の認定番号」以降の番号を取得する\n",
    "only_number_div = soup.find('div', attrs={'style': 'width : 550px;'})\n",
    "\n",
    "# 8桁の数字でできた文字列にマッチするパターン\n",
    "pattern = re.compile('[0-9]{8}') \n",
    "\n",
    "for l in only_number_div.get_text().split(\"\\r\\n\"):\n",
    "    if pattern.match(l):\n",
    "        # 会社名と氏名は空としてdfに追加しておく\n",
    "        df = df.append({\"Number\": l, \"Company\": \"\", \"Name\": \"\"},ignore_index=True) \n",
    "df"
   ]
  },
  {
   "cell_type": "code",
   "execution_count": 4,
   "metadata": {},
   "outputs": [
    {
     "data": {
      "text/html": [
       "<div>\n",
       "<style scoped>\n",
       "    .dataframe tbody tr th:only-of-type {\n",
       "        vertical-align: middle;\n",
       "    }\n",
       "\n",
       "    .dataframe tbody tr th {\n",
       "        vertical-align: top;\n",
       "    }\n",
       "\n",
       "    .dataframe thead th {\n",
       "        text-align: right;\n",
       "    }\n",
       "</style>\n",
       "<table border=\"1\" class=\"dataframe\">\n",
       "  <thead>\n",
       "    <tr style=\"text-align: right;\">\n",
       "      <th></th>\n",
       "      <th>Number</th>\n",
       "      <th>Company</th>\n",
       "      <th>Name</th>\n",
       "    </tr>\n",
       "  </thead>\n",
       "  <tbody>\n",
       "    <tr>\n",
       "      <th>26</th>\n",
       "      <td>15000004</td>\n",
       "      <td>（株）中電シーティーアイ</td>\n",
       "      <td>赤塚 正芳</td>\n",
       "    </tr>\n",
       "    <tr>\n",
       "      <th>27</th>\n",
       "      <td>18001325</td>\n",
       "      <td>エヌ・ティ・ティ・コムウェア（株）</td>\n",
       "      <td>赤沼 大我</td>\n",
       "    </tr>\n",
       "    <tr>\n",
       "      <th>28</th>\n",
       "      <td>14000022</td>\n",
       "      <td>Konami Gaming, Inc.</td>\n",
       "      <td>赤根 大吾</td>\n",
       "    </tr>\n",
       "    <tr>\n",
       "      <th>29</th>\n",
       "      <td>20000230</td>\n",
       "      <td>株式会社日立製作所</td>\n",
       "      <td>秋田 美穂</td>\n",
       "    </tr>\n",
       "    <tr>\n",
       "      <th>30</th>\n",
       "      <td>16000924</td>\n",
       "      <td>エヌ・ティ・ティ・コムウェア（株）</td>\n",
       "      <td>秋間 利彦</td>\n",
       "    </tr>\n",
       "    <tr>\n",
       "      <th>...</th>\n",
       "      <td>...</td>\n",
       "      <td>...</td>\n",
       "      <td>...</td>\n",
       "    </tr>\n",
       "    <tr>\n",
       "      <th>7293</th>\n",
       "      <td>20000221</td>\n",
       "      <td></td>\n",
       "      <td></td>\n",
       "    </tr>\n",
       "    <tr>\n",
       "      <th>7294</th>\n",
       "      <td>20000223</td>\n",
       "      <td></td>\n",
       "      <td></td>\n",
       "    </tr>\n",
       "    <tr>\n",
       "      <th>7295</th>\n",
       "      <td>20000255</td>\n",
       "      <td></td>\n",
       "      <td></td>\n",
       "    </tr>\n",
       "    <tr>\n",
       "      <th>7296</th>\n",
       "      <td>20000265</td>\n",
       "      <td></td>\n",
       "      <td></td>\n",
       "    </tr>\n",
       "    <tr>\n",
       "      <th>7297</th>\n",
       "      <td>20000307</td>\n",
       "      <td></td>\n",
       "      <td></td>\n",
       "    </tr>\n",
       "  </tbody>\n",
       "</table>\n",
       "<p>7272 rows × 3 columns</p>\n",
       "</div>"
      ],
      "text/plain": [
       "        Number              Company   Name\n",
       "26    15000004         （株）中電シーティーアイ  赤塚 正芳\n",
       "27    18001325    エヌ・ティ・ティ・コムウェア（株）  赤沼 大我\n",
       "28    14000022  Konami Gaming, Inc.  赤根 大吾\n",
       "29    20000230            株式会社日立製作所  秋田 美穂\n",
       "30    16000924    エヌ・ティ・ティ・コムウェア（株）  秋間 利彦\n",
       "...        ...                  ...    ...\n",
       "7293  20000221                            \n",
       "7294  20000223                            \n",
       "7295  20000255                            \n",
       "7296  20000265                            \n",
       "7297  20000307                            \n",
       "\n",
       "[7272 rows x 3 columns]"
      ]
     },
     "execution_count": 4,
     "metadata": {},
     "output_type": "execute_result"
    }
   ],
   "source": [
    "df[26:] # 原稿に使用するスクリーンショット用"
   ]
  },
  {
   "cell_type": "markdown",
   "metadata": {},
   "source": [
    "Companyカラムにどのような項目が含まれているか、重複を除いて表示する。"
   ]
  },
  {
   "cell_type": "code",
   "execution_count": 5,
   "metadata": {},
   "outputs": [
    {
     "data": {
      "text/plain": [
       "{'',\n",
       " '(株)日立製作所',\n",
       " '(株)日立製作所 社会ビジネスユニット 社会システム事業部 企画本部 企画部',\n",
       " 'CCアーキテクト株式会社',\n",
       " 'JCCソフト株式会社',\n",
       " 'Konami Gaming, Inc.',\n",
       " 'NECソリューションイノベータ株式会社',\n",
       " 'NTTテクノクロス株式会社',\n",
       " 'NTTテクノクロス（株）',\n",
       " 'NTT西日本',\n",
       " 'S&J（株）',\n",
       " 'みずほ信託銀行',\n",
       " 'みずほ情報総研 株式会社',\n",
       " 'みずほ情報総研株式会社',\n",
       " 'みずほ銀行',\n",
       " 'アイテック阪急阪神株式会社',\n",
       " 'アジア航測株式会社',\n",
       " 'アルプスアルパイン株式会社',\n",
       " 'インテグレーションテクノロジー株式会社',\n",
       " 'イー・フォース株式会社',\n",
       " 'エクセディア・コンサルティング株式会社',\n",
       " 'エヌ・ティ・ティ・コムウェア株式会社',\n",
       " 'エヌ・ティ・ティ・コムウェア（株）',\n",
       " 'エリクソン・ジャパン株式会社',\n",
       " 'コンピュートロン株式会社',\n",
       " 'ソフトバンク・テクノロジー株式会社',\n",
       " 'ソフトバンク（株）',\n",
       " 'トヨタ自動車㈱',\n",
       " 'ニッセイ情報テクノロジー株式会社',\n",
       " 'ニッセイ情報テクノロジー（株）',\n",
       " 'ハルコム',\n",
       " 'リコーITソリューションズ株式会社',\n",
       " '㈱日立製作所',\n",
       " '三井物産セキュアディレクション株式会社',\n",
       " '三倉エンジニアリング株式会社',\n",
       " '三菱電機インフォメーションシステムズ（株）',\n",
       " '三菱電機インフォメーションシステム（株）',\n",
       " '三菱電機マイコン機器ソフトウエア株式会社',\n",
       " '三菱電機（株）',\n",
       " '京セラ株式会社',\n",
       " '力武健次技術士事務所',\n",
       " '吉川技術士事務所',\n",
       " '坂東技術士事務所',\n",
       " '大脇技術士事務所',\n",
       " '大阪府警察本部',\n",
       " '太平洋工業株式会社',\n",
       " '学校法人山脇学園',\n",
       " '富士通株式会社',\n",
       " '富士通（株）',\n",
       " '日本工営株式会社',\n",
       " '日本電技株式会社',\n",
       " '日本電気株式会社',\n",
       " '日本電気（株）',\n",
       " '日本ＮＣＲ株式会社',\n",
       " '日立製作所',\n",
       " '有限会社 Ovum Software',\n",
       " '東京ガスｉネット株式会社',\n",
       " '東芝インフラシステムズ株式会社',\n",
       " '東芝デジタルソリューションズ株式会社',\n",
       " '松下技術士事務所',\n",
       " '柏原コンサルティングオフィス',\n",
       " '株式会社 日立産機システム',\n",
       " '株式会社 日立製作所',\n",
       " '株式会社SHIFT',\n",
       " '株式会社\\u3000中電シーティーアイ',\n",
       " '株式会社\\u3000日立ソリューションズ・クリエイト',\n",
       " '株式会社\\u3000日立製作所',\n",
       " '株式会社\\u3000関電システムズ',\n",
       " '株式会社クリモトビジネスアソシエイツ',\n",
       " '株式会社スクウェア・エニックス',\n",
       " '株式会社ソフトウェアコントロール',\n",
       " '株式会社タクマ',\n",
       " '株式会社デンソー',\n",
       " '株式会社ファースト',\n",
       " '株式会社マクニカ',\n",
       " '株式会社リコー',\n",
       " '株式会社山下設計',\n",
       " '株式会社日立システムズ',\n",
       " '株式会社日立製作所',\n",
       " '株式会社電通国際情報サービス',\n",
       " '株式会社ＬＳＥＴ',\n",
       " '沖電気工業株式会社',\n",
       " '独立行政法人\\u3000国立高専機構\\u3000東京工業高等専門学校',\n",
       " '石川Ｅ＆ＩＴ技術士事務所',\n",
       " '神戸学院大学',\n",
       " '鍜治技術士事務所',\n",
       " '電設コンサルタンツ株式会社',\n",
       " '非公開',\n",
       " '飯田ICT技術士事務所',\n",
       " '（株）CIJ',\n",
       " '（株）インテック',\n",
       " '（株）ハイマックス',\n",
       " '（株）フィリップス・ジャパン',\n",
       " '（株）ラック',\n",
       " '（株）中電シーティーアイ',\n",
       " '（株）日立制作所',\n",
       " '（株）日立製作所',\n",
       " '（株）日立製作所→退職個人へ',\n",
       " '（株）野村総合研究所',\n",
       " 'ＮＤＳ株式会社'}"
      ]
     },
     "execution_count": 5,
     "metadata": {},
     "output_type": "execute_result"
    }
   ],
   "source": [
    "set(df[\"Company\"])"
   ]
  },
  {
   "cell_type": "markdown",
   "metadata": {},
   "source": [
    "会社名の表記を統一するための辞書を作成する。"
   ]
  },
  {
   "cell_type": "code",
   "execution_count": 6,
   "metadata": {},
   "outputs": [],
   "source": [
    "replace_table = {\n",
    "'': '非公開',\n",
    "'(株)日立製作所': '日立製作所',\n",
    " '(株)日立製作所 社会ビジネスユニット 社会システム事業部 企画本部 企画部': '日立製作所',\n",
    " 'CCアーキテクト株式会社': 'CCアーキテクト',\n",
    " 'JCCソフト株式会社':  'JCCソフト',\n",
    " 'NECソリューションイノベータ株式会社': 'NECソリューションイノベータ',\n",
    " 'NTTテクノクロス株式会社': 'NTTテクノクロス',\n",
    " 'NTTテクノクロス（株）':'NTTテクノクロス',\n",
    " 'S&J（株）': 'S&J',\n",
    " 'みずほ情報総研 株式会社': 'みずほ情報総研',\n",
    " 'みずほ情報総研株式会社': 'みずほ情報総研',\n",
    " 'アイテック阪急阪神株式会社': 'アイテック阪急阪神',\n",
    " 'アジア航測株式会社': 'アジア航測',\n",
    " 'アルプスアルパイン株式会社': 'アルプスアルパイン',\n",
    " 'インテグレーションテクノロジー株式会社': 'インテグレーションテクノロジー',\n",
    " 'イー・フォース株式会社': 'イー・フォース',\n",
    " 'エクセディア・コンサルティング株式会社': 'エクセディア・コンサルティング',\n",
    " 'エヌ・ティ・ティ・コムウェア株式会社': 'エヌ・ティ・ティ・コムウェア',\n",
    " 'エヌ・ティ・ティ・コムウェア（株）': 'エヌ・ティ・ティ・コムウェア',\n",
    " 'エリクソン・ジャパン株式会社': 'エリクソン・ジャパン',\n",
    " 'コンピュートロン株式会社': 'コンピュートロン',\n",
    " 'ソフトバンク・テクノロジー株式会社': 'ソフトバンク・テクノロジー',\n",
    " 'ソフトバンク（株）': 'ソフトバンク',\n",
    " 'トヨタ自動車㈱': 'トヨタ自動車',\n",
    " 'ニッセイ情報テクノロジー株式会社': 'ニッセイ情報テクノロジー',\n",
    " 'ニッセイ情報テクノロジー（株）': 'ニッセイ情報テクノロジー',\n",
    " 'リコーITソリューションズ株式会社': 'リコーITソリューションズ',\n",
    " '㈱日立製作所': '日立製作所',\n",
    " '三井物産セキュアディレクション株式会社': '三井物産セキュアディレクション',\n",
    " '三倉エンジニアリング株式会社': '三倉エンジニアリング',\n",
    " '三菱電機インフォメーションシステムズ（株）': '三菱電機インフォメーションシステムズ',\n",
    " '三菱電機インフォメーションシステム（株）': '三菱電機インフォメーションシステムズ',\n",
    " '三菱電機マイコン機器ソフトウエア株式会社': '三菱電機マイコン機器ソフトウエア',\n",
    " '三菱電機（株）': '三菱電機',\n",
    " '京セラ株式会社': '京セラ',\n",
    " '太平洋工業株式会社': '太平洋工業',\n",
    " '学校法人山脇学園': '山脇学園',\n",
    " '富士通株式会社': '富士通',\n",
    " '富士通（株）': '富士通',\n",
    " '日本工営株式会社': '日本工営',\n",
    " '日本電技株式会社': '日本電技',\n",
    " '日本電気株式会社': 'NEC',\n",
    " '日本電気（株）': 'NEC',\n",
    " '日本ＮＣＲ株式会社': '日本ＮＣＲ',\n",
    " '有限会社 Ovum Software': 'Ovum Software',\n",
    " '東京ガスｉネット株式会社': '東京ガスｉネット',\n",
    " '東芝インフラシステムズ株式会社': '東芝インフラシステムズ',\n",
    " '東芝デジタルソリューションズ株式会社': '東芝デジタルソリューションズ',\n",
    " '株式会社 日立産機システム': '日立産機システム',\n",
    " '株式会社 日立製作所': '日立製作所',\n",
    " '株式会社SHIFT': 'SHIFT',\n",
    " '株式会社\\u3000中電シーティーアイ': '中電シーティーアイ',\n",
    " '株式会社\\u3000日立ソリューションズ・クリエイト': '日立ソリューションズ・クリエイト',\n",
    " '株式会社\\u3000日立製作所': '日立製作所',\n",
    " '株式会社\\u3000関電システムズ': '関電システムズ',\n",
    " '株式会社クリモトビジネスアソシエイツ': 'クリモトビジネスアソシエイツ',\n",
    " '株式会社スクウェア・エニックス': 'スクウェア・エニックス',\n",
    " '株式会社ソフトウェアコントロール': 'ソフトウェアコントロール',\n",
    " '株式会社タクマ': 'タクマ',\n",
    " '株式会社デンソー': 'デンソー',\n",
    " '株式会社ファースト': 'ファースト',\n",
    " '株式会社マクニカ': 'マクニカ',\n",
    " '株式会社リコー': 'リコー',\n",
    " '株式会社中電シーティーアイ': '中電シーティーアイ',\n",
    " '株式会社山下設計': '山下設計',\n",
    " '株式会社日立システムズ': '日立システムズ',\n",
    " '株式会社日立製作所': '日立製作所',\n",
    " '株式会社電通国際情報サービス': '電通国際情報サービス',\n",
    " '株式会社ＬＳＥＴ': 'ＬＳＥＴ',\n",
    " '沖電気工業株式会社': '沖電気工業',\n",
    " '独立行政法人\\u3000国立高専機構\\u3000東京工業高等専門学校': '東京工業高等専門学校',\n",
    " '（株）CIJ': 'CIJ',\n",
    " '（株）インテック': 'インテック',\n",
    " '（株）デジタルフィールド': 'デジタルフィールド',\n",
    " '（株）ハイマックス': 'ハイマックス',\n",
    " '（株）フィリップス・ジャパン': 'フィリップス・ジャパン',\n",
    " '（株）ラック': 'ラック',\n",
    " '（株）中電シーティーアイ': '中電シーティーアイ',\n",
    " '（株）日立制作所': '日立製作所',\n",
    " '（株）日立製作所': '日立製作所',\n",
    " '（株）日立製作所→退職個人へ': '個人',\n",
    " '（株）野村総合研究所': '野村総合研究所',\n",
    " 'ＮＤＳ株式会社': 'ＮＤＳ',\n",
    "}"
   ]
  },
  {
   "cell_type": "markdown",
   "metadata": {},
   "source": [
    "上の辞書を用いてCompanyカラムの内容を置換し、再度内容を確認する。"
   ]
  },
  {
   "cell_type": "code",
   "execution_count": 7,
   "metadata": {},
   "outputs": [
    {
     "data": {
      "text/plain": [
       "{'CCアーキテクト',\n",
       " 'CIJ',\n",
       " 'JCCソフト',\n",
       " 'Konami Gaming, Inc.',\n",
       " 'NEC',\n",
       " 'NECソリューションイノベータ',\n",
       " 'NTTテクノクロス',\n",
       " 'NTT西日本',\n",
       " 'Ovum Software',\n",
       " 'S&J',\n",
       " 'SHIFT',\n",
       " 'みずほ信託銀行',\n",
       " 'みずほ情報総研',\n",
       " 'みずほ銀行',\n",
       " 'アイテック阪急阪神',\n",
       " 'アジア航測',\n",
       " 'アルプスアルパイン',\n",
       " 'インテグレーションテクノロジー',\n",
       " 'インテック',\n",
       " 'イー・フォース',\n",
       " 'エクセディア・コンサルティング',\n",
       " 'エヌ・ティ・ティ・コムウェア',\n",
       " 'エリクソン・ジャパン',\n",
       " 'クリモトビジネスアソシエイツ',\n",
       " 'コンピュートロン',\n",
       " 'スクウェア・エニックス',\n",
       " 'ソフトウェアコントロール',\n",
       " 'ソフトバンク',\n",
       " 'ソフトバンク・テクノロジー',\n",
       " 'タクマ',\n",
       " 'デンソー',\n",
       " 'トヨタ自動車',\n",
       " 'ニッセイ情報テクノロジー',\n",
       " 'ハイマックス',\n",
       " 'ハルコム',\n",
       " 'ファースト',\n",
       " 'フィリップス・ジャパン',\n",
       " 'マクニカ',\n",
       " 'ラック',\n",
       " 'リコー',\n",
       " 'リコーITソリューションズ',\n",
       " '三井物産セキュアディレクション',\n",
       " '三倉エンジニアリング',\n",
       " '三菱電機',\n",
       " '三菱電機インフォメーションシステムズ',\n",
       " '三菱電機マイコン機器ソフトウエア',\n",
       " '中電シーティーアイ',\n",
       " '京セラ',\n",
       " '個人',\n",
       " '力武健次技術士事務所',\n",
       " '吉川技術士事務所',\n",
       " '坂東技術士事務所',\n",
       " '大脇技術士事務所',\n",
       " '大阪府警察本部',\n",
       " '太平洋工業',\n",
       " '富士通',\n",
       " '山下設計',\n",
       " '山脇学園',\n",
       " '日本工営',\n",
       " '日本電技',\n",
       " '日本ＮＣＲ',\n",
       " '日立システムズ',\n",
       " '日立ソリューションズ・クリエイト',\n",
       " '日立産機システム',\n",
       " '日立製作所',\n",
       " '東京ガスｉネット',\n",
       " '東京工業高等専門学校',\n",
       " '東芝インフラシステムズ',\n",
       " '東芝デジタルソリューションズ',\n",
       " '松下技術士事務所',\n",
       " '柏原コンサルティングオフィス',\n",
       " '沖電気工業',\n",
       " '石川Ｅ＆ＩＴ技術士事務所',\n",
       " '神戸学院大学',\n",
       " '野村総合研究所',\n",
       " '鍜治技術士事務所',\n",
       " '関電システムズ',\n",
       " '電設コンサルタンツ株式会社',\n",
       " '電通国際情報サービス',\n",
       " '非公開',\n",
       " '飯田ICT技術士事務所',\n",
       " 'ＬＳＥＴ',\n",
       " 'ＮＤＳ'}"
      ]
     },
     "execution_count": 7,
     "metadata": {},
     "output_type": "execute_result"
    }
   ],
   "source": [
    "df[\"Company\"] = df[\"Company\"].replace(replace_table)\n",
    "set(df[\"Company\"])"
   ]
  },
  {
   "cell_type": "markdown",
   "metadata": {},
   "source": [
    "### 「認定情報技術者一覧」で公開されているCITPの情報は7298人分"
   ]
  },
  {
   "cell_type": "code",
   "execution_count": 8,
   "metadata": {},
   "outputs": [
    {
     "data": {
      "text/plain": [
       "7298"
      ]
     },
     "execution_count": 8,
     "metadata": {},
     "output_type": "execute_result"
    }
   ],
   "source": [
    "len(df)"
   ]
  },
  {
   "cell_type": "markdown",
   "metadata": {},
   "source": [
    "### 7割にあたる約5000人は氏名や社名（所属）を公表していない"
   ]
  },
  {
   "cell_type": "code",
   "execution_count": 9,
   "metadata": {},
   "outputs": [
    {
     "data": {
      "text/plain": [
       "5018"
      ]
     },
     "execution_count": 9,
     "metadata": {},
     "output_type": "execute_result"
    }
   ],
   "source": [
    "len(df.query('Name==\"\"'))"
   ]
  },
  {
   "cell_type": "code",
   "execution_count": 10,
   "metadata": {},
   "outputs": [
    {
     "data": {
      "text/plain": [
       "5066"
      ]
     },
     "execution_count": 10,
     "metadata": {},
     "output_type": "execute_result"
    }
   ],
   "source": [
    "len(df.query('Company==\"非公開\"'))"
   ]
  },
  {
   "cell_type": "markdown",
   "metadata": {},
   "source": [
    "会社ごとのCITP所有者の数を集計し、上位20位を表示する。"
   ]
  },
  {
   "cell_type": "code",
   "execution_count": 11,
   "metadata": {},
   "outputs": [
    {
     "data": {
      "text/html": [
       "<div>\n",
       "<style scoped>\n",
       "    .dataframe tbody tr th:only-of-type {\n",
       "        vertical-align: middle;\n",
       "    }\n",
       "\n",
       "    .dataframe tbody tr th {\n",
       "        vertical-align: top;\n",
       "    }\n",
       "\n",
       "    .dataframe thead th {\n",
       "        text-align: right;\n",
       "    }\n",
       "</style>\n",
       "<table border=\"1\" class=\"dataframe\">\n",
       "  <thead>\n",
       "    <tr style=\"text-align: right;\">\n",
       "      <th></th>\n",
       "      <th>Company</th>\n",
       "    </tr>\n",
       "  </thead>\n",
       "  <tbody>\n",
       "    <tr>\n",
       "      <th>非公開</th>\n",
       "      <td>5066</td>\n",
       "    </tr>\n",
       "    <tr>\n",
       "      <th>エヌ・ティ・ティ・コムウェア</th>\n",
       "      <td>853</td>\n",
       "    </tr>\n",
       "    <tr>\n",
       "      <th>ニッセイ情報テクノロジー</th>\n",
       "      <td>445</td>\n",
       "    </tr>\n",
       "    <tr>\n",
       "      <th>日立製作所</th>\n",
       "      <td>389</td>\n",
       "    </tr>\n",
       "    <tr>\n",
       "      <th>三菱電機インフォメーションシステムズ</th>\n",
       "      <td>308</td>\n",
       "    </tr>\n",
       "    <tr>\n",
       "      <th>NTTテクノクロス</th>\n",
       "      <td>57</td>\n",
       "    </tr>\n",
       "    <tr>\n",
       "      <th>リコーITソリューションズ</th>\n",
       "      <td>53</td>\n",
       "    </tr>\n",
       "    <tr>\n",
       "      <th>中電シーティーアイ</th>\n",
       "      <td>19</td>\n",
       "    </tr>\n",
       "    <tr>\n",
       "      <th>みずほ情報総研</th>\n",
       "      <td>18</td>\n",
       "    </tr>\n",
       "    <tr>\n",
       "      <th>東芝インフラシステムズ</th>\n",
       "      <td>6</td>\n",
       "    </tr>\n",
       "    <tr>\n",
       "      <th>富士通</th>\n",
       "      <td>4</td>\n",
       "    </tr>\n",
       "    <tr>\n",
       "      <th>リコー</th>\n",
       "      <td>3</td>\n",
       "    </tr>\n",
       "    <tr>\n",
       "      <th>NEC</th>\n",
       "      <td>3</td>\n",
       "    </tr>\n",
       "    <tr>\n",
       "      <th>インテック</th>\n",
       "      <td>2</td>\n",
       "    </tr>\n",
       "    <tr>\n",
       "      <th>日本工営</th>\n",
       "      <td>2</td>\n",
       "    </tr>\n",
       "    <tr>\n",
       "      <th>ラック</th>\n",
       "      <td>2</td>\n",
       "    </tr>\n",
       "    <tr>\n",
       "      <th>野村総合研究所</th>\n",
       "      <td>2</td>\n",
       "    </tr>\n",
       "    <tr>\n",
       "      <th>三菱電機マイコン機器ソフトウエア</th>\n",
       "      <td>1</td>\n",
       "    </tr>\n",
       "    <tr>\n",
       "      <th>日本電技</th>\n",
       "      <td>1</td>\n",
       "    </tr>\n",
       "    <tr>\n",
       "      <th>アルプスアルパイン</th>\n",
       "      <td>1</td>\n",
       "    </tr>\n",
       "  </tbody>\n",
       "</table>\n",
       "</div>"
      ],
      "text/plain": [
       "                    Company\n",
       "非公開                    5066\n",
       "エヌ・ティ・ティ・コムウェア          853\n",
       "ニッセイ情報テクノロジー            445\n",
       "日立製作所                   389\n",
       "三菱電機インフォメーションシステムズ      308\n",
       "NTTテクノクロス                57\n",
       "リコーITソリューションズ            53\n",
       "中電シーティーアイ                19\n",
       "みずほ情報総研                  18\n",
       "東芝インフラシステムズ               6\n",
       "富士通                       4\n",
       "リコー                       3\n",
       "NEC                       3\n",
       "インテック                     2\n",
       "日本工営                      2\n",
       "ラック                       2\n",
       "野村総合研究所                   2\n",
       "三菱電機マイコン機器ソフトウエア          1\n",
       "日本電技                      1\n",
       "アルプスアルパイン                 1"
      ]
     },
     "execution_count": 11,
     "metadata": {},
     "output_type": "execute_result"
    }
   ],
   "source": [
    "df[\"Company\"].value_counts().head(20).to_frame()"
   ]
  },
  {
   "cell_type": "code",
   "execution_count": 12,
   "metadata": {},
   "outputs": [
    {
     "data": {
      "text/plain": [
       "非公開                    5066\n",
       "エヌ・ティ・ティ・コムウェア          853\n",
       "ニッセイ情報テクノロジー            445\n",
       "日立製作所                   389\n",
       "三菱電機インフォメーションシステムズ      308\n",
       "NTTテクノクロス                57\n",
       "リコーITソリューションズ            53\n",
       "中電シーティーアイ                19\n",
       "みずほ情報総研                  18\n",
       "東芝インフラシステムズ               6\n",
       "富士通                       4\n",
       "リコー                       3\n",
       "NEC                       3\n",
       "インテック                     2\n",
       "日本工営                      2\n",
       "ラック                       2\n",
       "野村総合研究所                   2\n",
       "三菱電機マイコン機器ソフトウエア          1\n",
       "日本電技                      1\n",
       "アルプスアルパイン                 1\n",
       "吉川技術士事務所                  1\n",
       "Ovum Software             1\n",
       "山脇学園                      1\n",
       "アイテック阪急阪神                 1\n",
       "エクセディア・コンサルティング           1\n",
       "S&J                       1\n",
       "インテグレーションテクノロジー           1\n",
       "山下設計                      1\n",
       "Konami Gaming, Inc.       1\n",
       "大脇技術士事務所                  1\n",
       "京セラ                       1\n",
       "日立システムズ                   1\n",
       "東芝デジタルソリューションズ            1\n",
       "みずほ銀行                     1\n",
       "SHIFT                     1\n",
       "坂東技術士事務所                  1\n",
       "大阪府警察本部                   1\n",
       "ファースト                     1\n",
       "東京工業高等専門学校                1\n",
       "沖電気工業                     1\n",
       "ＬＳＥＴ                      1\n",
       "電設コンサルタンツ株式会社             1\n",
       "クリモトビジネスアソシエイツ            1\n",
       "マクニカ                      1\n",
       "エリクソン・ジャパン                1\n",
       "NTT西日本                    1\n",
       "ハイマックス                    1\n",
       "フィリップス・ジャパン               1\n",
       "みずほ信託銀行                   1\n",
       "三倉エンジニアリング                1\n",
       "柏原コンサルティングオフィス            1\n",
       "デンソー                      1\n",
       "関電システムズ                   1\n",
       "太平洋工業                     1\n",
       "松下技術士事務所                  1\n",
       "イー・フォース                   1\n",
       "CIJ                       1\n",
       "日立産機システム                  1\n",
       "NECソリューションイノベータ           1\n",
       "コンピュートロン                  1\n",
       "トヨタ自動車                    1\n",
       "神戸学院大学                    1\n",
       "石川Ｅ＆ＩＴ技術士事務所              1\n",
       "日本ＮＣＲ                     1\n",
       "三井物産セキュアディレクション           1\n",
       "ソフトウェアコントロール              1\n",
       "アジア航測                     1\n",
       "JCCソフト                    1\n",
       "東京ガスｉネット                  1\n",
       "ＮＤＳ                       1\n",
       "スクウェア・エニックス               1\n",
       "個人                        1\n",
       "力武健次技術士事務所                1\n",
       "ソフトバンク                    1\n",
       "日立ソリューションズ・クリエイト          1\n",
       "タクマ                       1\n",
       "CCアーキテクト                  1\n",
       "ソフトバンク・テクノロジー             1\n",
       "鍜治技術士事務所                  1\n",
       "ハルコム                      1\n",
       "飯田ICT技術士事務所               1\n",
       "三菱電機                      1\n",
       "電通国際情報サービス                1\n",
       "Name: Company, dtype: int64"
      ]
     },
     "execution_count": 12,
     "metadata": {},
     "output_type": "execute_result"
    }
   ],
   "source": [
    "df[\"Company\"].value_counts()"
   ]
  },
  {
   "cell_type": "markdown",
   "metadata": {},
   "source": [
    "「非公開」ではなく、複数のCITPが存在する会社のCITPの数を棒グラフで表示。"
   ]
  },
  {
   "cell_type": "code",
   "execution_count": 13,
   "metadata": {},
   "outputs": [
    {
     "data": {
      "image/png": "[encoded data removed]",
      "text/plain": [
       "<Figure size 1152x432 with 1 Axes>"
      ]
     },
     "metadata": {
      "needs_background": "light"
     },
     "output_type": "display_data"
    }
   ],
   "source": [
    "df_company_num = df.query(\n",
    "    'Company != \"非公開\"'\n",
    ")[\"Company\"].value_counts()\n",
    "\n",
    "fig = plt.figure(figsize=(16.0, 6.0))\n",
    "ax = fig.add_subplot(111)\n",
    "ax = df_company_num[df_company_num>1].plot(kind='bar')\n",
    "ax.grid(axis=\"y\")\n",
    "plt.title(\"CITP所属数\")\n",
    "plt.show()\n"
   ]
  },
  {
   "cell_type": "markdown",
   "metadata": {},
   "source": [
    "### これまででCITPがもっとも増加したのは2016年度、ついで2018年度。"
   ]
  },
  {
   "cell_type": "code",
   "execution_count": 14,
   "metadata": {},
   "outputs": [
    {
     "data": {
      "text/html": [
       "<div>\n",
       "<style scoped>\n",
       "    .dataframe tbody tr th:only-of-type {\n",
       "        vertical-align: middle;\n",
       "    }\n",
       "\n",
       "    .dataframe tbody tr th {\n",
       "        vertical-align: top;\n",
       "    }\n",
       "\n",
       "    .dataframe thead th {\n",
       "        text-align: right;\n",
       "    }\n",
       "</style>\n",
       "<table border=\"1\" class=\"dataframe\">\n",
       "  <thead>\n",
       "    <tr style=\"text-align: right;\">\n",
       "      <th></th>\n",
       "      <th>Number</th>\n",
       "      <th>Company</th>\n",
       "      <th>Name</th>\n",
       "      <th>Year</th>\n",
       "    </tr>\n",
       "  </thead>\n",
       "  <tbody>\n",
       "    <tr>\n",
       "      <th>0</th>\n",
       "      <td>18001016</td>\n",
       "      <td>日立製作所</td>\n",
       "      <td>相澤 裕千</td>\n",
       "      <td>2018</td>\n",
       "    </tr>\n",
       "    <tr>\n",
       "      <th>1</th>\n",
       "      <td>20000228</td>\n",
       "      <td>日立製作所</td>\n",
       "      <td>相本 昌幸</td>\n",
       "      <td>2020</td>\n",
       "    </tr>\n",
       "    <tr>\n",
       "      <th>2</th>\n",
       "      <td>17000582</td>\n",
       "      <td>ニッセイ情報テクノロジー</td>\n",
       "      <td>阿江 邦章</td>\n",
       "      <td>2017</td>\n",
       "    </tr>\n",
       "    <tr>\n",
       "      <th>3</th>\n",
       "      <td>16001181</td>\n",
       "      <td>エヌ・ティ・ティ・コムウェア</td>\n",
       "      <td>青井 智史</td>\n",
       "      <td>2016</td>\n",
       "    </tr>\n",
       "    <tr>\n",
       "      <th>4</th>\n",
       "      <td>20000365</td>\n",
       "      <td>三菱電機インフォメーションシステムズ</td>\n",
       "      <td>青井 晶哉</td>\n",
       "      <td>2020</td>\n",
       "    </tr>\n",
       "    <tr>\n",
       "      <th>...</th>\n",
       "      <td>...</td>\n",
       "      <td>...</td>\n",
       "      <td>...</td>\n",
       "      <td>...</td>\n",
       "    </tr>\n",
       "    <tr>\n",
       "      <th>7293</th>\n",
       "      <td>20000221</td>\n",
       "      <td>非公開</td>\n",
       "      <td></td>\n",
       "      <td>2020</td>\n",
       "    </tr>\n",
       "    <tr>\n",
       "      <th>7294</th>\n",
       "      <td>20000223</td>\n",
       "      <td>非公開</td>\n",
       "      <td></td>\n",
       "      <td>2020</td>\n",
       "    </tr>\n",
       "    <tr>\n",
       "      <th>7295</th>\n",
       "      <td>20000255</td>\n",
       "      <td>非公開</td>\n",
       "      <td></td>\n",
       "      <td>2020</td>\n",
       "    </tr>\n",
       "    <tr>\n",
       "      <th>7296</th>\n",
       "      <td>20000265</td>\n",
       "      <td>非公開</td>\n",
       "      <td></td>\n",
       "      <td>2020</td>\n",
       "    </tr>\n",
       "    <tr>\n",
       "      <th>7297</th>\n",
       "      <td>20000307</td>\n",
       "      <td>非公開</td>\n",
       "      <td></td>\n",
       "      <td>2020</td>\n",
       "    </tr>\n",
       "  </tbody>\n",
       "</table>\n",
       "<p>7298 rows × 4 columns</p>\n",
       "</div>"
      ],
      "text/plain": [
       "        Number             Company   Name  Year\n",
       "0     18001016               日立製作所  相澤 裕千  2018\n",
       "1     20000228               日立製作所  相本 昌幸  2020\n",
       "2     17000582        ニッセイ情報テクノロジー  阿江 邦章  2017\n",
       "3     16001181      エヌ・ティ・ティ・コムウェア  青井 智史  2016\n",
       "4     20000365  三菱電機インフォメーションシステムズ  青井 晶哉  2020\n",
       "...        ...                 ...    ...   ...\n",
       "7293  20000221                 非公開         2020\n",
       "7294  20000223                 非公開         2020\n",
       "7295  20000255                 非公開         2020\n",
       "7296  20000265                 非公開         2020\n",
       "7297  20000307                 非公開         2020\n",
       "\n",
       "[7298 rows x 4 columns]"
      ]
     },
     "execution_count": 14,
     "metadata": {},
     "output_type": "execute_result"
    }
   ],
   "source": [
    "def get_year_by_number(num):\n",
    "    return 2000 + int(num[:2])\n",
    "\n",
    "df[\"Year\"] = df[\"Number\"].apply(get_year_by_number)\n",
    "df"
   ]
  },
  {
   "cell_type": "code",
   "execution_count": 15,
   "metadata": {},
   "outputs": [
    {
     "data": {
      "text/plain": [
       "2013       4\n",
       "2014       9\n",
       "2015     144\n",
       "2016    3814\n",
       "2017     544\n",
       "2018    1972\n",
       "2019     443\n",
       "2020     368\n",
       "Name: Year, dtype: int64"
      ]
     },
     "execution_count": 15,
     "metadata": {},
     "output_type": "execute_result"
    }
   ],
   "source": [
    "df[\"Year\"].value_counts().sort_index()"
   ]
  },
  {
   "cell_type": "code",
   "execution_count": 16,
   "metadata": {},
   "outputs": [
    {
     "data": {
      "image/png": "[encoded data removed]",
      "text/plain": [
       "<Figure size 576x288 with 1 Axes>"
      ]
     },
     "metadata": {
      "needs_background": "light"
     },
     "output_type": "display_data"
    }
   ],
   "source": [
    "fig = plt.figure(figsize=(8.0, 4.0))\n",
    "ax = fig.add_subplot(111)\n",
    "ax = df[\"Year\"].value_counts().plot(kind='bar')\n",
    "ax.grid(axis=\"y\")\n",
    "plt.title(\"CITP登録年度\")\n",
    "plt.show()"
   ]
  },
  {
   "cell_type": "markdown",
   "metadata": {},
   "source": [
    "### 内訳を見てみる"
   ]
  },
  {
   "cell_type": "code",
   "execution_count": 17,
   "metadata": {},
   "outputs": [
    {
     "data": {
      "text/plain": [
       "Year  Company            \n",
       "2013  フィリップス・ジャパン             1\n",
       "      富士通                     1\n",
       "      日立製作所                   2\n",
       "2014  Konami Gaming, Inc.     1\n",
       "      S&J                     1\n",
       "                             ..\n",
       "2020  中電シーティーアイ               1\n",
       "      吉川技術士事務所                1\n",
       "      日本電技                    1\n",
       "      日立製作所                  66\n",
       "      非公開                    34\n",
       "Length: 118, dtype: int64"
      ]
     },
     "execution_count": 17,
     "metadata": {},
     "output_type": "execute_result"
    }
   ],
   "source": [
    "df.groupby([\"Year\", \"Company\"]).size()"
   ]
  },
  {
   "cell_type": "markdown",
   "metadata": {},
   "source": [
    "### Plotly.pyで使いやすいようにデータを加工\n",
    "年と会社ごとに集計した結果をCountsというカラムの列にしてデータフレームに加工。"
   ]
  },
  {
   "cell_type": "code",
   "execution_count": 18,
   "metadata": {},
   "outputs": [
    {
     "data": {
      "text/html": [
       "<div>\n",
       "<style scoped>\n",
       "    .dataframe tbody tr th:only-of-type {\n",
       "        vertical-align: middle;\n",
       "    }\n",
       "\n",
       "    .dataframe tbody tr th {\n",
       "        vertical-align: top;\n",
       "    }\n",
       "\n",
       "    .dataframe thead th {\n",
       "        text-align: right;\n",
       "    }\n",
       "</style>\n",
       "<table border=\"1\" class=\"dataframe\">\n",
       "  <thead>\n",
       "    <tr style=\"text-align: right;\">\n",
       "      <th></th>\n",
       "      <th></th>\n",
       "      <th>Counts</th>\n",
       "    </tr>\n",
       "    <tr>\n",
       "      <th>Year</th>\n",
       "      <th>Company</th>\n",
       "      <th></th>\n",
       "    </tr>\n",
       "  </thead>\n",
       "  <tbody>\n",
       "    <tr>\n",
       "      <th rowspan=\"3\" valign=\"top\">2013</th>\n",
       "      <th>フィリップス・ジャパン</th>\n",
       "      <td>1</td>\n",
       "    </tr>\n",
       "    <tr>\n",
       "      <th>富士通</th>\n",
       "      <td>1</td>\n",
       "    </tr>\n",
       "    <tr>\n",
       "      <th>日立製作所</th>\n",
       "      <td>2</td>\n",
       "    </tr>\n",
       "    <tr>\n",
       "      <th rowspan=\"2\" valign=\"top\">2014</th>\n",
       "      <th>Konami Gaming, Inc.</th>\n",
       "      <td>1</td>\n",
       "    </tr>\n",
       "    <tr>\n",
       "      <th>S&amp;J</th>\n",
       "      <td>1</td>\n",
       "    </tr>\n",
       "    <tr>\n",
       "      <th>...</th>\n",
       "      <th>...</th>\n",
       "      <td>...</td>\n",
       "    </tr>\n",
       "    <tr>\n",
       "      <th rowspan=\"5\" valign=\"top\">2020</th>\n",
       "      <th>中電シーティーアイ</th>\n",
       "      <td>1</td>\n",
       "    </tr>\n",
       "    <tr>\n",
       "      <th>吉川技術士事務所</th>\n",
       "      <td>1</td>\n",
       "    </tr>\n",
       "    <tr>\n",
       "      <th>日本電技</th>\n",
       "      <td>1</td>\n",
       "    </tr>\n",
       "    <tr>\n",
       "      <th>日立製作所</th>\n",
       "      <td>66</td>\n",
       "    </tr>\n",
       "    <tr>\n",
       "      <th>非公開</th>\n",
       "      <td>34</td>\n",
       "    </tr>\n",
       "  </tbody>\n",
       "</table>\n",
       "<p>118 rows × 1 columns</p>\n",
       "</div>"
      ],
      "text/plain": [
       "                          Counts\n",
       "Year Company                    \n",
       "2013 フィリップス・ジャパン               1\n",
       "     富士通                       1\n",
       "     日立製作所                     2\n",
       "2014 Konami Gaming, Inc.       1\n",
       "     S&J                       1\n",
       "...                          ...\n",
       "2020 中電シーティーアイ                 1\n",
       "     吉川技術士事務所                  1\n",
       "     日本電技                      1\n",
       "     日立製作所                    66\n",
       "     非公開                      34\n",
       "\n",
       "[118 rows x 1 columns]"
      ]
     },
     "execution_count": 18,
     "metadata": {},
     "output_type": "execute_result"
    }
   ],
   "source": [
    "df_value_counts_by_year_company = df.groupby([\"Year\", \"Company\"]).size().to_frame(name=\"Counts\")\n",
    "df_value_counts_by_year_company"
   ]
  },
  {
   "cell_type": "markdown",
   "metadata": {},
   "source": [
    "### 「整然データ」にする\n",
    "各行に変数と観測値が含まれるように加工する。"
   ]
  },
  {
   "cell_type": "code",
   "execution_count": 19,
   "metadata": {},
   "outputs": [
    {
     "data": {
      "text/html": [
       "<div>\n",
       "<style scoped>\n",
       "    .dataframe tbody tr th:only-of-type {\n",
       "        vertical-align: middle;\n",
       "    }\n",
       "\n",
       "    .dataframe tbody tr th {\n",
       "        vertical-align: top;\n",
       "    }\n",
       "\n",
       "    .dataframe thead th {\n",
       "        text-align: right;\n",
       "    }\n",
       "</style>\n",
       "<table border=\"1\" class=\"dataframe\">\n",
       "  <thead>\n",
       "    <tr style=\"text-align: right;\">\n",
       "      <th></th>\n",
       "      <th>Year</th>\n",
       "      <th>Company</th>\n",
       "      <th>Counts</th>\n",
       "    </tr>\n",
       "  </thead>\n",
       "  <tbody>\n",
       "    <tr>\n",
       "      <th>0</th>\n",
       "      <td>2013</td>\n",
       "      <td>フィリップス・ジャパン</td>\n",
       "      <td>1</td>\n",
       "    </tr>\n",
       "    <tr>\n",
       "      <th>1</th>\n",
       "      <td>2013</td>\n",
       "      <td>富士通</td>\n",
       "      <td>1</td>\n",
       "    </tr>\n",
       "    <tr>\n",
       "      <th>2</th>\n",
       "      <td>2013</td>\n",
       "      <td>日立製作所</td>\n",
       "      <td>2</td>\n",
       "    </tr>\n",
       "    <tr>\n",
       "      <th>3</th>\n",
       "      <td>2014</td>\n",
       "      <td>Konami Gaming, Inc.</td>\n",
       "      <td>1</td>\n",
       "    </tr>\n",
       "    <tr>\n",
       "      <th>4</th>\n",
       "      <td>2014</td>\n",
       "      <td>S&amp;J</td>\n",
       "      <td>1</td>\n",
       "    </tr>\n",
       "    <tr>\n",
       "      <th>...</th>\n",
       "      <td>...</td>\n",
       "      <td>...</td>\n",
       "      <td>...</td>\n",
       "    </tr>\n",
       "    <tr>\n",
       "      <th>113</th>\n",
       "      <td>2020</td>\n",
       "      <td>中電シーティーアイ</td>\n",
       "      <td>1</td>\n",
       "    </tr>\n",
       "    <tr>\n",
       "      <th>114</th>\n",
       "      <td>2020</td>\n",
       "      <td>吉川技術士事務所</td>\n",
       "      <td>1</td>\n",
       "    </tr>\n",
       "    <tr>\n",
       "      <th>115</th>\n",
       "      <td>2020</td>\n",
       "      <td>日本電技</td>\n",
       "      <td>1</td>\n",
       "    </tr>\n",
       "    <tr>\n",
       "      <th>116</th>\n",
       "      <td>2020</td>\n",
       "      <td>日立製作所</td>\n",
       "      <td>66</td>\n",
       "    </tr>\n",
       "    <tr>\n",
       "      <th>117</th>\n",
       "      <td>2020</td>\n",
       "      <td>非公開</td>\n",
       "      <td>34</td>\n",
       "    </tr>\n",
       "  </tbody>\n",
       "</table>\n",
       "<p>118 rows × 3 columns</p>\n",
       "</div>"
      ],
      "text/plain": [
       "     Year              Company  Counts\n",
       "0    2013          フィリップス・ジャパン       1\n",
       "1    2013                  富士通       1\n",
       "2    2013                日立製作所       2\n",
       "3    2014  Konami Gaming, Inc.       1\n",
       "4    2014                  S&J       1\n",
       "..    ...                  ...     ...\n",
       "113  2020            中電シーティーアイ       1\n",
       "114  2020             吉川技術士事務所       1\n",
       "115  2020                 日本電技       1\n",
       "116  2020                日立製作所      66\n",
       "117  2020                  非公開      34\n",
       "\n",
       "[118 rows x 3 columns]"
      ]
     },
     "execution_count": 19,
     "metadata": {},
     "output_type": "execute_result"
    }
   ],
   "source": [
    "df_for_plotly = df_value_counts_by_year_company.reset_index()\n",
    "df_for_plotly"
   ]
  },
  {
   "cell_type": "markdown",
   "metadata": {},
   "source": [
    "### Plotly"
   ]
  },
  {
   "cell_type": "code",
   "execution_count": 25,
   "metadata": {},
   "outputs": [
    {
     "data": {
      "application/vnd.plotly.v1+json": {
       "config": {
        "plotlyServerURL": "https://plot.ly"
       },
       "data": [
        {
         "alignmentgroup": "True",
         "hovertemplate": "Company=フィリップス・ジャパン<br>Year=%{x}<br>Counts=%{y}<extra></extra>",
         "legendgroup": "フィリップス・ジャパン",
         "marker": {
          "color": "#636efa"
         },
         "name": "フィリップス・ジャパン",
         "offsetgroup": "フィリップス・ジャパン",
         "orientation": "v",
         "showlegend": true,
         "textposition": "auto",
         "type": "bar",
         "x": [
          2013
         ],
         "xaxis": "x",
         "y": [
          1
         ],
         "yaxis": "y"
        },
        {
         "alignmentgroup": "True",
         "hovertemplate": "Company=富士通<br>Year=%{x}<br>Counts=%{y}<extra></extra>",
         "legendgroup": "富士通",
         "marker": {
          "color": "#EF553B"
         },
         "name": "富士通",
         "offsetgroup": "富士通",
         "orientation": "v",
         "showlegend": true,
         "textposition": "auto",
         "type": "bar",
         "x": [
          2013,
          2019
         ],
         "xaxis": "x",
         "y": [
          1,
          3
         ],
         "yaxis": "y"
        },
        {
         "alignmentgroup": "True",
         "hovertemplate": "Company=日立製作所<br>Year=%{x}<br>Counts=%{y}<extra></extra>",
         "legendgroup": "日立製作所",
         "marker": {
          "color": "#00cc96"
         },
         "name": "日立製作所",
         "offsetgroup": "日立製作所",
         "orientation": "v",
         "showlegend": true,
         "textposition": "auto",
         "type": "bar",
         "x": [
          2013,
          2018,
          2019,
          2020
         ],
         "xaxis": "x",
         "y": [
          2,
          319,
          2,
          66
         ],
         "yaxis": "y"
        },
        {
         "alignmentgroup": "True",
         "hovertemplate": "Company=Konami Gaming, Inc.<br>Year=%{x}<br>Counts=%{y}<extra></extra>",
         "legendgroup": "Konami Gaming, Inc.",
         "marker": {
          "color": "#ab63fa"
         },
         "name": "Konami Gaming, Inc.",
         "offsetgroup": "Konami Gaming, Inc.",
         "orientation": "v",
         "showlegend": true,
         "textposition": "auto",
         "type": "bar",
         "x": [
          2014
         ],
         "xaxis": "x",
         "y": [
          1
         ],
         "yaxis": "y"
        },
        {
         "alignmentgroup": "True",
         "hovertemplate": "Company=S&J<br>Year=%{x}<br>Counts=%{y}<extra></extra>",
         "legendgroup": "S&J",
         "marker": {
          "color": "#FFA15A"
         },
         "name": "S&J",
         "offsetgroup": "S&J",
         "orientation": "v",
         "showlegend": true,
         "textposition": "auto",
         "type": "bar",
         "x": [
          2014
         ],
         "xaxis": "x",
         "y": [
          1
         ],
         "yaxis": "y"
        },
        {
         "alignmentgroup": "True",
         "hovertemplate": "Company=ソフトバンク<br>Year=%{x}<br>Counts=%{y}<extra></extra>",
         "legendgroup": "ソフトバンク",
         "marker": {
          "color": "#19d3f3"
         },
         "name": "ソフトバンク",
         "offsetgroup": "ソフトバンク",
         "orientation": "v",
         "showlegend": true,
         "textposition": "auto",
         "type": "bar",
         "x": [
          2014
         ],
         "xaxis": "x",
         "y": [
          1
         ],
         "yaxis": "y"
        },
        {
         "alignmentgroup": "True",
         "hovertemplate": "Company=ラック<br>Year=%{x}<br>Counts=%{y}<extra></extra>",
         "legendgroup": "ラック",
         "marker": {
          "color": "#FF6692"
         },
         "name": "ラック",
         "offsetgroup": "ラック",
         "orientation": "v",
         "showlegend": true,
         "textposition": "auto",
         "type": "bar",
         "x": [
          2014,
          2015
         ],
         "xaxis": "x",
         "y": [
          1,
          1
         ],
         "yaxis": "y"
        },
        {
         "alignmentgroup": "True",
         "hovertemplate": "Company=中電シーティーアイ<br>Year=%{x}<br>Counts=%{y}<extra></extra>",
         "legendgroup": "中電シーティーアイ",
         "marker": {
          "color": "#B6E880"
         },
         "name": "中電シーティーアイ",
         "offsetgroup": "中電シーティーアイ",
         "orientation": "v",
         "showlegend": true,
         "textposition": "auto",
         "type": "bar",
         "x": [
          2014,
          2015,
          2016,
          2017,
          2018,
          2019,
          2020
         ],
         "xaxis": "x",
         "y": [
          2,
          2,
          5,
          5,
          3,
          1,
          1
         ],
         "yaxis": "y"
        },
        {
         "alignmentgroup": "True",
         "hovertemplate": "Company=非公開<br>Year=%{x}<br>Counts=%{y}<extra></extra>",
         "legendgroup": "非公開",
         "marker": {
          "color": "#FF97FF"
         },
         "name": "非公開",
         "offsetgroup": "非公開",
         "orientation": "v",
         "showlegend": true,
         "textposition": "auto",
         "type": "bar",
         "x": [
          2014,
          2016,
          2017,
          2018,
          2019,
          2020
         ],
         "xaxis": "x",
         "y": [
          3,
          3299,
          238,
          1388,
          104,
          34
         ],
         "yaxis": "y"
        },
        {
         "alignmentgroup": "True",
         "hovertemplate": "Company=NEC<br>Year=%{x}<br>Counts=%{y}<extra></extra>",
         "legendgroup": "NEC",
         "marker": {
          "color": "#FECB52"
         },
         "name": "NEC",
         "offsetgroup": "NEC",
         "orientation": "v",
         "showlegend": true,
         "textposition": "auto",
         "type": "bar",
         "x": [
          2015,
          2016,
          2017
         ],
         "xaxis": "x",
         "y": [
          1,
          1,
          1
         ],
         "yaxis": "y"
        },
        {
         "alignmentgroup": "True",
         "hovertemplate": "Company=ハイマックス<br>Year=%{x}<br>Counts=%{y}<extra></extra>",
         "legendgroup": "ハイマックス",
         "marker": {
          "color": "#636efa"
         },
         "name": "ハイマックス",
         "offsetgroup": "ハイマックス",
         "orientation": "v",
         "showlegend": true,
         "textposition": "auto",
         "type": "bar",
         "x": [
          2015
         ],
         "xaxis": "x",
         "y": [
          1
         ],
         "yaxis": "y"
        },
        {
         "alignmentgroup": "True",
         "hovertemplate": "Company=三菱電機インフォメーションシステムズ<br>Year=%{x}<br>Counts=%{y}<extra></extra>",
         "legendgroup": "三菱電機インフォメーションシステムズ",
         "marker": {
          "color": "#EF553B"
         },
         "name": "三菱電機インフォメーションシステムズ",
         "offsetgroup": "三菱電機インフォメーションシステムズ",
         "orientation": "v",
         "showlegend": true,
         "textposition": "auto",
         "type": "bar",
         "x": [
          2015,
          2016,
          2018,
          2019,
          2020
         ],
         "xaxis": "x",
         "y": [
          138,
          28,
          54,
          50,
          38
         ],
         "yaxis": "y"
        },
        {
         "alignmentgroup": "True",
         "hovertemplate": "Company=野村総合研究所<br>Year=%{x}<br>Counts=%{y}<extra></extra>",
         "legendgroup": "野村総合研究所",
         "marker": {
          "color": "#00cc96"
         },
         "name": "野村総合研究所",
         "offsetgroup": "野村総合研究所",
         "orientation": "v",
         "showlegend": true,
         "textposition": "auto",
         "type": "bar",
         "x": [
          2015,
          2016
         ],
         "xaxis": "x",
         "y": [
          1,
          1
         ],
         "yaxis": "y"
        },
        {
         "alignmentgroup": "True",
         "hovertemplate": "Company=NECソリューションイノベータ<br>Year=%{x}<br>Counts=%{y}<extra></extra>",
         "legendgroup": "NECソリューションイノベータ",
         "marker": {
          "color": "#ab63fa"
         },
         "name": "NECソリューションイノベータ",
         "offsetgroup": "NECソリューションイノベータ",
         "orientation": "v",
         "showlegend": true,
         "textposition": "auto",
         "type": "bar",
         "x": [
          2016
         ],
         "xaxis": "x",
         "y": [
          1
         ],
         "yaxis": "y"
        },
        {
         "alignmentgroup": "True",
         "hovertemplate": "Company=インテック<br>Year=%{x}<br>Counts=%{y}<extra></extra>",
         "legendgroup": "インテック",
         "marker": {
          "color": "#FFA15A"
         },
         "name": "インテック",
         "offsetgroup": "インテック",
         "orientation": "v",
         "showlegend": true,
         "textposition": "auto",
         "type": "bar",
         "x": [
          2016
         ],
         "xaxis": "x",
         "y": [
          2
         ],
         "yaxis": "y"
        },
        {
         "alignmentgroup": "True",
         "hovertemplate": "Company=エヌ・ティ・ティ・コムウェア<br>Year=%{x}<br>Counts=%{y}<extra></extra>",
         "legendgroup": "エヌ・ティ・ティ・コムウェア",
         "marker": {
          "color": "#19d3f3"
         },
         "name": "エヌ・ティ・ティ・コムウェア",
         "offsetgroup": "エヌ・ティ・ティ・コムウェア",
         "orientation": "v",
         "showlegend": true,
         "textposition": "auto",
         "type": "bar",
         "x": [
          2016,
          2017,
          2018,
          2019,
          2020
         ],
         "xaxis": "x",
         "y": [
          308,
          150,
          148,
          140,
          107
         ],
         "yaxis": "y"
        },
        {
         "alignmentgroup": "True",
         "hovertemplate": "Company=ニッセイ情報テクノロジー<br>Year=%{x}<br>Counts=%{y}<extra></extra>",
         "legendgroup": "ニッセイ情報テクノロジー",
         "marker": {
          "color": "#FF6692"
         },
         "name": "ニッセイ情報テクノロジー",
         "offsetgroup": "ニッセイ情報テクノロジー",
         "orientation": "v",
         "showlegend": true,
         "textposition": "auto",
         "type": "bar",
         "x": [
          2016,
          2017,
          2018,
          2019,
          2020
         ],
         "xaxis": "x",
         "y": [
          169,
          110,
          48,
          61,
          57
         ],
         "yaxis": "y"
        },
        {
         "alignmentgroup": "True",
         "hovertemplate": "Company=CIJ<br>Year=%{x}<br>Counts=%{y}<extra></extra>",
         "legendgroup": "CIJ",
         "marker": {
          "color": "#B6E880"
         },
         "name": "CIJ",
         "offsetgroup": "CIJ",
         "orientation": "v",
         "showlegend": true,
         "textposition": "auto",
         "type": "bar",
         "x": [
          2017
         ],
         "xaxis": "x",
         "y": [
          1
         ],
         "yaxis": "y"
        },
        {
         "alignmentgroup": "True",
         "hovertemplate": "Company=NTTテクノクロス<br>Year=%{x}<br>Counts=%{y}<extra></extra>",
         "legendgroup": "NTTテクノクロス",
         "marker": {
          "color": "#FF97FF"
         },
         "name": "NTTテクノクロス",
         "offsetgroup": "NTTテクノクロス",
         "orientation": "v",
         "showlegend": true,
         "textposition": "auto",
         "type": "bar",
         "x": [
          2017,
          2018,
          2019
         ],
         "xaxis": "x",
         "y": [
          38,
          10,
          9
         ],
         "yaxis": "y"
        },
        {
         "alignmentgroup": "True",
         "hovertemplate": "Company=三菱電機<br>Year=%{x}<br>Counts=%{y}<extra></extra>",
         "legendgroup": "三菱電機",
         "marker": {
          "color": "#FECB52"
         },
         "name": "三菱電機",
         "offsetgroup": "三菱電機",
         "orientation": "v",
         "showlegend": true,
         "textposition": "auto",
         "type": "bar",
         "x": [
          2017
         ],
         "xaxis": "x",
         "y": [
          1
         ],
         "yaxis": "y"
        },
        {
         "alignmentgroup": "True",
         "hovertemplate": "Company=個人<br>Year=%{x}<br>Counts=%{y}<extra></extra>",
         "legendgroup": "個人",
         "marker": {
          "color": "#636efa"
         },
         "name": "個人",
         "offsetgroup": "個人",
         "orientation": "v",
         "showlegend": true,
         "textposition": "auto",
         "type": "bar",
         "x": [
          2018
         ],
         "xaxis": "x",
         "y": [
          1
         ],
         "yaxis": "y"
        },
        {
         "alignmentgroup": "True",
         "hovertemplate": "Company=大阪府警察本部<br>Year=%{x}<br>Counts=%{y}<extra></extra>",
         "legendgroup": "大阪府警察本部",
         "marker": {
          "color": "#EF553B"
         },
         "name": "大阪府警察本部",
         "offsetgroup": "大阪府警察本部",
         "orientation": "v",
         "showlegend": true,
         "textposition": "auto",
         "type": "bar",
         "x": [
          2018
         ],
         "xaxis": "x",
         "y": [
          1
         ],
         "yaxis": "y"
        },
        {
         "alignmentgroup": "True",
         "hovertemplate": "Company=CCアーキテクト<br>Year=%{x}<br>Counts=%{y}<extra></extra>",
         "legendgroup": "CCアーキテクト",
         "marker": {
          "color": "#00cc96"
         },
         "name": "CCアーキテクト",
         "offsetgroup": "CCアーキテクト",
         "orientation": "v",
         "showlegend": true,
         "textposition": "auto",
         "type": "bar",
         "x": [
          2019
         ],
         "xaxis": "x",
         "y": [
          1
         ],
         "yaxis": "y"
        },
        {
         "alignmentgroup": "True",
         "hovertemplate": "Company=JCCソフト<br>Year=%{x}<br>Counts=%{y}<extra></extra>",
         "legendgroup": "JCCソフト",
         "marker": {
          "color": "#ab63fa"
         },
         "name": "JCCソフト",
         "offsetgroup": "JCCソフト",
         "orientation": "v",
         "showlegend": true,
         "textposition": "auto",
         "type": "bar",
         "x": [
          2019
         ],
         "xaxis": "x",
         "y": [
          1
         ],
         "yaxis": "y"
        },
        {
         "alignmentgroup": "True",
         "hovertemplate": "Company=Ovum Software<br>Year=%{x}<br>Counts=%{y}<extra></extra>",
         "legendgroup": "Ovum Software",
         "marker": {
          "color": "#FFA15A"
         },
         "name": "Ovum Software",
         "offsetgroup": "Ovum Software",
         "orientation": "v",
         "showlegend": true,
         "textposition": "auto",
         "type": "bar",
         "x": [
          2019
         ],
         "xaxis": "x",
         "y": [
          1
         ],
         "yaxis": "y"
        },
        {
         "alignmentgroup": "True",
         "hovertemplate": "Company=SHIFT<br>Year=%{x}<br>Counts=%{y}<extra></extra>",
         "legendgroup": "SHIFT",
         "marker": {
          "color": "#19d3f3"
         },
         "name": "SHIFT",
         "offsetgroup": "SHIFT",
         "orientation": "v",
         "showlegend": true,
         "textposition": "auto",
         "type": "bar",
         "x": [
          2019
         ],
         "xaxis": "x",
         "y": [
          1
         ],
         "yaxis": "y"
        },
        {
         "alignmentgroup": "True",
         "hovertemplate": "Company=みずほ情報総研<br>Year=%{x}<br>Counts=%{y}<extra></extra>",
         "legendgroup": "みずほ情報総研",
         "marker": {
          "color": "#FF6692"
         },
         "name": "みずほ情報総研",
         "offsetgroup": "みずほ情報総研",
         "orientation": "v",
         "showlegend": true,
         "textposition": "auto",
         "type": "bar",
         "x": [
          2019,
          2020
         ],
         "xaxis": "x",
         "y": [
          15,
          3
         ],
         "yaxis": "y"
        },
        {
         "alignmentgroup": "True",
         "hovertemplate": "Company=みずほ銀行<br>Year=%{x}<br>Counts=%{y}<extra></extra>",
         "legendgroup": "みずほ銀行",
         "marker": {
          "color": "#B6E880"
         },
         "name": "みずほ銀行",
         "offsetgroup": "みずほ銀行",
         "orientation": "v",
         "showlegend": true,
         "textposition": "auto",
         "type": "bar",
         "x": [
          2019
         ],
         "xaxis": "x",
         "y": [
          1
         ],
         "yaxis": "y"
        },
        {
         "alignmentgroup": "True",
         "hovertemplate": "Company=アイテック阪急阪神<br>Year=%{x}<br>Counts=%{y}<extra></extra>",
         "legendgroup": "アイテック阪急阪神",
         "marker": {
          "color": "#FF97FF"
         },
         "name": "アイテック阪急阪神",
         "offsetgroup": "アイテック阪急阪神",
         "orientation": "v",
         "showlegend": true,
         "textposition": "auto",
         "type": "bar",
         "x": [
          2019
         ],
         "xaxis": "x",
         "y": [
          1
         ],
         "yaxis": "y"
        },
        {
         "alignmentgroup": "True",
         "hovertemplate": "Company=アジア航測<br>Year=%{x}<br>Counts=%{y}<extra></extra>",
         "legendgroup": "アジア航測",
         "marker": {
          "color": "#FECB52"
         },
         "name": "アジア航測",
         "offsetgroup": "アジア航測",
         "orientation": "v",
         "showlegend": true,
         "textposition": "auto",
         "type": "bar",
         "x": [
          2019
         ],
         "xaxis": "x",
         "y": [
          1
         ],
         "yaxis": "y"
        },
        {
         "alignmentgroup": "True",
         "hovertemplate": "Company=インテグレーションテクノロジー<br>Year=%{x}<br>Counts=%{y}<extra></extra>",
         "legendgroup": "インテグレーションテクノロジー",
         "marker": {
          "color": "#636efa"
         },
         "name": "インテグレーションテクノロジー",
         "offsetgroup": "インテグレーションテクノロジー",
         "orientation": "v",
         "showlegend": true,
         "textposition": "auto",
         "type": "bar",
         "x": [
          2019
         ],
         "xaxis": "x",
         "y": [
          1
         ],
         "yaxis": "y"
        },
        {
         "alignmentgroup": "True",
         "hovertemplate": "Company=イー・フォース<br>Year=%{x}<br>Counts=%{y}<extra></extra>",
         "legendgroup": "イー・フォース",
         "marker": {
          "color": "#EF553B"
         },
         "name": "イー・フォース",
         "offsetgroup": "イー・フォース",
         "orientation": "v",
         "showlegend": true,
         "textposition": "auto",
         "type": "bar",
         "x": [
          2019
         ],
         "xaxis": "x",
         "y": [
          1
         ],
         "yaxis": "y"
        },
        {
         "alignmentgroup": "True",
         "hovertemplate": "Company=エクセディア・コンサルティング<br>Year=%{x}<br>Counts=%{y}<extra></extra>",
         "legendgroup": "エクセディア・コンサルティング",
         "marker": {
          "color": "#00cc96"
         },
         "name": "エクセディア・コンサルティング",
         "offsetgroup": "エクセディア・コンサルティング",
         "orientation": "v",
         "showlegend": true,
         "textposition": "auto",
         "type": "bar",
         "x": [
          2019
         ],
         "xaxis": "x",
         "y": [
          1
         ],
         "yaxis": "y"
        },
        {
         "alignmentgroup": "True",
         "hovertemplate": "Company=エリクソン・ジャパン<br>Year=%{x}<br>Counts=%{y}<extra></extra>",
         "legendgroup": "エリクソン・ジャパン",
         "marker": {
          "color": "#ab63fa"
         },
         "name": "エリクソン・ジャパン",
         "offsetgroup": "エリクソン・ジャパン",
         "orientation": "v",
         "showlegend": true,
         "textposition": "auto",
         "type": "bar",
         "x": [
          2019
         ],
         "xaxis": "x",
         "y": [
          1
         ],
         "yaxis": "y"
        },
        {
         "alignmentgroup": "True",
         "hovertemplate": "Company=クリモトビジネスアソシエイツ<br>Year=%{x}<br>Counts=%{y}<extra></extra>",
         "legendgroup": "クリモトビジネスアソシエイツ",
         "marker": {
          "color": "#FFA15A"
         },
         "name": "クリモトビジネスアソシエイツ",
         "offsetgroup": "クリモトビジネスアソシエイツ",
         "orientation": "v",
         "showlegend": true,
         "textposition": "auto",
         "type": "bar",
         "x": [
          2019
         ],
         "xaxis": "x",
         "y": [
          1
         ],
         "yaxis": "y"
        },
        {
         "alignmentgroup": "True",
         "hovertemplate": "Company=コンピュートロン<br>Year=%{x}<br>Counts=%{y}<extra></extra>",
         "legendgroup": "コンピュートロン",
         "marker": {
          "color": "#19d3f3"
         },
         "name": "コンピュートロン",
         "offsetgroup": "コンピュートロン",
         "orientation": "v",
         "showlegend": true,
         "textposition": "auto",
         "type": "bar",
         "x": [
          2019
         ],
         "xaxis": "x",
         "y": [
          1
         ],
         "yaxis": "y"
        },
        {
         "alignmentgroup": "True",
         "hovertemplate": "Company=スクウェア・エニックス<br>Year=%{x}<br>Counts=%{y}<extra></extra>",
         "legendgroup": "スクウェア・エニックス",
         "marker": {
          "color": "#FF6692"
         },
         "name": "スクウェア・エニックス",
         "offsetgroup": "スクウェア・エニックス",
         "orientation": "v",
         "showlegend": true,
         "textposition": "auto",
         "type": "bar",
         "x": [
          2019
         ],
         "xaxis": "x",
         "y": [
          1
         ],
         "yaxis": "y"
        },
        {
         "alignmentgroup": "True",
         "hovertemplate": "Company=ソフトウェアコントロール<br>Year=%{x}<br>Counts=%{y}<extra></extra>",
         "legendgroup": "ソフトウェアコントロール",
         "marker": {
          "color": "#B6E880"
         },
         "name": "ソフトウェアコントロール",
         "offsetgroup": "ソフトウェアコントロール",
         "orientation": "v",
         "showlegend": true,
         "textposition": "auto",
         "type": "bar",
         "x": [
          2019
         ],
         "xaxis": "x",
         "y": [
          1
         ],
         "yaxis": "y"
        },
        {
         "alignmentgroup": "True",
         "hovertemplate": "Company=ソフトバンク・テクノロジー<br>Year=%{x}<br>Counts=%{y}<extra></extra>",
         "legendgroup": "ソフトバンク・テクノロジー",
         "marker": {
          "color": "#FF97FF"
         },
         "name": "ソフトバンク・テクノロジー",
         "offsetgroup": "ソフトバンク・テクノロジー",
         "orientation": "v",
         "showlegend": true,
         "textposition": "auto",
         "type": "bar",
         "x": [
          2019
         ],
         "xaxis": "x",
         "y": [
          1
         ],
         "yaxis": "y"
        },
        {
         "alignmentgroup": "True",
         "hovertemplate": "Company=デンソー<br>Year=%{x}<br>Counts=%{y}<extra></extra>",
         "legendgroup": "デンソー",
         "marker": {
          "color": "#FECB52"
         },
         "name": "デンソー",
         "offsetgroup": "デンソー",
         "orientation": "v",
         "showlegend": true,
         "textposition": "auto",
         "type": "bar",
         "x": [
          2019
         ],
         "xaxis": "x",
         "y": [
          1
         ],
         "yaxis": "y"
        },
        {
         "alignmentgroup": "True",
         "hovertemplate": "Company=トヨタ自動車<br>Year=%{x}<br>Counts=%{y}<extra></extra>",
         "legendgroup": "トヨタ自動車",
         "marker": {
          "color": "#636efa"
         },
         "name": "トヨタ自動車",
         "offsetgroup": "トヨタ自動車",
         "orientation": "v",
         "showlegend": true,
         "textposition": "auto",
         "type": "bar",
         "x": [
          2019
         ],
         "xaxis": "x",
         "y": [
          1
         ],
         "yaxis": "y"
        },
        {
         "alignmentgroup": "True",
         "hovertemplate": "Company=ハルコム<br>Year=%{x}<br>Counts=%{y}<extra></extra>",
         "legendgroup": "ハルコム",
         "marker": {
          "color": "#EF553B"
         },
         "name": "ハルコム",
         "offsetgroup": "ハルコム",
         "orientation": "v",
         "showlegend": true,
         "textposition": "auto",
         "type": "bar",
         "x": [
          2019
         ],
         "xaxis": "x",
         "y": [
          1
         ],
         "yaxis": "y"
        },
        {
         "alignmentgroup": "True",
         "hovertemplate": "Company=ファースト<br>Year=%{x}<br>Counts=%{y}<extra></extra>",
         "legendgroup": "ファースト",
         "marker": {
          "color": "#00cc96"
         },
         "name": "ファースト",
         "offsetgroup": "ファースト",
         "orientation": "v",
         "showlegend": true,
         "textposition": "auto",
         "type": "bar",
         "x": [
          2019
         ],
         "xaxis": "x",
         "y": [
          1
         ],
         "yaxis": "y"
        },
        {
         "alignmentgroup": "True",
         "hovertemplate": "Company=マクニカ<br>Year=%{x}<br>Counts=%{y}<extra></extra>",
         "legendgroup": "マクニカ",
         "marker": {
          "color": "#ab63fa"
         },
         "name": "マクニカ",
         "offsetgroup": "マクニカ",
         "orientation": "v",
         "showlegend": true,
         "textposition": "auto",
         "type": "bar",
         "x": [
          2019
         ],
         "xaxis": "x",
         "y": [
          1
         ],
         "yaxis": "y"
        },
        {
         "alignmentgroup": "True",
         "hovertemplate": "Company=リコー<br>Year=%{x}<br>Counts=%{y}<extra></extra>",
         "legendgroup": "リコー",
         "marker": {
          "color": "#FFA15A"
         },
         "name": "リコー",
         "offsetgroup": "リコー",
         "orientation": "v",
         "showlegend": true,
         "textposition": "auto",
         "type": "bar",
         "x": [
          2019,
          2020
         ],
         "xaxis": "x",
         "y": [
          1,
          2
         ],
         "yaxis": "y"
        },
        {
         "alignmentgroup": "True",
         "hovertemplate": "Company=三井物産セキュアディレクション<br>Year=%{x}<br>Counts=%{y}<extra></extra>",
         "legendgroup": "三井物産セキュアディレクション",
         "marker": {
          "color": "#19d3f3"
         },
         "name": "三井物産セキュアディレクション",
         "offsetgroup": "三井物産セキュアディレクション",
         "orientation": "v",
         "showlegend": true,
         "textposition": "auto",
         "type": "bar",
         "x": [
          2019
         ],
         "xaxis": "x",
         "y": [
          1
         ],
         "yaxis": "y"
        },
        {
         "alignmentgroup": "True",
         "hovertemplate": "Company=三菱電機マイコン機器ソフトウエア<br>Year=%{x}<br>Counts=%{y}<extra></extra>",
         "legendgroup": "三菱電機マイコン機器ソフトウエア",
         "marker": {
          "color": "#FF6692"
         },
         "name": "三菱電機マイコン機器ソフトウエア",
         "offsetgroup": "三菱電機マイコン機器ソフトウエア",
         "orientation": "v",
         "showlegend": true,
         "textposition": "auto",
         "type": "bar",
         "x": [
          2019
         ],
         "xaxis": "x",
         "y": [
          1
         ],
         "yaxis": "y"
        },
        {
         "alignmentgroup": "True",
         "hovertemplate": "Company=京セラ<br>Year=%{x}<br>Counts=%{y}<extra></extra>",
         "legendgroup": "京セラ",
         "marker": {
          "color": "#B6E880"
         },
         "name": "京セラ",
         "offsetgroup": "京セラ",
         "orientation": "v",
         "showlegend": true,
         "textposition": "auto",
         "type": "bar",
         "x": [
          2019
         ],
         "xaxis": "x",
         "y": [
          1
         ],
         "yaxis": "y"
        },
        {
         "alignmentgroup": "True",
         "hovertemplate": "Company=力武健次技術士事務所<br>Year=%{x}<br>Counts=%{y}<extra></extra>",
         "legendgroup": "力武健次技術士事務所",
         "marker": {
          "color": "#FF97FF"
         },
         "name": "力武健次技術士事務所",
         "offsetgroup": "力武健次技術士事務所",
         "orientation": "v",
         "showlegend": true,
         "textposition": "auto",
         "type": "bar",
         "x": [
          2019
         ],
         "xaxis": "x",
         "y": [
          1
         ],
         "yaxis": "y"
        },
        {
         "alignmentgroup": "True",
         "hovertemplate": "Company=坂東技術士事務所<br>Year=%{x}<br>Counts=%{y}<extra></extra>",
         "legendgroup": "坂東技術士事務所",
         "marker": {
          "color": "#FECB52"
         },
         "name": "坂東技術士事務所",
         "offsetgroup": "坂東技術士事務所",
         "orientation": "v",
         "showlegend": true,
         "textposition": "auto",
         "type": "bar",
         "x": [
          2019
         ],
         "xaxis": "x",
         "y": [
          1
         ],
         "yaxis": "y"
        },
        {
         "alignmentgroup": "True",
         "hovertemplate": "Company=大脇技術士事務所<br>Year=%{x}<br>Counts=%{y}<extra></extra>",
         "legendgroup": "大脇技術士事務所",
         "marker": {
          "color": "#636efa"
         },
         "name": "大脇技術士事務所",
         "offsetgroup": "大脇技術士事務所",
         "orientation": "v",
         "showlegend": true,
         "textposition": "auto",
         "type": "bar",
         "x": [
          2019
         ],
         "xaxis": "x",
         "y": [
          1
         ],
         "yaxis": "y"
        },
        {
         "alignmentgroup": "True",
         "hovertemplate": "Company=太平洋工業<br>Year=%{x}<br>Counts=%{y}<extra></extra>",
         "legendgroup": "太平洋工業",
         "marker": {
          "color": "#EF553B"
         },
         "name": "太平洋工業",
         "offsetgroup": "太平洋工業",
         "orientation": "v",
         "showlegend": true,
         "textposition": "auto",
         "type": "bar",
         "x": [
          2019
         ],
         "xaxis": "x",
         "y": [
          1
         ],
         "yaxis": "y"
        },
        {
         "alignmentgroup": "True",
         "hovertemplate": "Company=山下設計<br>Year=%{x}<br>Counts=%{y}<extra></extra>",
         "legendgroup": "山下設計",
         "marker": {
          "color": "#00cc96"
         },
         "name": "山下設計",
         "offsetgroup": "山下設計",
         "orientation": "v",
         "showlegend": true,
         "textposition": "auto",
         "type": "bar",
         "x": [
          2019
         ],
         "xaxis": "x",
         "y": [
          1
         ],
         "yaxis": "y"
        },
        {
         "alignmentgroup": "True",
         "hovertemplate": "Company=山脇学園<br>Year=%{x}<br>Counts=%{y}<extra></extra>",
         "legendgroup": "山脇学園",
         "marker": {
          "color": "#ab63fa"
         },
         "name": "山脇学園",
         "offsetgroup": "山脇学園",
         "orientation": "v",
         "showlegend": true,
         "textposition": "auto",
         "type": "bar",
         "x": [
          2019
         ],
         "xaxis": "x",
         "y": [
          1
         ],
         "yaxis": "y"
        },
        {
         "alignmentgroup": "True",
         "hovertemplate": "Company=日本工営<br>Year=%{x}<br>Counts=%{y}<extra></extra>",
         "legendgroup": "日本工営",
         "marker": {
          "color": "#FFA15A"
         },
         "name": "日本工営",
         "offsetgroup": "日本工営",
         "orientation": "v",
         "showlegend": true,
         "textposition": "auto",
         "type": "bar",
         "x": [
          2019
         ],
         "xaxis": "x",
         "y": [
          2
         ],
         "yaxis": "y"
        },
        {
         "alignmentgroup": "True",
         "hovertemplate": "Company=日本ＮＣＲ<br>Year=%{x}<br>Counts=%{y}<extra></extra>",
         "legendgroup": "日本ＮＣＲ",
         "marker": {
          "color": "#19d3f3"
         },
         "name": "日本ＮＣＲ",
         "offsetgroup": "日本ＮＣＲ",
         "orientation": "v",
         "showlegend": true,
         "textposition": "auto",
         "type": "bar",
         "x": [
          2019
         ],
         "xaxis": "x",
         "y": [
          1
         ],
         "yaxis": "y"
        },
        {
         "alignmentgroup": "True",
         "hovertemplate": "Company=日立システムズ<br>Year=%{x}<br>Counts=%{y}<extra></extra>",
         "legendgroup": "日立システムズ",
         "marker": {
          "color": "#FF6692"
         },
         "name": "日立システムズ",
         "offsetgroup": "日立システムズ",
         "orientation": "v",
         "showlegend": true,
         "textposition": "auto",
         "type": "bar",
         "x": [
          2019
         ],
         "xaxis": "x",
         "y": [
          1
         ],
         "yaxis": "y"
        },
        {
         "alignmentgroup": "True",
         "hovertemplate": "Company=日立ソリューションズ・クリエイト<br>Year=%{x}<br>Counts=%{y}<extra></extra>",
         "legendgroup": "日立ソリューションズ・クリエイト",
         "marker": {
          "color": "#B6E880"
         },
         "name": "日立ソリューションズ・クリエイト",
         "offsetgroup": "日立ソリューションズ・クリエイト",
         "orientation": "v",
         "showlegend": true,
         "textposition": "auto",
         "type": "bar",
         "x": [
          2019
         ],
         "xaxis": "x",
         "y": [
          1
         ],
         "yaxis": "y"
        },
        {
         "alignmentgroup": "True",
         "hovertemplate": "Company=日立産機システム<br>Year=%{x}<br>Counts=%{y}<extra></extra>",
         "legendgroup": "日立産機システム",
         "marker": {
          "color": "#FF97FF"
         },
         "name": "日立産機システム",
         "offsetgroup": "日立産機システム",
         "orientation": "v",
         "showlegend": true,
         "textposition": "auto",
         "type": "bar",
         "x": [
          2019
         ],
         "xaxis": "x",
         "y": [
          1
         ],
         "yaxis": "y"
        },
        {
         "alignmentgroup": "True",
         "hovertemplate": "Company=東京ガスｉネット<br>Year=%{x}<br>Counts=%{y}<extra></extra>",
         "legendgroup": "東京ガスｉネット",
         "marker": {
          "color": "#FECB52"
         },
         "name": "東京ガスｉネット",
         "offsetgroup": "東京ガスｉネット",
         "orientation": "v",
         "showlegend": true,
         "textposition": "auto",
         "type": "bar",
         "x": [
          2019
         ],
         "xaxis": "x",
         "y": [
          1
         ],
         "yaxis": "y"
        },
        {
         "alignmentgroup": "True",
         "hovertemplate": "Company=東京工業高等専門学校<br>Year=%{x}<br>Counts=%{y}<extra></extra>",
         "legendgroup": "東京工業高等専門学校",
         "marker": {
          "color": "#636efa"
         },
         "name": "東京工業高等専門学校",
         "offsetgroup": "東京工業高等専門学校",
         "orientation": "v",
         "showlegend": true,
         "textposition": "auto",
         "type": "bar",
         "x": [
          2019
         ],
         "xaxis": "x",
         "y": [
          1
         ],
         "yaxis": "y"
        },
        {
         "alignmentgroup": "True",
         "hovertemplate": "Company=東芝インフラシステムズ<br>Year=%{x}<br>Counts=%{y}<extra></extra>",
         "legendgroup": "東芝インフラシステムズ",
         "marker": {
          "color": "#EF553B"
         },
         "name": "東芝インフラシステムズ",
         "offsetgroup": "東芝インフラシステムズ",
         "orientation": "v",
         "showlegend": true,
         "textposition": "auto",
         "type": "bar",
         "x": [
          2019
         ],
         "xaxis": "x",
         "y": [
          6
         ],
         "yaxis": "y"
        },
        {
         "alignmentgroup": "True",
         "hovertemplate": "Company=東芝デジタルソリューションズ<br>Year=%{x}<br>Counts=%{y}<extra></extra>",
         "legendgroup": "東芝デジタルソリューションズ",
         "marker": {
          "color": "#00cc96"
         },
         "name": "東芝デジタルソリューションズ",
         "offsetgroup": "東芝デジタルソリューションズ",
         "orientation": "v",
         "showlegend": true,
         "textposition": "auto",
         "type": "bar",
         "x": [
          2019
         ],
         "xaxis": "x",
         "y": [
          1
         ],
         "yaxis": "y"
        },
        {
         "alignmentgroup": "True",
         "hovertemplate": "Company=松下技術士事務所<br>Year=%{x}<br>Counts=%{y}<extra></extra>",
         "legendgroup": "松下技術士事務所",
         "marker": {
          "color": "#ab63fa"
         },
         "name": "松下技術士事務所",
         "offsetgroup": "松下技術士事務所",
         "orientation": "v",
         "showlegend": true,
         "textposition": "auto",
         "type": "bar",
         "x": [
          2019
         ],
         "xaxis": "x",
         "y": [
          1
         ],
         "yaxis": "y"
        },
        {
         "alignmentgroup": "True",
         "hovertemplate": "Company=柏原コンサルティングオフィス<br>Year=%{x}<br>Counts=%{y}<extra></extra>",
         "legendgroup": "柏原コンサルティングオフィス",
         "marker": {
          "color": "#FFA15A"
         },
         "name": "柏原コンサルティングオフィス",
         "offsetgroup": "柏原コンサルティングオフィス",
         "orientation": "v",
         "showlegend": true,
         "textposition": "auto",
         "type": "bar",
         "x": [
          2019
         ],
         "xaxis": "x",
         "y": [
          1
         ],
         "yaxis": "y"
        },
        {
         "alignmentgroup": "True",
         "hovertemplate": "Company=沖電気工業<br>Year=%{x}<br>Counts=%{y}<extra></extra>",
         "legendgroup": "沖電気工業",
         "marker": {
          "color": "#19d3f3"
         },
         "name": "沖電気工業",
         "offsetgroup": "沖電気工業",
         "orientation": "v",
         "showlegend": true,
         "textposition": "auto",
         "type": "bar",
         "x": [
          2019
         ],
         "xaxis": "x",
         "y": [
          1
         ],
         "yaxis": "y"
        },
        {
         "alignmentgroup": "True",
         "hovertemplate": "Company=石川Ｅ＆ＩＴ技術士事務所<br>Year=%{x}<br>Counts=%{y}<extra></extra>",
         "legendgroup": "石川Ｅ＆ＩＴ技術士事務所",
         "marker": {
          "color": "#FF6692"
         },
         "name": "石川Ｅ＆ＩＴ技術士事務所",
         "offsetgroup": "石川Ｅ＆ＩＴ技術士事務所",
         "orientation": "v",
         "showlegend": true,
         "textposition": "auto",
         "type": "bar",
         "x": [
          2019
         ],
         "xaxis": "x",
         "y": [
          1
         ],
         "yaxis": "y"
        },
        {
         "alignmentgroup": "True",
         "hovertemplate": "Company=神戸学院大学<br>Year=%{x}<br>Counts=%{y}<extra></extra>",
         "legendgroup": "神戸学院大学",
         "marker": {
          "color": "#B6E880"
         },
         "name": "神戸学院大学",
         "offsetgroup": "神戸学院大学",
         "orientation": "v",
         "showlegend": true,
         "textposition": "auto",
         "type": "bar",
         "x": [
          2019
         ],
         "xaxis": "x",
         "y": [
          1
         ],
         "yaxis": "y"
        },
        {
         "alignmentgroup": "True",
         "hovertemplate": "Company=鍜治技術士事務所<br>Year=%{x}<br>Counts=%{y}<extra></extra>",
         "legendgroup": "鍜治技術士事務所",
         "marker": {
          "color": "#FF97FF"
         },
         "name": "鍜治技術士事務所",
         "offsetgroup": "鍜治技術士事務所",
         "orientation": "v",
         "showlegend": true,
         "textposition": "auto",
         "type": "bar",
         "x": [
          2019
         ],
         "xaxis": "x",
         "y": [
          1
         ],
         "yaxis": "y"
        },
        {
         "alignmentgroup": "True",
         "hovertemplate": "Company=関電システムズ<br>Year=%{x}<br>Counts=%{y}<extra></extra>",
         "legendgroup": "関電システムズ",
         "marker": {
          "color": "#FECB52"
         },
         "name": "関電システムズ",
         "offsetgroup": "関電システムズ",
         "orientation": "v",
         "showlegend": true,
         "textposition": "auto",
         "type": "bar",
         "x": [
          2019
         ],
         "xaxis": "x",
         "y": [
          1
         ],
         "yaxis": "y"
        },
        {
         "alignmentgroup": "True",
         "hovertemplate": "Company=電設コンサルタンツ株式会社<br>Year=%{x}<br>Counts=%{y}<extra></extra>",
         "legendgroup": "電設コンサルタンツ株式会社",
         "marker": {
          "color": "#636efa"
         },
         "name": "電設コンサルタンツ株式会社",
         "offsetgroup": "電設コンサルタンツ株式会社",
         "orientation": "v",
         "showlegend": true,
         "textposition": "auto",
         "type": "bar",
         "x": [
          2019
         ],
         "xaxis": "x",
         "y": [
          1
         ],
         "yaxis": "y"
        },
        {
         "alignmentgroup": "True",
         "hovertemplate": "Company=電通国際情報サービス<br>Year=%{x}<br>Counts=%{y}<extra></extra>",
         "legendgroup": "電通国際情報サービス",
         "marker": {
          "color": "#EF553B"
         },
         "name": "電通国際情報サービス",
         "offsetgroup": "電通国際情報サービス",
         "orientation": "v",
         "showlegend": true,
         "textposition": "auto",
         "type": "bar",
         "x": [
          2019
         ],
         "xaxis": "x",
         "y": [
          1
         ],
         "yaxis": "y"
        },
        {
         "alignmentgroup": "True",
         "hovertemplate": "Company=飯田ICT技術士事務所<br>Year=%{x}<br>Counts=%{y}<extra></extra>",
         "legendgroup": "飯田ICT技術士事務所",
         "marker": {
          "color": "#00cc96"
         },
         "name": "飯田ICT技術士事務所",
         "offsetgroup": "飯田ICT技術士事務所",
         "orientation": "v",
         "showlegend": true,
         "textposition": "auto",
         "type": "bar",
         "x": [
          2019
         ],
         "xaxis": "x",
         "y": [
          1
         ],
         "yaxis": "y"
        },
        {
         "alignmentgroup": "True",
         "hovertemplate": "Company=ＬＳＥＴ<br>Year=%{x}<br>Counts=%{y}<extra></extra>",
         "legendgroup": "ＬＳＥＴ",
         "marker": {
          "color": "#ab63fa"
         },
         "name": "ＬＳＥＴ",
         "offsetgroup": "ＬＳＥＴ",
         "orientation": "v",
         "showlegend": true,
         "textposition": "auto",
         "type": "bar",
         "x": [
          2019
         ],
         "xaxis": "x",
         "y": [
          1
         ],
         "yaxis": "y"
        },
        {
         "alignmentgroup": "True",
         "hovertemplate": "Company=ＮＤＳ<br>Year=%{x}<br>Counts=%{y}<extra></extra>",
         "legendgroup": "ＮＤＳ",
         "marker": {
          "color": "#FFA15A"
         },
         "name": "ＮＤＳ",
         "offsetgroup": "ＮＤＳ",
         "orientation": "v",
         "showlegend": true,
         "textposition": "auto",
         "type": "bar",
         "x": [
          2019
         ],
         "xaxis": "x",
         "y": [
          1
         ],
         "yaxis": "y"
        },
        {
         "alignmentgroup": "True",
         "hovertemplate": "Company=NTT西日本<br>Year=%{x}<br>Counts=%{y}<extra></extra>",
         "legendgroup": "NTT西日本",
         "marker": {
          "color": "#19d3f3"
         },
         "name": "NTT西日本",
         "offsetgroup": "NTT西日本",
         "orientation": "v",
         "showlegend": true,
         "textposition": "auto",
         "type": "bar",
         "x": [
          2020
         ],
         "xaxis": "x",
         "y": [
          1
         ],
         "yaxis": "y"
        },
        {
         "alignmentgroup": "True",
         "hovertemplate": "Company=みずほ信託銀行<br>Year=%{x}<br>Counts=%{y}<extra></extra>",
         "legendgroup": "みずほ信託銀行",
         "marker": {
          "color": "#FF6692"
         },
         "name": "みずほ信託銀行",
         "offsetgroup": "みずほ信託銀行",
         "orientation": "v",
         "showlegend": true,
         "textposition": "auto",
         "type": "bar",
         "x": [
          2020
         ],
         "xaxis": "x",
         "y": [
          1
         ],
         "yaxis": "y"
        },
        {
         "alignmentgroup": "True",
         "hovertemplate": "Company=アルプスアルパイン<br>Year=%{x}<br>Counts=%{y}<extra></extra>",
         "legendgroup": "アルプスアルパイン",
         "marker": {
          "color": "#B6E880"
         },
         "name": "アルプスアルパイン",
         "offsetgroup": "アルプスアルパイン",
         "orientation": "v",
         "showlegend": true,
         "textposition": "auto",
         "type": "bar",
         "x": [
          2020
         ],
         "xaxis": "x",
         "y": [
          1
         ],
         "yaxis": "y"
        },
        {
         "alignmentgroup": "True",
         "hovertemplate": "Company=タクマ<br>Year=%{x}<br>Counts=%{y}<extra></extra>",
         "legendgroup": "タクマ",
         "marker": {
          "color": "#FF97FF"
         },
         "name": "タクマ",
         "offsetgroup": "タクマ",
         "orientation": "v",
         "showlegend": true,
         "textposition": "auto",
         "type": "bar",
         "x": [
          2020
         ],
         "xaxis": "x",
         "y": [
          1
         ],
         "yaxis": "y"
        },
        {
         "alignmentgroup": "True",
         "hovertemplate": "Company=リコーITソリューションズ<br>Year=%{x}<br>Counts=%{y}<extra></extra>",
         "legendgroup": "リコーITソリューションズ",
         "marker": {
          "color": "#FECB52"
         },
         "name": "リコーITソリューションズ",
         "offsetgroup": "リコーITソリューションズ",
         "orientation": "v",
         "showlegend": true,
         "textposition": "auto",
         "type": "bar",
         "x": [
          2020
         ],
         "xaxis": "x",
         "y": [
          53
         ],
         "yaxis": "y"
        },
        {
         "alignmentgroup": "True",
         "hovertemplate": "Company=三倉エンジニアリング<br>Year=%{x}<br>Counts=%{y}<extra></extra>",
         "legendgroup": "三倉エンジニアリング",
         "marker": {
          "color": "#636efa"
         },
         "name": "三倉エンジニアリング",
         "offsetgroup": "三倉エンジニアリング",
         "orientation": "v",
         "showlegend": true,
         "textposition": "auto",
         "type": "bar",
         "x": [
          2020
         ],
         "xaxis": "x",
         "y": [
          1
         ],
         "yaxis": "y"
        },
        {
         "alignmentgroup": "True",
         "hovertemplate": "Company=吉川技術士事務所<br>Year=%{x}<br>Counts=%{y}<extra></extra>",
         "legendgroup": "吉川技術士事務所",
         "marker": {
          "color": "#EF553B"
         },
         "name": "吉川技術士事務所",
         "offsetgroup": "吉川技術士事務所",
         "orientation": "v",
         "showlegend": true,
         "textposition": "auto",
         "type": "bar",
         "x": [
          2020
         ],
         "xaxis": "x",
         "y": [
          1
         ],
         "yaxis": "y"
        },
        {
         "alignmentgroup": "True",
         "hovertemplate": "Company=日本電技<br>Year=%{x}<br>Counts=%{y}<extra></extra>",
         "legendgroup": "日本電技",
         "marker": {
          "color": "#00cc96"
         },
         "name": "日本電技",
         "offsetgroup": "日本電技",
         "orientation": "v",
         "showlegend": true,
         "textposition": "auto",
         "type": "bar",
         "x": [
          2020
         ],
         "xaxis": "x",
         "y": [
          1
         ],
         "yaxis": "y"
        }
       ],
       "layout": {
        "barmode": "relative",
        "legend": {
         "title": {
          "text": "Company"
         },
         "tracegroupgap": 0
        },
        "margin": {
         "t": 60
        },
        "template": {
         "data": {
          "bar": [
           {
            "error_x": {
             "color": "#2a3f5f"
            },
            "error_y": {
             "color": "#2a3f5f"
            },
            "marker": {
             "line": {
              "color": "#E5ECF6",
              "width": 0.5
             }
            },
            "type": "bar"
           }
          ],
          "barpolar": [
           {
            "marker": {
             "line": {
              "color": "#E5ECF6",
              "width": 0.5
             }
            },
            "type": "barpolar"
           }
          ],
          "carpet": [
           {
            "aaxis": {
             "endlinecolor": "#2a3f5f",
             "gridcolor": "white",
             "linecolor": "white",
             "minorgridcolor": "white",
             "startlinecolor": "#2a3f5f"
            },
            "baxis": {
             "endlinecolor": "#2a3f5f",
             "gridcolor": "white",
             "linecolor": "white",
             "minorgridcolor": "white",
             "startlinecolor": "#2a3f5f"
            },
            "type": "carpet"
           }
          ],
          "choropleth": [
           {
            "colorbar": {
             "outlinewidth": 0,
             "ticks": ""
            },
            "type": "choropleth"
           }
          ],
          "contour": [
           {
            "colorbar": {
             "outlinewidth": 0,
             "ticks": ""
            },
            "colorscale": [
             [
              0,
              "#0d0887"
             ],
             [
              0.1111111111111111,
              "#46039f"
             ],
             [
              0.2222222222222222,
              "#7201a8"
             ],
             [
              0.3333333333333333,
              "#9c179e"
             ],
             [
              0.4444444444444444,
              "#bd3786"
             ],
             [
              0.5555555555555556,
              "#d8576b"
             ],
             [
              0.6666666666666666,
              "#ed7953"
             ],
             [
              0.7777777777777778,
              "#fb9f3a"
             ],
             [
              0.8888888888888888,
              "#fdca26"
             ],
             [
              1,
              "#f0f921"
             ]
            ],
            "type": "contour"
           }
          ],
          "contourcarpet": [
           {
            "colorbar": {
             "outlinewidth": 0,
             "ticks": ""
            },
            "type": "contourcarpet"
           }
          ],
          "heatmap": [
           {
            "colorbar": {
             "outlinewidth": 0,
             "ticks": ""
            },
            "colorscale": [
             [
              0,
              "#0d0887"
             ],
             [
              0.1111111111111111,
              "#46039f"
             ],
             [
              0.2222222222222222,
              "#7201a8"
             ],
             [
              0.3333333333333333,
              "#9c179e"
             ],
             [
              0.4444444444444444,
              "#bd3786"
             ],
             [
              0.5555555555555556,
              "#d8576b"
             ],
             [
              0.6666666666666666,
              "#ed7953"
             ],
             [
              0.7777777777777778,
              "#fb9f3a"
             ],
             [
              0.8888888888888888,
              "#fdca26"
             ],
             [
              1,
              "#f0f921"
             ]
            ],
            "type": "heatmap"
           }
          ],
          "heatmapgl": [
           {
            "colorbar": {
             "outlinewidth": 0,
             "ticks": ""
            },
            "colorscale": [
             [
              0,
              "#0d0887"
             ],
             [
              0.1111111111111111,
              "#46039f"
             ],
             [
              0.2222222222222222,
              "#7201a8"
             ],
             [
              0.3333333333333333,
              "#9c179e"
             ],
             [
              0.4444444444444444,
              "#bd3786"
             ],
             [
              0.5555555555555556,
              "#d8576b"
             ],
             [
              0.6666666666666666,
              "#ed7953"
             ],
             [
              0.7777777777777778,
              "#fb9f3a"
             ],
             [
              0.8888888888888888,
              "#fdca26"
             ],
             [
              1,
              "#f0f921"
             ]
            ],
            "type": "heatmapgl"
           }
          ],
          "histogram": [
           {
            "marker": {
             "colorbar": {
              "outlinewidth": 0,
              "ticks": ""
             }
            },
            "type": "histogram"
           }
          ],
          "histogram2d": [
           {
            "colorbar": {
             "outlinewidth": 0,
             "ticks": ""
            },
            "colorscale": [
             [
              0,
              "#0d0887"
             ],
             [
              0.1111111111111111,
              "#46039f"
             ],
             [
              0.2222222222222222,
              "#7201a8"
             ],
             [
              0.3333333333333333,
              "#9c179e"
             ],
             [
              0.4444444444444444,
              "#bd3786"
             ],
             [
              0.5555555555555556,
              "#d8576b"
             ],
             [
              0.6666666666666666,
              "#ed7953"
             ],
             [
              0.7777777777777778,
              "#fb9f3a"
             ],
             [
              0.8888888888888888,
              "#fdca26"
             ],
             [
              1,
              "#f0f921"
             ]
            ],
            "type": "histogram2d"
           }
          ],
          "histogram2dcontour": [
           {
            "colorbar": {
             "outlinewidth": 0,
             "ticks": ""
            },
            "colorscale": [
             [
              0,
              "#0d0887"
             ],
             [
              0.1111111111111111,
              "#46039f"
             ],
             [
              0.2222222222222222,
              "#7201a8"
             ],
             [
              0.3333333333333333,
              "#9c179e"
             ],
             [
              0.4444444444444444,
              "#bd3786"
             ],
             [
              0.5555555555555556,
              "#d8576b"
             ],
             [
              0.6666666666666666,
              "#ed7953"
             ],
             [
              0.7777777777777778,
              "#fb9f3a"
             ],
             [
              0.8888888888888888,
              "#fdca26"
             ],
             [
              1,
              "#f0f921"
             ]
            ],
            "type": "histogram2dcontour"
           }
          ],
          "mesh3d": [
           {
            "colorbar": {
             "outlinewidth": 0,
             "ticks": ""
            },
            "type": "mesh3d"
           }
          ],
          "parcoords": [
           {
            "line": {
             "colorbar": {
              "outlinewidth": 0,
              "ticks": ""
             }
            },
            "type": "parcoords"
           }
          ],
          "pie": [
           {
            "automargin": true,
            "type": "pie"
           }
          ],
          "scatter": [
           {
            "marker": {
             "colorbar": {
              "outlinewidth": 0,
              "ticks": ""
             }
            },
            "type": "scatter"
           }
          ],
          "scatter3d": [
           {
            "line": {
             "colorbar": {
              "outlinewidth": 0,
              "ticks": ""
             }
            },
            "marker": {
             "colorbar": {
              "outlinewidth": 0,
              "ticks": ""
             }
            },
            "type": "scatter3d"
           }
          ],
          "scattercarpet": [
           {
            "marker": {
             "colorbar": {
              "outlinewidth": 0,
              "ticks": ""
             }
            },
            "type": "scattercarpet"
           }
          ],
          "scattergeo": [
           {
            "marker": {
             "colorbar": {
              "outlinewidth": 0,
              "ticks": ""
             }
            },
            "type": "scattergeo"
           }
          ],
          "scattergl": [
           {
            "marker": {
             "colorbar": {
              "outlinewidth": 0,
              "ticks": ""
             }
            },
            "type": "scattergl"
           }
          ],
          "scattermapbox": [
           {
            "marker": {
             "colorbar": {
              "outlinewidth": 0,
              "ticks": ""
             }
            },
            "type": "scattermapbox"
           }
          ],
          "scatterpolar": [
           {
            "marker": {
             "colorbar": {
              "outlinewidth": 0,
              "ticks": ""
             }
            },
            "type": "scatterpolar"
           }
          ],
          "scatterpolargl": [
           {
            "marker": {
             "colorbar": {
              "outlinewidth": 0,
              "ticks": ""
             }
            },
            "type": "scatterpolargl"
           }
          ],
          "scatterternary": [
           {
            "marker": {
             "colorbar": {
              "outlinewidth": 0,
              "ticks": ""
             }
            },
            "type": "scatterternary"
           }
          ],
          "surface": [
           {
            "colorbar": {
             "outlinewidth": 0,
             "ticks": ""
            },
            "colorscale": [
             [
              0,
              "#0d0887"
             ],
             [
              0.1111111111111111,
              "#46039f"
             ],
             [
              0.2222222222222222,
              "#7201a8"
             ],
             [
              0.3333333333333333,
              "#9c179e"
             ],
             [
              0.4444444444444444,
              "#bd3786"
             ],
             [
              0.5555555555555556,
              "#d8576b"
             ],
             [
              0.6666666666666666,
              "#ed7953"
             ],
             [
              0.7777777777777778,
              "#fb9f3a"
             ],
             [
              0.8888888888888888,
              "#fdca26"
             ],
             [
              1,
              "#f0f921"
             ]
            ],
            "type": "surface"
           }
          ],
          "table": [
           {
            "cells": {
             "fill": {
              "color": "#EBF0F8"
             },
             "line": {
              "color": "white"
             }
            },
            "header": {
             "fill": {
              "color": "#C8D4E3"
             },
             "line": {
              "color": "white"
             }
            },
            "type": "table"
           }
          ]
         },
         "layout": {
          "annotationdefaults": {
           "arrowcolor": "#2a3f5f",
           "arrowhead": 0,
           "arrowwidth": 1
          },
          "coloraxis": {
           "colorbar": {
            "outlinewidth": 0,
            "ticks": ""
           }
          },
          "colorscale": {
           "diverging": [
            [
             0,
             "#8e0152"
            ],
            [
             0.1,
             "#c51b7d"
            ],
            [
             0.2,
             "#de77ae"
            ],
            [
             0.3,
             "#f1b6da"
            ],
            [
             0.4,
             "#fde0ef"
            ],
            [
             0.5,
             "#f7f7f7"
            ],
            [
             0.6,
             "#e6f5d0"
            ],
            [
             0.7,
             "#b8e186"
            ],
            [
             0.8,
             "#7fbc41"
            ],
            [
             0.9,
             "#4d9221"
            ],
            [
             1,
             "#276419"
            ]
           ],
           "sequential": [
            [
             0,
             "#0d0887"
            ],
            [
             0.1111111111111111,
             "#46039f"
            ],
            [
             0.2222222222222222,
             "#7201a8"
            ],
            [
             0.3333333333333333,
             "#9c179e"
            ],
            [
             0.4444444444444444,
             "#bd3786"
            ],
            [
             0.5555555555555556,
             "#d8576b"
            ],
            [
             0.6666666666666666,
             "#ed7953"
            ],
            [
             0.7777777777777778,
             "#fb9f3a"
            ],
            [
             0.8888888888888888,
             "#fdca26"
            ],
            [
             1,
             "#f0f921"
            ]
           ],
           "sequentialminus": [
            [
             0,
             "#0d0887"
            ],
            [
             0.1111111111111111,
             "#46039f"
            ],
            [
             0.2222222222222222,
             "#7201a8"
            ],
            [
             0.3333333333333333,
             "#9c179e"
            ],
            [
             0.4444444444444444,
             "#bd3786"
            ],
            [
             0.5555555555555556,
             "#d8576b"
            ],
            [
             0.6666666666666666,
             "#ed7953"
            ],
            [
             0.7777777777777778,
             "#fb9f3a"
            ],
            [
             0.8888888888888888,
             "#fdca26"
            ],
            [
             1,
             "#f0f921"
            ]
           ]
          },
          "colorway": [
           "#636efa",
           "#EF553B",
           "#00cc96",
           "#ab63fa",
           "#FFA15A",
           "#19d3f3",
           "#FF6692",
           "#B6E880",
           "#FF97FF",
           "#FECB52"
          ],
          "font": {
           "color": "#2a3f5f"
          },
          "geo": {
           "bgcolor": "white",
           "lakecolor": "white",
           "landcolor": "#E5ECF6",
           "showlakes": true,
           "showland": true,
           "subunitcolor": "white"
          },
          "hoverlabel": {
           "align": "left"
          },
          "hovermode": "closest",
          "mapbox": {
           "style": "light"
          },
          "paper_bgcolor": "white",
          "plot_bgcolor": "#E5ECF6",
          "polar": {
           "angularaxis": {
            "gridcolor": "white",
            "linecolor": "white",
            "ticks": ""
           },
           "bgcolor": "#E5ECF6",
           "radialaxis": {
            "gridcolor": "white",
            "linecolor": "white",
            "ticks": ""
           }
          },
          "scene": {
           "xaxis": {
            "backgroundcolor": "#E5ECF6",
            "gridcolor": "white",
            "gridwidth": 2,
            "linecolor": "white",
            "showbackground": true,
            "ticks": "",
            "zerolinecolor": "white"
           },
           "yaxis": {
            "backgroundcolor": "#E5ECF6",
            "gridcolor": "white",
            "gridwidth": 2,
            "linecolor": "white",
            "showbackground": true,
            "ticks": "",
            "zerolinecolor": "white"
           },
           "zaxis": {
            "backgroundcolor": "#E5ECF6",
            "gridcolor": "white",
            "gridwidth": 2,
            "linecolor": "white",
            "showbackground": true,
            "ticks": "",
            "zerolinecolor": "white"
           }
          },
          "shapedefaults": {
           "line": {
            "color": "#2a3f5f"
           }
          },
          "ternary": {
           "aaxis": {
            "gridcolor": "white",
            "linecolor": "white",
            "ticks": ""
           },
           "baxis": {
            "gridcolor": "white",
            "linecolor": "white",
            "ticks": ""
           },
           "bgcolor": "#E5ECF6",
           "caxis": {
            "gridcolor": "white",
            "linecolor": "white",
            "ticks": ""
           }
          },
          "title": {
           "x": 0.05
          },
          "xaxis": {
           "automargin": true,
           "gridcolor": "white",
           "linecolor": "white",
           "ticks": "",
           "title": {
            "standoff": 15
           },
           "zerolinecolor": "white",
           "zerolinewidth": 2
          },
          "yaxis": {
           "automargin": true,
           "gridcolor": "white",
           "linecolor": "white",
           "ticks": "",
           "title": {
            "standoff": 15
           },
           "zerolinecolor": "white",
           "zerolinewidth": 2
          }
         }
        },
        "xaxis": {
         "anchor": "y",
         "domain": [
          0,
          1
         ],
         "title": {
          "text": "Year"
         }
        },
        "yaxis": {
         "anchor": "x",
         "domain": [
          0,
          1
         ],
         "title": {
          "text": "Counts"
         }
        }
       }
      },
      "text/html": [
       "<div>                            <div id=\"2381eeb2-e2cb-4fa4-b0d8-381a465d11bf\" class=\"plotly-graph-div\" style=\"height:525px; width:100%;\"></div>            <script type=\"text/javascript\">                require([\"plotly\"], function(Plotly) {                    window.PLOTLYENV=window.PLOTLYENV || {};                                    if (document.getElementById(\"2381eeb2-e2cb-4fa4-b0d8-381a465d11bf\")) {                    Plotly.newPlot(                        \"2381eeb2-e2cb-4fa4-b0d8-381a465d11bf\",                        [{\"alignmentgroup\": \"True\", \"hovertemplate\": \"Company=\\u30d5\\u30a3\\u30ea\\u30c3\\u30d7\\u30b9\\u30fb\\u30b8\\u30e3\\u30d1\\u30f3<br>Year=%{x}<br>Counts=%{y}<extra></extra>\", \"legendgroup\": \"\\u30d5\\u30a3\\u30ea\\u30c3\\u30d7\\u30b9\\u30fb\\u30b8\\u30e3\\u30d1\\u30f3\", \"marker\": {\"color\": \"#636efa\"}, \"name\": \"\\u30d5\\u30a3\\u30ea\\u30c3\\u30d7\\u30b9\\u30fb\\u30b8\\u30e3\\u30d1\\u30f3\", \"offsetgroup\": \"\\u30d5\\u30a3\\u30ea\\u30c3\\u30d7\\u30b9\\u30fb\\u30b8\\u30e3\\u30d1\\u30f3\", \"orientation\": \"v\", \"showlegend\": true, \"textposition\": \"auto\", \"type\": \"bar\", \"x\": [2013], \"xaxis\": \"x\", \"y\": [1], \"yaxis\": \"y\"}, {\"alignmentgroup\": \"True\", \"hovertemplate\": \"Company=\\u5bcc\\u58eb\\u901a<br>Year=%{x}<br>Counts=%{y}<extra></extra>\", \"legendgroup\": \"\\u5bcc\\u58eb\\u901a\", \"marker\": {\"color\": \"#EF553B\"}, \"name\": \"\\u5bcc\\u58eb\\u901a\", \"offsetgroup\": \"\\u5bcc\\u58eb\\u901a\", \"orientation\": \"v\", \"showlegend\": true, \"textposition\": \"auto\", \"type\": \"bar\", \"x\": [2013, 2019], \"xaxis\": \"x\", \"y\": [1, 3], \"yaxis\": \"y\"}, {\"alignmentgroup\": \"True\", \"hovertemplate\": \"Company=\\u65e5\\u7acb\\u88fd\\u4f5c\\u6240<br>Year=%{x}<br>Counts=%{y}<extra></extra>\", \"legendgroup\": \"\\u65e5\\u7acb\\u88fd\\u4f5c\\u6240\", \"marker\": {\"color\": \"#00cc96\"}, \"name\": \"\\u65e5\\u7acb\\u88fd\\u4f5c\\u6240\", \"offsetgroup\": \"\\u65e5\\u7acb\\u88fd\\u4f5c\\u6240\", \"orientation\": \"v\", \"showlegend\": true, \"textposition\": \"auto\", \"type\": \"bar\", \"x\": [2013, 2018, 2019, 2020], \"xaxis\": \"x\", \"y\": [2, 319, 2, 66], \"yaxis\": \"y\"}, {\"alignmentgroup\": \"True\", \"hovertemplate\": \"Company=Konami Gaming, Inc.<br>Year=%{x}<br>Counts=%{y}<extra></extra>\", \"legendgroup\": \"Konami Gaming, Inc.\", \"marker\": {\"color\": \"#ab63fa\"}, \"name\": \"Konami Gaming, Inc.\", \"offsetgroup\": \"Konami Gaming, Inc.\", \"orientation\": \"v\", \"showlegend\": true, \"textposition\": \"auto\", \"type\": \"bar\", \"x\": [2014], \"xaxis\": \"x\", \"y\": [1], \"yaxis\": \"y\"}, {\"alignmentgroup\": \"True\", \"hovertemplate\": \"Company=S&J<br>Year=%{x}<br>Counts=%{y}<extra></extra>\", \"legendgroup\": \"S&J\", \"marker\": {\"color\": \"#FFA15A\"}, \"name\": \"S&J\", \"offsetgroup\": \"S&J\", \"orientation\": \"v\", \"showlegend\": true, \"textposition\": \"auto\", \"type\": \"bar\", \"x\": [2014], \"xaxis\": \"x\", \"y\": [1], \"yaxis\": \"y\"}, {\"alignmentgroup\": \"True\", \"hovertemplate\": \"Company=\\u30bd\\u30d5\\u30c8\\u30d0\\u30f3\\u30af<br>Year=%{x}<br>Counts=%{y}<extra></extra>\", \"legendgroup\": \"\\u30bd\\u30d5\\u30c8\\u30d0\\u30f3\\u30af\", \"marker\": {\"color\": \"#19d3f3\"}, \"name\": \"\\u30bd\\u30d5\\u30c8\\u30d0\\u30f3\\u30af\", \"offsetgroup\": \"\\u30bd\\u30d5\\u30c8\\u30d0\\u30f3\\u30af\", \"orientation\": \"v\", \"showlegend\": true, \"textposition\": \"auto\", \"type\": \"bar\", \"x\": [2014], \"xaxis\": \"x\", \"y\": [1], \"yaxis\": \"y\"}, {\"alignmentgroup\": \"True\", \"hovertemplate\": \"Company=\\u30e9\\u30c3\\u30af<br>Year=%{x}<br>Counts=%{y}<extra></extra>\", \"legendgroup\": \"\\u30e9\\u30c3\\u30af\", \"marker\": {\"color\": \"#FF6692\"}, \"name\": \"\\u30e9\\u30c3\\u30af\", \"offsetgroup\": \"\\u30e9\\u30c3\\u30af\", \"orientation\": \"v\", \"showlegend\": true, \"textposition\": \"auto\", \"type\": \"bar\", \"x\": [2014, 2015], \"xaxis\": \"x\", \"y\": [1, 1], \"yaxis\": \"y\"}, {\"alignmentgroup\": \"True\", \"hovertemplate\": \"Company=\\u4e2d\\u96fb\\u30b7\\u30fc\\u30c6\\u30a3\\u30fc\\u30a2\\u30a4<br>Year=%{x}<br>Counts=%{y}<extra></extra>\", \"legendgroup\": \"\\u4e2d\\u96fb\\u30b7\\u30fc\\u30c6\\u30a3\\u30fc\\u30a2\\u30a4\", \"marker\": {\"color\": \"#B6E880\"}, \"name\": \"\\u4e2d\\u96fb\\u30b7\\u30fc\\u30c6\\u30a3\\u30fc\\u30a2\\u30a4\", \"offsetgroup\": \"\\u4e2d\\u96fb\\u30b7\\u30fc\\u30c6\\u30a3\\u30fc\\u30a2\\u30a4\", \"orientation\": \"v\", \"showlegend\": true, \"textposition\": \"auto\", \"type\": \"bar\", \"x\": [2014, 2015, 2016, 2017, 2018, 2019, 2020], \"xaxis\": \"x\", \"y\": [2, 2, 5, 5, 3, 1, 1], \"yaxis\": \"y\"}, {\"alignmentgroup\": \"True\", \"hovertemplate\": \"Company=\\u975e\\u516c\\u958b<br>Year=%{x}<br>Counts=%{y}<extra></extra>\", \"legendgroup\": \"\\u975e\\u516c\\u958b\", \"marker\": {\"color\": \"#FF97FF\"}, \"name\": \"\\u975e\\u516c\\u958b\", \"offsetgroup\": \"\\u975e\\u516c\\u958b\", \"orientation\": \"v\", \"showlegend\": true, \"textposition\": \"auto\", \"type\": \"bar\", \"x\": [2014, 2016, 2017, 2018, 2019, 2020], \"xaxis\": \"x\", \"y\": [3, 3299, 238, 1388, 104, 34], \"yaxis\": \"y\"}, {\"alignmentgroup\": \"True\", \"hovertemplate\": \"Company=NEC<br>Year=%{x}<br>Counts=%{y}<extra></extra>\", \"legendgroup\": \"NEC\", \"marker\": {\"color\": \"#FECB52\"}, \"name\": \"NEC\", \"offsetgroup\": \"NEC\", \"orientation\": \"v\", \"showlegend\": true, \"textposition\": \"auto\", \"type\": \"bar\", \"x\": [2015, 2016, 2017], \"xaxis\": \"x\", \"y\": [1, 1, 1], \"yaxis\": \"y\"}, {\"alignmentgroup\": \"True\", \"hovertemplate\": \"Company=\\u30cf\\u30a4\\u30de\\u30c3\\u30af\\u30b9<br>Year=%{x}<br>Counts=%{y}<extra></extra>\", \"legendgroup\": \"\\u30cf\\u30a4\\u30de\\u30c3\\u30af\\u30b9\", \"marker\": {\"color\": \"#636efa\"}, \"name\": \"\\u30cf\\u30a4\\u30de\\u30c3\\u30af\\u30b9\", \"offsetgroup\": \"\\u30cf\\u30a4\\u30de\\u30c3\\u30af\\u30b9\", \"orientation\": \"v\", \"showlegend\": true, \"textposition\": \"auto\", \"type\": \"bar\", \"x\": [2015], \"xaxis\": \"x\", \"y\": [1], \"yaxis\": \"y\"}, {\"alignmentgroup\": \"True\", \"hovertemplate\": \"Company=\\u4e09\\u83f1\\u96fb\\u6a5f\\u30a4\\u30f3\\u30d5\\u30a9\\u30e1\\u30fc\\u30b7\\u30e7\\u30f3\\u30b7\\u30b9\\u30c6\\u30e0\\u30ba<br>Year=%{x}<br>Counts=%{y}<extra></extra>\", \"legendgroup\": \"\\u4e09\\u83f1\\u96fb\\u6a5f\\u30a4\\u30f3\\u30d5\\u30a9\\u30e1\\u30fc\\u30b7\\u30e7\\u30f3\\u30b7\\u30b9\\u30c6\\u30e0\\u30ba\", \"marker\": {\"color\": \"#EF553B\"}, \"name\": \"\\u4e09\\u83f1\\u96fb\\u6a5f\\u30a4\\u30f3\\u30d5\\u30a9\\u30e1\\u30fc\\u30b7\\u30e7\\u30f3\\u30b7\\u30b9\\u30c6\\u30e0\\u30ba\", \"offsetgroup\": \"\\u4e09\\u83f1\\u96fb\\u6a5f\\u30a4\\u30f3\\u30d5\\u30a9\\u30e1\\u30fc\\u30b7\\u30e7\\u30f3\\u30b7\\u30b9\\u30c6\\u30e0\\u30ba\", \"orientation\": \"v\", \"showlegend\": true, \"textposition\": \"auto\", \"type\": \"bar\", \"x\": [2015, 2016, 2018, 2019, 2020], \"xaxis\": \"x\", \"y\": [138, 28, 54, 50, 38], \"yaxis\": \"y\"}, {\"alignmentgroup\": \"True\", \"hovertemplate\": \"Company=\\u91ce\\u6751\\u7dcf\\u5408\\u7814\\u7a76\\u6240<br>Year=%{x}<br>Counts=%{y}<extra></extra>\", \"legendgroup\": \"\\u91ce\\u6751\\u7dcf\\u5408\\u7814\\u7a76\\u6240\", \"marker\": {\"color\": \"#00cc96\"}, \"name\": \"\\u91ce\\u6751\\u7dcf\\u5408\\u7814\\u7a76\\u6240\", \"offsetgroup\": \"\\u91ce\\u6751\\u7dcf\\u5408\\u7814\\u7a76\\u6240\", \"orientation\": \"v\", \"showlegend\": true, \"textposition\": \"auto\", \"type\": \"bar\", \"x\": [2015, 2016], \"xaxis\": \"x\", \"y\": [1, 1], \"yaxis\": \"y\"}, {\"alignmentgroup\": \"True\", \"hovertemplate\": \"Company=NEC\\u30bd\\u30ea\\u30e5\\u30fc\\u30b7\\u30e7\\u30f3\\u30a4\\u30ce\\u30d9\\u30fc\\u30bf<br>Year=%{x}<br>Counts=%{y}<extra></extra>\", \"legendgroup\": \"NEC\\u30bd\\u30ea\\u30e5\\u30fc\\u30b7\\u30e7\\u30f3\\u30a4\\u30ce\\u30d9\\u30fc\\u30bf\", \"marker\": {\"color\": \"#ab63fa\"}, \"name\": \"NEC\\u30bd\\u30ea\\u30e5\\u30fc\\u30b7\\u30e7\\u30f3\\u30a4\\u30ce\\u30d9\\u30fc\\u30bf\", \"offsetgroup\": \"NEC\\u30bd\\u30ea\\u30e5\\u30fc\\u30b7\\u30e7\\u30f3\\u30a4\\u30ce\\u30d9\\u30fc\\u30bf\", \"orientation\": \"v\", \"showlegend\": true, \"textposition\": \"auto\", \"type\": \"bar\", \"x\": [2016], \"xaxis\": \"x\", \"y\": [1], \"yaxis\": \"y\"}, {\"alignmentgroup\": \"True\", \"hovertemplate\": \"Company=\\u30a4\\u30f3\\u30c6\\u30c3\\u30af<br>Year=%{x}<br>Counts=%{y}<extra></extra>\", \"legendgroup\": \"\\u30a4\\u30f3\\u30c6\\u30c3\\u30af\", \"marker\": {\"color\": \"#FFA15A\"}, \"name\": \"\\u30a4\\u30f3\\u30c6\\u30c3\\u30af\", \"offsetgroup\": \"\\u30a4\\u30f3\\u30c6\\u30c3\\u30af\", \"orientation\": \"v\", \"showlegend\": true, \"textposition\": \"auto\", \"type\": \"bar\", \"x\": [2016], \"xaxis\": \"x\", \"y\": [2], \"yaxis\": \"y\"}, {\"alignmentgroup\": \"True\", \"hovertemplate\": \"Company=\\u30a8\\u30cc\\u30fb\\u30c6\\u30a3\\u30fb\\u30c6\\u30a3\\u30fb\\u30b3\\u30e0\\u30a6\\u30a7\\u30a2<br>Year=%{x}<br>Counts=%{y}<extra></extra>\", \"legendgroup\": \"\\u30a8\\u30cc\\u30fb\\u30c6\\u30a3\\u30fb\\u30c6\\u30a3\\u30fb\\u30b3\\u30e0\\u30a6\\u30a7\\u30a2\", \"marker\": {\"color\": \"#19d3f3\"}, \"name\": \"\\u30a8\\u30cc\\u30fb\\u30c6\\u30a3\\u30fb\\u30c6\\u30a3\\u30fb\\u30b3\\u30e0\\u30a6\\u30a7\\u30a2\", \"offsetgroup\": \"\\u30a8\\u30cc\\u30fb\\u30c6\\u30a3\\u30fb\\u30c6\\u30a3\\u30fb\\u30b3\\u30e0\\u30a6\\u30a7\\u30a2\", \"orientation\": \"v\", \"showlegend\": true, \"textposition\": \"auto\", \"type\": \"bar\", \"x\": [2016, 2017, 2018, 2019, 2020], \"xaxis\": \"x\", \"y\": [308, 150, 148, 140, 107], \"yaxis\": \"y\"}, {\"alignmentgroup\": \"True\", \"hovertemplate\": \"Company=\\u30cb\\u30c3\\u30bb\\u30a4\\u60c5\\u5831\\u30c6\\u30af\\u30ce\\u30ed\\u30b8\\u30fc<br>Year=%{x}<br>Counts=%{y}<extra></extra>\", \"legendgroup\": \"\\u30cb\\u30c3\\u30bb\\u30a4\\u60c5\\u5831\\u30c6\\u30af\\u30ce\\u30ed\\u30b8\\u30fc\", \"marker\": {\"color\": \"#FF6692\"}, \"name\": \"\\u30cb\\u30c3\\u30bb\\u30a4\\u60c5\\u5831\\u30c6\\u30af\\u30ce\\u30ed\\u30b8\\u30fc\", \"offsetgroup\": \"\\u30cb\\u30c3\\u30bb\\u30a4\\u60c5\\u5831\\u30c6\\u30af\\u30ce\\u30ed\\u30b8\\u30fc\", \"orientation\": \"v\", \"showlegend\": true, \"textposition\": \"auto\", \"type\": \"bar\", \"x\": [2016, 2017, 2018, 2019, 2020], \"xaxis\": \"x\", \"y\": [169, 110, 48, 61, 57], \"yaxis\": \"y\"}, {\"alignmentgroup\": \"True\", \"hovertemplate\": \"Company=CIJ<br>Year=%{x}<br>Counts=%{y}<extra></extra>\", \"legendgroup\": \"CIJ\", \"marker\": {\"color\": \"#B6E880\"}, \"name\": \"CIJ\", \"offsetgroup\": \"CIJ\", \"orientation\": \"v\", \"showlegend\": true, \"textposition\": \"auto\", \"type\": \"bar\", \"x\": [2017], \"xaxis\": \"x\", \"y\": [1], \"yaxis\": \"y\"}, {\"alignmentgroup\": \"True\", \"hovertemplate\": \"Company=NTT\\u30c6\\u30af\\u30ce\\u30af\\u30ed\\u30b9<br>Year=%{x}<br>Counts=%{y}<extra></extra>\", \"legendgroup\": \"NTT\\u30c6\\u30af\\u30ce\\u30af\\u30ed\\u30b9\", \"marker\": {\"color\": \"#FF97FF\"}, \"name\": \"NTT\\u30c6\\u30af\\u30ce\\u30af\\u30ed\\u30b9\", \"offsetgroup\": \"NTT\\u30c6\\u30af\\u30ce\\u30af\\u30ed\\u30b9\", \"orientation\": \"v\", \"showlegend\": true, \"textposition\": \"auto\", \"type\": \"bar\", \"x\": [2017, 2018, 2019], \"xaxis\": \"x\", \"y\": [38, 10, 9], \"yaxis\": \"y\"}, {\"alignmentgroup\": \"True\", \"hovertemplate\": \"Company=\\u4e09\\u83f1\\u96fb\\u6a5f<br>Year=%{x}<br>Counts=%{y}<extra></extra>\", \"legendgroup\": \"\\u4e09\\u83f1\\u96fb\\u6a5f\", \"marker\": {\"color\": \"#FECB52\"}, \"name\": \"\\u4e09\\u83f1\\u96fb\\u6a5f\", \"offsetgroup\": \"\\u4e09\\u83f1\\u96fb\\u6a5f\", \"orientation\": \"v\", \"showlegend\": true, \"textposition\": \"auto\", \"type\": \"bar\", \"x\": [2017], \"xaxis\": \"x\", \"y\": [1], \"yaxis\": \"y\"}, {\"alignmentgroup\": \"True\", \"hovertemplate\": \"Company=\\u500b\\u4eba<br>Year=%{x}<br>Counts=%{y}<extra></extra>\", \"legendgroup\": \"\\u500b\\u4eba\", \"marker\": {\"color\": \"#636efa\"}, \"name\": \"\\u500b\\u4eba\", \"offsetgroup\": \"\\u500b\\u4eba\", \"orientation\": \"v\", \"showlegend\": true, \"textposition\": \"auto\", \"type\": \"bar\", \"x\": [2018], \"xaxis\": \"x\", \"y\": [1], \"yaxis\": \"y\"}, {\"alignmentgroup\": \"True\", \"hovertemplate\": \"Company=\\u5927\\u962a\\u5e9c\\u8b66\\u5bdf\\u672c\\u90e8<br>Year=%{x}<br>Counts=%{y}<extra></extra>\", \"legendgroup\": \"\\u5927\\u962a\\u5e9c\\u8b66\\u5bdf\\u672c\\u90e8\", \"marker\": {\"color\": \"#EF553B\"}, \"name\": \"\\u5927\\u962a\\u5e9c\\u8b66\\u5bdf\\u672c\\u90e8\", \"offsetgroup\": \"\\u5927\\u962a\\u5e9c\\u8b66\\u5bdf\\u672c\\u90e8\", \"orientation\": \"v\", \"showlegend\": true, \"textposition\": \"auto\", \"type\": \"bar\", \"x\": [2018], \"xaxis\": \"x\", \"y\": [1], \"yaxis\": \"y\"}, {\"alignmentgroup\": \"True\", \"hovertemplate\": \"Company=CC\\u30a2\\u30fc\\u30ad\\u30c6\\u30af\\u30c8<br>Year=%{x}<br>Counts=%{y}<extra></extra>\", \"legendgroup\": \"CC\\u30a2\\u30fc\\u30ad\\u30c6\\u30af\\u30c8\", \"marker\": {\"color\": \"#00cc96\"}, \"name\": \"CC\\u30a2\\u30fc\\u30ad\\u30c6\\u30af\\u30c8\", \"offsetgroup\": \"CC\\u30a2\\u30fc\\u30ad\\u30c6\\u30af\\u30c8\", \"orientation\": \"v\", \"showlegend\": true, \"textposition\": \"auto\", \"type\": \"bar\", \"x\": [2019], \"xaxis\": \"x\", \"y\": [1], \"yaxis\": \"y\"}, {\"alignmentgroup\": \"True\", \"hovertemplate\": \"Company=JCC\\u30bd\\u30d5\\u30c8<br>Year=%{x}<br>Counts=%{y}<extra></extra>\", \"legendgroup\": \"JCC\\u30bd\\u30d5\\u30c8\", \"marker\": {\"color\": \"#ab63fa\"}, \"name\": \"JCC\\u30bd\\u30d5\\u30c8\", \"offsetgroup\": \"JCC\\u30bd\\u30d5\\u30c8\", \"orientation\": \"v\", \"showlegend\": true, \"textposition\": \"auto\", \"type\": \"bar\", \"x\": [2019], \"xaxis\": \"x\", \"y\": [1], \"yaxis\": \"y\"}, {\"alignmentgroup\": \"True\", \"hovertemplate\": \"Company=Ovum Software<br>Year=%{x}<br>Counts=%{y}<extra></extra>\", \"legendgroup\": \"Ovum Software\", \"marker\": {\"color\": \"#FFA15A\"}, \"name\": \"Ovum Software\", \"offsetgroup\": \"Ovum Software\", \"orientation\": \"v\", \"showlegend\": true, \"textposition\": \"auto\", \"type\": \"bar\", \"x\": [2019], \"xaxis\": \"x\", \"y\": [1], \"yaxis\": \"y\"}, {\"alignmentgroup\": \"True\", \"hovertemplate\": \"Company=SHIFT<br>Year=%{x}<br>Counts=%{y}<extra></extra>\", \"legendgroup\": \"SHIFT\", \"marker\": {\"color\": \"#19d3f3\"}, \"name\": \"SHIFT\", \"offsetgroup\": \"SHIFT\", \"orientation\": \"v\", \"showlegend\": true, \"textposition\": \"auto\", \"type\": \"bar\", \"x\": [2019], \"xaxis\": \"x\", \"y\": [1], \"yaxis\": \"y\"}, {\"alignmentgroup\": \"True\", \"hovertemplate\": \"Company=\\u307f\\u305a\\u307b\\u60c5\\u5831\\u7dcf\\u7814<br>Year=%{x}<br>Counts=%{y}<extra></extra>\", \"legendgroup\": \"\\u307f\\u305a\\u307b\\u60c5\\u5831\\u7dcf\\u7814\", \"marker\": {\"color\": \"#FF6692\"}, \"name\": \"\\u307f\\u305a\\u307b\\u60c5\\u5831\\u7dcf\\u7814\", \"offsetgroup\": \"\\u307f\\u305a\\u307b\\u60c5\\u5831\\u7dcf\\u7814\", \"orientation\": \"v\", \"showlegend\": true, \"textposition\": \"auto\", \"type\": \"bar\", \"x\": [2019, 2020], \"xaxis\": \"x\", \"y\": [15, 3], \"yaxis\": \"y\"}, {\"alignmentgroup\": \"True\", \"hovertemplate\": \"Company=\\u307f\\u305a\\u307b\\u9280\\u884c<br>Year=%{x}<br>Counts=%{y}<extra></extra>\", \"legendgroup\": \"\\u307f\\u305a\\u307b\\u9280\\u884c\", \"marker\": {\"color\": \"#B6E880\"}, \"name\": \"\\u307f\\u305a\\u307b\\u9280\\u884c\", \"offsetgroup\": \"\\u307f\\u305a\\u307b\\u9280\\u884c\", \"orientation\": \"v\", \"showlegend\": true, \"textposition\": \"auto\", \"type\": \"bar\", \"x\": [2019], \"xaxis\": \"x\", \"y\": [1], \"yaxis\": \"y\"}, {\"alignmentgroup\": \"True\", \"hovertemplate\": \"Company=\\u30a2\\u30a4\\u30c6\\u30c3\\u30af\\u962a\\u6025\\u962a\\u795e<br>Year=%{x}<br>Counts=%{y}<extra></extra>\", \"legendgroup\": \"\\u30a2\\u30a4\\u30c6\\u30c3\\u30af\\u962a\\u6025\\u962a\\u795e\", \"marker\": {\"color\": \"#FF97FF\"}, \"name\": \"\\u30a2\\u30a4\\u30c6\\u30c3\\u30af\\u962a\\u6025\\u962a\\u795e\", \"offsetgroup\": \"\\u30a2\\u30a4\\u30c6\\u30c3\\u30af\\u962a\\u6025\\u962a\\u795e\", \"orientation\": \"v\", \"showlegend\": true, \"textposition\": \"auto\", \"type\": \"bar\", \"x\": [2019], \"xaxis\": \"x\", \"y\": [1], \"yaxis\": \"y\"}, {\"alignmentgroup\": \"True\", \"hovertemplate\": \"Company=\\u30a2\\u30b8\\u30a2\\u822a\\u6e2c<br>Year=%{x}<br>Counts=%{y}<extra></extra>\", \"legendgroup\": \"\\u30a2\\u30b8\\u30a2\\u822a\\u6e2c\", \"marker\": {\"color\": \"#FECB52\"}, \"name\": \"\\u30a2\\u30b8\\u30a2\\u822a\\u6e2c\", \"offsetgroup\": \"\\u30a2\\u30b8\\u30a2\\u822a\\u6e2c\", \"orientation\": \"v\", \"showlegend\": true, \"textposition\": \"auto\", \"type\": \"bar\", \"x\": [2019], \"xaxis\": \"x\", \"y\": [1], \"yaxis\": \"y\"}, {\"alignmentgroup\": \"True\", \"hovertemplate\": \"Company=\\u30a4\\u30f3\\u30c6\\u30b0\\u30ec\\u30fc\\u30b7\\u30e7\\u30f3\\u30c6\\u30af\\u30ce\\u30ed\\u30b8\\u30fc<br>Year=%{x}<br>Counts=%{y}<extra></extra>\", \"legendgroup\": \"\\u30a4\\u30f3\\u30c6\\u30b0\\u30ec\\u30fc\\u30b7\\u30e7\\u30f3\\u30c6\\u30af\\u30ce\\u30ed\\u30b8\\u30fc\", \"marker\": {\"color\": \"#636efa\"}, \"name\": \"\\u30a4\\u30f3\\u30c6\\u30b0\\u30ec\\u30fc\\u30b7\\u30e7\\u30f3\\u30c6\\u30af\\u30ce\\u30ed\\u30b8\\u30fc\", \"offsetgroup\": \"\\u30a4\\u30f3\\u30c6\\u30b0\\u30ec\\u30fc\\u30b7\\u30e7\\u30f3\\u30c6\\u30af\\u30ce\\u30ed\\u30b8\\u30fc\", \"orientation\": \"v\", \"showlegend\": true, \"textposition\": \"auto\", \"type\": \"bar\", \"x\": [2019], \"xaxis\": \"x\", \"y\": [1], \"yaxis\": \"y\"}, {\"alignmentgroup\": \"True\", \"hovertemplate\": \"Company=\\u30a4\\u30fc\\u30fb\\u30d5\\u30a9\\u30fc\\u30b9<br>Year=%{x}<br>Counts=%{y}<extra></extra>\", \"legendgroup\": \"\\u30a4\\u30fc\\u30fb\\u30d5\\u30a9\\u30fc\\u30b9\", \"marker\": {\"color\": \"#EF553B\"}, \"name\": \"\\u30a4\\u30fc\\u30fb\\u30d5\\u30a9\\u30fc\\u30b9\", \"offsetgroup\": \"\\u30a4\\u30fc\\u30fb\\u30d5\\u30a9\\u30fc\\u30b9\", \"orientation\": \"v\", \"showlegend\": true, \"textposition\": \"auto\", \"type\": \"bar\", \"x\": [2019], \"xaxis\": \"x\", \"y\": [1], \"yaxis\": \"y\"}, {\"alignmentgroup\": \"True\", \"hovertemplate\": \"Company=\\u30a8\\u30af\\u30bb\\u30c7\\u30a3\\u30a2\\u30fb\\u30b3\\u30f3\\u30b5\\u30eb\\u30c6\\u30a3\\u30f3\\u30b0<br>Year=%{x}<br>Counts=%{y}<extra></extra>\", \"legendgroup\": \"\\u30a8\\u30af\\u30bb\\u30c7\\u30a3\\u30a2\\u30fb\\u30b3\\u30f3\\u30b5\\u30eb\\u30c6\\u30a3\\u30f3\\u30b0\", \"marker\": {\"color\": \"#00cc96\"}, \"name\": \"\\u30a8\\u30af\\u30bb\\u30c7\\u30a3\\u30a2\\u30fb\\u30b3\\u30f3\\u30b5\\u30eb\\u30c6\\u30a3\\u30f3\\u30b0\", \"offsetgroup\": \"\\u30a8\\u30af\\u30bb\\u30c7\\u30a3\\u30a2\\u30fb\\u30b3\\u30f3\\u30b5\\u30eb\\u30c6\\u30a3\\u30f3\\u30b0\", \"orientation\": \"v\", \"showlegend\": true, \"textposition\": \"auto\", \"type\": \"bar\", \"x\": [2019], \"xaxis\": \"x\", \"y\": [1], \"yaxis\": \"y\"}, {\"alignmentgroup\": \"True\", \"hovertemplate\": \"Company=\\u30a8\\u30ea\\u30af\\u30bd\\u30f3\\u30fb\\u30b8\\u30e3\\u30d1\\u30f3<br>Year=%{x}<br>Counts=%{y}<extra></extra>\", \"legendgroup\": \"\\u30a8\\u30ea\\u30af\\u30bd\\u30f3\\u30fb\\u30b8\\u30e3\\u30d1\\u30f3\", \"marker\": {\"color\": \"#ab63fa\"}, \"name\": \"\\u30a8\\u30ea\\u30af\\u30bd\\u30f3\\u30fb\\u30b8\\u30e3\\u30d1\\u30f3\", \"offsetgroup\": \"\\u30a8\\u30ea\\u30af\\u30bd\\u30f3\\u30fb\\u30b8\\u30e3\\u30d1\\u30f3\", \"orientation\": \"v\", \"showlegend\": true, \"textposition\": \"auto\", \"type\": \"bar\", \"x\": [2019], \"xaxis\": \"x\", \"y\": [1], \"yaxis\": \"y\"}, {\"alignmentgroup\": \"True\", \"hovertemplate\": \"Company=\\u30af\\u30ea\\u30e2\\u30c8\\u30d3\\u30b8\\u30cd\\u30b9\\u30a2\\u30bd\\u30b7\\u30a8\\u30a4\\u30c4<br>Year=%{x}<br>Counts=%{y}<extra></extra>\", \"legendgroup\": \"\\u30af\\u30ea\\u30e2\\u30c8\\u30d3\\u30b8\\u30cd\\u30b9\\u30a2\\u30bd\\u30b7\\u30a8\\u30a4\\u30c4\", \"marker\": {\"color\": \"#FFA15A\"}, \"name\": \"\\u30af\\u30ea\\u30e2\\u30c8\\u30d3\\u30b8\\u30cd\\u30b9\\u30a2\\u30bd\\u30b7\\u30a8\\u30a4\\u30c4\", \"offsetgroup\": \"\\u30af\\u30ea\\u30e2\\u30c8\\u30d3\\u30b8\\u30cd\\u30b9\\u30a2\\u30bd\\u30b7\\u30a8\\u30a4\\u30c4\", \"orientation\": \"v\", \"showlegend\": true, \"textposition\": \"auto\", \"type\": \"bar\", \"x\": [2019], \"xaxis\": \"x\", \"y\": [1], \"yaxis\": \"y\"}, {\"alignmentgroup\": \"True\", \"hovertemplate\": \"Company=\\u30b3\\u30f3\\u30d4\\u30e5\\u30fc\\u30c8\\u30ed\\u30f3<br>Year=%{x}<br>Counts=%{y}<extra></extra>\", \"legendgroup\": \"\\u30b3\\u30f3\\u30d4\\u30e5\\u30fc\\u30c8\\u30ed\\u30f3\", \"marker\": {\"color\": \"#19d3f3\"}, \"name\": \"\\u30b3\\u30f3\\u30d4\\u30e5\\u30fc\\u30c8\\u30ed\\u30f3\", \"offsetgroup\": \"\\u30b3\\u30f3\\u30d4\\u30e5\\u30fc\\u30c8\\u30ed\\u30f3\", \"orientation\": \"v\", \"showlegend\": true, \"textposition\": \"auto\", \"type\": \"bar\", \"x\": [2019], \"xaxis\": \"x\", \"y\": [1], \"yaxis\": \"y\"}, {\"alignmentgroup\": \"True\", \"hovertemplate\": \"Company=\\u30b9\\u30af\\u30a6\\u30a7\\u30a2\\u30fb\\u30a8\\u30cb\\u30c3\\u30af\\u30b9<br>Year=%{x}<br>Counts=%{y}<extra></extra>\", \"legendgroup\": \"\\u30b9\\u30af\\u30a6\\u30a7\\u30a2\\u30fb\\u30a8\\u30cb\\u30c3\\u30af\\u30b9\", \"marker\": {\"color\": \"#FF6692\"}, \"name\": \"\\u30b9\\u30af\\u30a6\\u30a7\\u30a2\\u30fb\\u30a8\\u30cb\\u30c3\\u30af\\u30b9\", \"offsetgroup\": \"\\u30b9\\u30af\\u30a6\\u30a7\\u30a2\\u30fb\\u30a8\\u30cb\\u30c3\\u30af\\u30b9\", \"orientation\": \"v\", \"showlegend\": true, \"textposition\": \"auto\", \"type\": \"bar\", \"x\": [2019], \"xaxis\": \"x\", \"y\": [1], \"yaxis\": \"y\"}, {\"alignmentgroup\": \"True\", \"hovertemplate\": \"Company=\\u30bd\\u30d5\\u30c8\\u30a6\\u30a7\\u30a2\\u30b3\\u30f3\\u30c8\\u30ed\\u30fc\\u30eb<br>Year=%{x}<br>Counts=%{y}<extra></extra>\", \"legendgroup\": \"\\u30bd\\u30d5\\u30c8\\u30a6\\u30a7\\u30a2\\u30b3\\u30f3\\u30c8\\u30ed\\u30fc\\u30eb\", \"marker\": {\"color\": \"#B6E880\"}, \"name\": \"\\u30bd\\u30d5\\u30c8\\u30a6\\u30a7\\u30a2\\u30b3\\u30f3\\u30c8\\u30ed\\u30fc\\u30eb\", \"offsetgroup\": \"\\u30bd\\u30d5\\u30c8\\u30a6\\u30a7\\u30a2\\u30b3\\u30f3\\u30c8\\u30ed\\u30fc\\u30eb\", \"orientation\": \"v\", \"showlegend\": true, \"textposition\": \"auto\", \"type\": \"bar\", \"x\": [2019], \"xaxis\": \"x\", \"y\": [1], \"yaxis\": \"y\"}, {\"alignmentgroup\": \"True\", \"hovertemplate\": \"Company=\\u30bd\\u30d5\\u30c8\\u30d0\\u30f3\\u30af\\u30fb\\u30c6\\u30af\\u30ce\\u30ed\\u30b8\\u30fc<br>Year=%{x}<br>Counts=%{y}<extra></extra>\", \"legendgroup\": \"\\u30bd\\u30d5\\u30c8\\u30d0\\u30f3\\u30af\\u30fb\\u30c6\\u30af\\u30ce\\u30ed\\u30b8\\u30fc\", \"marker\": {\"color\": \"#FF97FF\"}, \"name\": \"\\u30bd\\u30d5\\u30c8\\u30d0\\u30f3\\u30af\\u30fb\\u30c6\\u30af\\u30ce\\u30ed\\u30b8\\u30fc\", \"offsetgroup\": \"\\u30bd\\u30d5\\u30c8\\u30d0\\u30f3\\u30af\\u30fb\\u30c6\\u30af\\u30ce\\u30ed\\u30b8\\u30fc\", \"orientation\": \"v\", \"showlegend\": true, \"textposition\": \"auto\", \"type\": \"bar\", \"x\": [2019], \"xaxis\": \"x\", \"y\": [1], \"yaxis\": \"y\"}, {\"alignmentgroup\": \"True\", \"hovertemplate\": \"Company=\\u30c7\\u30f3\\u30bd\\u30fc<br>Year=%{x}<br>Counts=%{y}<extra></extra>\", \"legendgroup\": \"\\u30c7\\u30f3\\u30bd\\u30fc\", \"marker\": {\"color\": \"#FECB52\"}, \"name\": \"\\u30c7\\u30f3\\u30bd\\u30fc\", \"offsetgroup\": \"\\u30c7\\u30f3\\u30bd\\u30fc\", \"orientation\": \"v\", \"showlegend\": true, \"textposition\": \"auto\", \"type\": \"bar\", \"x\": [2019], \"xaxis\": \"x\", \"y\": [1], \"yaxis\": \"y\"}, {\"alignmentgroup\": \"True\", \"hovertemplate\": \"Company=\\u30c8\\u30e8\\u30bf\\u81ea\\u52d5\\u8eca<br>Year=%{x}<br>Counts=%{y}<extra></extra>\", \"legendgroup\": \"\\u30c8\\u30e8\\u30bf\\u81ea\\u52d5\\u8eca\", \"marker\": {\"color\": \"#636efa\"}, \"name\": \"\\u30c8\\u30e8\\u30bf\\u81ea\\u52d5\\u8eca\", \"offsetgroup\": \"\\u30c8\\u30e8\\u30bf\\u81ea\\u52d5\\u8eca\", \"orientation\": \"v\", \"showlegend\": true, \"textposition\": \"auto\", \"type\": \"bar\", \"x\": [2019], \"xaxis\": \"x\", \"y\": [1], \"yaxis\": \"y\"}, {\"alignmentgroup\": \"True\", \"hovertemplate\": \"Company=\\u30cf\\u30eb\\u30b3\\u30e0<br>Year=%{x}<br>Counts=%{y}<extra></extra>\", \"legendgroup\": \"\\u30cf\\u30eb\\u30b3\\u30e0\", \"marker\": {\"color\": \"#EF553B\"}, \"name\": \"\\u30cf\\u30eb\\u30b3\\u30e0\", \"offsetgroup\": \"\\u30cf\\u30eb\\u30b3\\u30e0\", \"orientation\": \"v\", \"showlegend\": true, \"textposition\": \"auto\", \"type\": \"bar\", \"x\": [2019], \"xaxis\": \"x\", \"y\": [1], \"yaxis\": \"y\"}, {\"alignmentgroup\": \"True\", \"hovertemplate\": \"Company=\\u30d5\\u30a1\\u30fc\\u30b9\\u30c8<br>Year=%{x}<br>Counts=%{y}<extra></extra>\", \"legendgroup\": \"\\u30d5\\u30a1\\u30fc\\u30b9\\u30c8\", \"marker\": {\"color\": \"#00cc96\"}, \"name\": \"\\u30d5\\u30a1\\u30fc\\u30b9\\u30c8\", \"offsetgroup\": \"\\u30d5\\u30a1\\u30fc\\u30b9\\u30c8\", \"orientation\": \"v\", \"showlegend\": true, \"textposition\": \"auto\", \"type\": \"bar\", \"x\": [2019], \"xaxis\": \"x\", \"y\": [1], \"yaxis\": \"y\"}, {\"alignmentgroup\": \"True\", \"hovertemplate\": \"Company=\\u30de\\u30af\\u30cb\\u30ab<br>Year=%{x}<br>Counts=%{y}<extra></extra>\", \"legendgroup\": \"\\u30de\\u30af\\u30cb\\u30ab\", \"marker\": {\"color\": \"#ab63fa\"}, \"name\": \"\\u30de\\u30af\\u30cb\\u30ab\", \"offsetgroup\": \"\\u30de\\u30af\\u30cb\\u30ab\", \"orientation\": \"v\", \"showlegend\": true, \"textposition\": \"auto\", \"type\": \"bar\", \"x\": [2019], \"xaxis\": \"x\", \"y\": [1], \"yaxis\": \"y\"}, {\"alignmentgroup\": \"True\", \"hovertemplate\": \"Company=\\u30ea\\u30b3\\u30fc<br>Year=%{x}<br>Counts=%{y}<extra></extra>\", \"legendgroup\": \"\\u30ea\\u30b3\\u30fc\", \"marker\": {\"color\": \"#FFA15A\"}, \"name\": \"\\u30ea\\u30b3\\u30fc\", \"offsetgroup\": \"\\u30ea\\u30b3\\u30fc\", \"orientation\": \"v\", \"showlegend\": true, \"textposition\": \"auto\", \"type\": \"bar\", \"x\": [2019, 2020], \"xaxis\": \"x\", \"y\": [1, 2], \"yaxis\": \"y\"}, {\"alignmentgroup\": \"True\", \"hovertemplate\": \"Company=\\u4e09\\u4e95\\u7269\\u7523\\u30bb\\u30ad\\u30e5\\u30a2\\u30c7\\u30a3\\u30ec\\u30af\\u30b7\\u30e7\\u30f3<br>Year=%{x}<br>Counts=%{y}<extra></extra>\", \"legendgroup\": \"\\u4e09\\u4e95\\u7269\\u7523\\u30bb\\u30ad\\u30e5\\u30a2\\u30c7\\u30a3\\u30ec\\u30af\\u30b7\\u30e7\\u30f3\", \"marker\": {\"color\": \"#19d3f3\"}, \"name\": \"\\u4e09\\u4e95\\u7269\\u7523\\u30bb\\u30ad\\u30e5\\u30a2\\u30c7\\u30a3\\u30ec\\u30af\\u30b7\\u30e7\\u30f3\", \"offsetgroup\": \"\\u4e09\\u4e95\\u7269\\u7523\\u30bb\\u30ad\\u30e5\\u30a2\\u30c7\\u30a3\\u30ec\\u30af\\u30b7\\u30e7\\u30f3\", \"orientation\": \"v\", \"showlegend\": true, \"textposition\": \"auto\", \"type\": \"bar\", \"x\": [2019], \"xaxis\": \"x\", \"y\": [1], \"yaxis\": \"y\"}, {\"alignmentgroup\": \"True\", \"hovertemplate\": \"Company=\\u4e09\\u83f1\\u96fb\\u6a5f\\u30de\\u30a4\\u30b3\\u30f3\\u6a5f\\u5668\\u30bd\\u30d5\\u30c8\\u30a6\\u30a8\\u30a2<br>Year=%{x}<br>Counts=%{y}<extra></extra>\", \"legendgroup\": \"\\u4e09\\u83f1\\u96fb\\u6a5f\\u30de\\u30a4\\u30b3\\u30f3\\u6a5f\\u5668\\u30bd\\u30d5\\u30c8\\u30a6\\u30a8\\u30a2\", \"marker\": {\"color\": \"#FF6692\"}, \"name\": \"\\u4e09\\u83f1\\u96fb\\u6a5f\\u30de\\u30a4\\u30b3\\u30f3\\u6a5f\\u5668\\u30bd\\u30d5\\u30c8\\u30a6\\u30a8\\u30a2\", \"offsetgroup\": \"\\u4e09\\u83f1\\u96fb\\u6a5f\\u30de\\u30a4\\u30b3\\u30f3\\u6a5f\\u5668\\u30bd\\u30d5\\u30c8\\u30a6\\u30a8\\u30a2\", \"orientation\": \"v\", \"showlegend\": true, \"textposition\": \"auto\", \"type\": \"bar\", \"x\": [2019], \"xaxis\": \"x\", \"y\": [1], \"yaxis\": \"y\"}, {\"alignmentgroup\": \"True\", \"hovertemplate\": \"Company=\\u4eac\\u30bb\\u30e9<br>Year=%{x}<br>Counts=%{y}<extra></extra>\", \"legendgroup\": \"\\u4eac\\u30bb\\u30e9\", \"marker\": {\"color\": \"#B6E880\"}, \"name\": \"\\u4eac\\u30bb\\u30e9\", \"offsetgroup\": \"\\u4eac\\u30bb\\u30e9\", \"orientation\": \"v\", \"showlegend\": true, \"textposition\": \"auto\", \"type\": \"bar\", \"x\": [2019], \"xaxis\": \"x\", \"y\": [1], \"yaxis\": \"y\"}, {\"alignmentgroup\": \"True\", \"hovertemplate\": \"Company=\\u529b\\u6b66\\u5065\\u6b21\\u6280\\u8853\\u58eb\\u4e8b\\u52d9\\u6240<br>Year=%{x}<br>Counts=%{y}<extra></extra>\", \"legendgroup\": \"\\u529b\\u6b66\\u5065\\u6b21\\u6280\\u8853\\u58eb\\u4e8b\\u52d9\\u6240\", \"marker\": {\"color\": \"#FF97FF\"}, \"name\": \"\\u529b\\u6b66\\u5065\\u6b21\\u6280\\u8853\\u58eb\\u4e8b\\u52d9\\u6240\", \"offsetgroup\": \"\\u529b\\u6b66\\u5065\\u6b21\\u6280\\u8853\\u58eb\\u4e8b\\u52d9\\u6240\", \"orientation\": \"v\", \"showlegend\": true, \"textposition\": \"auto\", \"type\": \"bar\", \"x\": [2019], \"xaxis\": \"x\", \"y\": [1], \"yaxis\": \"y\"}, {\"alignmentgroup\": \"True\", \"hovertemplate\": \"Company=\\u5742\\u6771\\u6280\\u8853\\u58eb\\u4e8b\\u52d9\\u6240<br>Year=%{x}<br>Counts=%{y}<extra></extra>\", \"legendgroup\": \"\\u5742\\u6771\\u6280\\u8853\\u58eb\\u4e8b\\u52d9\\u6240\", \"marker\": {\"color\": \"#FECB52\"}, \"name\": \"\\u5742\\u6771\\u6280\\u8853\\u58eb\\u4e8b\\u52d9\\u6240\", \"offsetgroup\": \"\\u5742\\u6771\\u6280\\u8853\\u58eb\\u4e8b\\u52d9\\u6240\", \"orientation\": \"v\", \"showlegend\": true, \"textposition\": \"auto\", \"type\": \"bar\", \"x\": [2019], \"xaxis\": \"x\", \"y\": [1], \"yaxis\": \"y\"}, {\"alignmentgroup\": \"True\", \"hovertemplate\": \"Company=\\u5927\\u8107\\u6280\\u8853\\u58eb\\u4e8b\\u52d9\\u6240<br>Year=%{x}<br>Counts=%{y}<extra></extra>\", \"legendgroup\": \"\\u5927\\u8107\\u6280\\u8853\\u58eb\\u4e8b\\u52d9\\u6240\", \"marker\": {\"color\": \"#636efa\"}, \"name\": \"\\u5927\\u8107\\u6280\\u8853\\u58eb\\u4e8b\\u52d9\\u6240\", \"offsetgroup\": \"\\u5927\\u8107\\u6280\\u8853\\u58eb\\u4e8b\\u52d9\\u6240\", \"orientation\": \"v\", \"showlegend\": true, \"textposition\": \"auto\", \"type\": \"bar\", \"x\": [2019], \"xaxis\": \"x\", \"y\": [1], \"yaxis\": \"y\"}, {\"alignmentgroup\": \"True\", \"hovertemplate\": \"Company=\\u592a\\u5e73\\u6d0b\\u5de5\\u696d<br>Year=%{x}<br>Counts=%{y}<extra></extra>\", \"legendgroup\": \"\\u592a\\u5e73\\u6d0b\\u5de5\\u696d\", \"marker\": {\"color\": \"#EF553B\"}, \"name\": \"\\u592a\\u5e73\\u6d0b\\u5de5\\u696d\", \"offsetgroup\": \"\\u592a\\u5e73\\u6d0b\\u5de5\\u696d\", \"orientation\": \"v\", \"showlegend\": true, \"textposition\": \"auto\", \"type\": \"bar\", \"x\": [2019], \"xaxis\": \"x\", \"y\": [1], \"yaxis\": \"y\"}, {\"alignmentgroup\": \"True\", \"hovertemplate\": \"Company=\\u5c71\\u4e0b\\u8a2d\\u8a08<br>Year=%{x}<br>Counts=%{y}<extra></extra>\", \"legendgroup\": \"\\u5c71\\u4e0b\\u8a2d\\u8a08\", \"marker\": {\"color\": \"#00cc96\"}, \"name\": \"\\u5c71\\u4e0b\\u8a2d\\u8a08\", \"offsetgroup\": \"\\u5c71\\u4e0b\\u8a2d\\u8a08\", \"orientation\": \"v\", \"showlegend\": true, \"textposition\": \"auto\", \"type\": \"bar\", \"x\": [2019], \"xaxis\": \"x\", \"y\": [1], \"yaxis\": \"y\"}, {\"alignmentgroup\": \"True\", \"hovertemplate\": \"Company=\\u5c71\\u8107\\u5b66\\u5712<br>Year=%{x}<br>Counts=%{y}<extra></extra>\", \"legendgroup\": \"\\u5c71\\u8107\\u5b66\\u5712\", \"marker\": {\"color\": \"#ab63fa\"}, \"name\": \"\\u5c71\\u8107\\u5b66\\u5712\", \"offsetgroup\": \"\\u5c71\\u8107\\u5b66\\u5712\", \"orientation\": \"v\", \"showlegend\": true, \"textposition\": \"auto\", \"type\": \"bar\", \"x\": [2019], \"xaxis\": \"x\", \"y\": [1], \"yaxis\": \"y\"}, {\"alignmentgroup\": \"True\", \"hovertemplate\": \"Company=\\u65e5\\u672c\\u5de5\\u55b6<br>Year=%{x}<br>Counts=%{y}<extra></extra>\", \"legendgroup\": \"\\u65e5\\u672c\\u5de5\\u55b6\", \"marker\": {\"color\": \"#FFA15A\"}, \"name\": \"\\u65e5\\u672c\\u5de5\\u55b6\", \"offsetgroup\": \"\\u65e5\\u672c\\u5de5\\u55b6\", \"orientation\": \"v\", \"showlegend\": true, \"textposition\": \"auto\", \"type\": \"bar\", \"x\": [2019], \"xaxis\": \"x\", \"y\": [2], \"yaxis\": \"y\"}, {\"alignmentgroup\": \"True\", \"hovertemplate\": \"Company=\\u65e5\\u672c\\uff2e\\uff23\\uff32<br>Year=%{x}<br>Counts=%{y}<extra></extra>\", \"legendgroup\": \"\\u65e5\\u672c\\uff2e\\uff23\\uff32\", \"marker\": {\"color\": \"#19d3f3\"}, \"name\": \"\\u65e5\\u672c\\uff2e\\uff23\\uff32\", \"offsetgroup\": \"\\u65e5\\u672c\\uff2e\\uff23\\uff32\", \"orientation\": \"v\", \"showlegend\": true, \"textposition\": \"auto\", \"type\": \"bar\", \"x\": [2019], \"xaxis\": \"x\", \"y\": [1], \"yaxis\": \"y\"}, {\"alignmentgroup\": \"True\", \"hovertemplate\": \"Company=\\u65e5\\u7acb\\u30b7\\u30b9\\u30c6\\u30e0\\u30ba<br>Year=%{x}<br>Counts=%{y}<extra></extra>\", \"legendgroup\": \"\\u65e5\\u7acb\\u30b7\\u30b9\\u30c6\\u30e0\\u30ba\", \"marker\": {\"color\": \"#FF6692\"}, \"name\": \"\\u65e5\\u7acb\\u30b7\\u30b9\\u30c6\\u30e0\\u30ba\", \"offsetgroup\": \"\\u65e5\\u7acb\\u30b7\\u30b9\\u30c6\\u30e0\\u30ba\", \"orientation\": \"v\", \"showlegend\": true, \"textposition\": \"auto\", \"type\": \"bar\", \"x\": [2019], \"xaxis\": \"x\", \"y\": [1], \"yaxis\": \"y\"}, {\"alignmentgroup\": \"True\", \"hovertemplate\": \"Company=\\u65e5\\u7acb\\u30bd\\u30ea\\u30e5\\u30fc\\u30b7\\u30e7\\u30f3\\u30ba\\u30fb\\u30af\\u30ea\\u30a8\\u30a4\\u30c8<br>Year=%{x}<br>Counts=%{y}<extra></extra>\", \"legendgroup\": \"\\u65e5\\u7acb\\u30bd\\u30ea\\u30e5\\u30fc\\u30b7\\u30e7\\u30f3\\u30ba\\u30fb\\u30af\\u30ea\\u30a8\\u30a4\\u30c8\", \"marker\": {\"color\": \"#B6E880\"}, \"name\": \"\\u65e5\\u7acb\\u30bd\\u30ea\\u30e5\\u30fc\\u30b7\\u30e7\\u30f3\\u30ba\\u30fb\\u30af\\u30ea\\u30a8\\u30a4\\u30c8\", \"offsetgroup\": \"\\u65e5\\u7acb\\u30bd\\u30ea\\u30e5\\u30fc\\u30b7\\u30e7\\u30f3\\u30ba\\u30fb\\u30af\\u30ea\\u30a8\\u30a4\\u30c8\", \"orientation\": \"v\", \"showlegend\": true, \"textposition\": \"auto\", \"type\": \"bar\", \"x\": [2019], \"xaxis\": \"x\", \"y\": [1], \"yaxis\": \"y\"}, {\"alignmentgroup\": \"True\", \"hovertemplate\": \"Company=\\u65e5\\u7acb\\u7523\\u6a5f\\u30b7\\u30b9\\u30c6\\u30e0<br>Year=%{x}<br>Counts=%{y}<extra></extra>\", \"legendgroup\": \"\\u65e5\\u7acb\\u7523\\u6a5f\\u30b7\\u30b9\\u30c6\\u30e0\", \"marker\": {\"color\": \"#FF97FF\"}, \"name\": \"\\u65e5\\u7acb\\u7523\\u6a5f\\u30b7\\u30b9\\u30c6\\u30e0\", \"offsetgroup\": \"\\u65e5\\u7acb\\u7523\\u6a5f\\u30b7\\u30b9\\u30c6\\u30e0\", \"orientation\": \"v\", \"showlegend\": true, \"textposition\": \"auto\", \"type\": \"bar\", \"x\": [2019], \"xaxis\": \"x\", \"y\": [1], \"yaxis\": \"y\"}, {\"alignmentgroup\": \"True\", \"hovertemplate\": \"Company=\\u6771\\u4eac\\u30ac\\u30b9\\uff49\\u30cd\\u30c3\\u30c8<br>Year=%{x}<br>Counts=%{y}<extra></extra>\", \"legendgroup\": \"\\u6771\\u4eac\\u30ac\\u30b9\\uff49\\u30cd\\u30c3\\u30c8\", \"marker\": {\"color\": \"#FECB52\"}, \"name\": \"\\u6771\\u4eac\\u30ac\\u30b9\\uff49\\u30cd\\u30c3\\u30c8\", \"offsetgroup\": \"\\u6771\\u4eac\\u30ac\\u30b9\\uff49\\u30cd\\u30c3\\u30c8\", \"orientation\": \"v\", \"showlegend\": true, \"textposition\": \"auto\", \"type\": \"bar\", \"x\": [2019], \"xaxis\": \"x\", \"y\": [1], \"yaxis\": \"y\"}, {\"alignmentgroup\": \"True\", \"hovertemplate\": \"Company=\\u6771\\u4eac\\u5de5\\u696d\\u9ad8\\u7b49\\u5c02\\u9580\\u5b66\\u6821<br>Year=%{x}<br>Counts=%{y}<extra></extra>\", \"legendgroup\": \"\\u6771\\u4eac\\u5de5\\u696d\\u9ad8\\u7b49\\u5c02\\u9580\\u5b66\\u6821\", \"marker\": {\"color\": \"#636efa\"}, \"name\": \"\\u6771\\u4eac\\u5de5\\u696d\\u9ad8\\u7b49\\u5c02\\u9580\\u5b66\\u6821\", \"offsetgroup\": \"\\u6771\\u4eac\\u5de5\\u696d\\u9ad8\\u7b49\\u5c02\\u9580\\u5b66\\u6821\", \"orientation\": \"v\", \"showlegend\": true, \"textposition\": \"auto\", \"type\": \"bar\", \"x\": [2019], \"xaxis\": \"x\", \"y\": [1], \"yaxis\": \"y\"}, {\"alignmentgroup\": \"True\", \"hovertemplate\": \"Company=\\u6771\\u829d\\u30a4\\u30f3\\u30d5\\u30e9\\u30b7\\u30b9\\u30c6\\u30e0\\u30ba<br>Year=%{x}<br>Counts=%{y}<extra></extra>\", \"legendgroup\": \"\\u6771\\u829d\\u30a4\\u30f3\\u30d5\\u30e9\\u30b7\\u30b9\\u30c6\\u30e0\\u30ba\", \"marker\": {\"color\": \"#EF553B\"}, \"name\": \"\\u6771\\u829d\\u30a4\\u30f3\\u30d5\\u30e9\\u30b7\\u30b9\\u30c6\\u30e0\\u30ba\", \"offsetgroup\": \"\\u6771\\u829d\\u30a4\\u30f3\\u30d5\\u30e9\\u30b7\\u30b9\\u30c6\\u30e0\\u30ba\", \"orientation\": \"v\", \"showlegend\": true, \"textposition\": \"auto\", \"type\": \"bar\", \"x\": [2019], \"xaxis\": \"x\", \"y\": [6], \"yaxis\": \"y\"}, {\"alignmentgroup\": \"True\", \"hovertemplate\": \"Company=\\u6771\\u829d\\u30c7\\u30b8\\u30bf\\u30eb\\u30bd\\u30ea\\u30e5\\u30fc\\u30b7\\u30e7\\u30f3\\u30ba<br>Year=%{x}<br>Counts=%{y}<extra></extra>\", \"legendgroup\": \"\\u6771\\u829d\\u30c7\\u30b8\\u30bf\\u30eb\\u30bd\\u30ea\\u30e5\\u30fc\\u30b7\\u30e7\\u30f3\\u30ba\", \"marker\": {\"color\": \"#00cc96\"}, \"name\": \"\\u6771\\u829d\\u30c7\\u30b8\\u30bf\\u30eb\\u30bd\\u30ea\\u30e5\\u30fc\\u30b7\\u30e7\\u30f3\\u30ba\", \"offsetgroup\": \"\\u6771\\u829d\\u30c7\\u30b8\\u30bf\\u30eb\\u30bd\\u30ea\\u30e5\\u30fc\\u30b7\\u30e7\\u30f3\\u30ba\", \"orientation\": \"v\", \"showlegend\": true, \"textposition\": \"auto\", \"type\": \"bar\", \"x\": [2019], \"xaxis\": \"x\", \"y\": [1], \"yaxis\": \"y\"}, {\"alignmentgroup\": \"True\", \"hovertemplate\": \"Company=\\u677e\\u4e0b\\u6280\\u8853\\u58eb\\u4e8b\\u52d9\\u6240<br>Year=%{x}<br>Counts=%{y}<extra></extra>\", \"legendgroup\": \"\\u677e\\u4e0b\\u6280\\u8853\\u58eb\\u4e8b\\u52d9\\u6240\", \"marker\": {\"color\": \"#ab63fa\"}, \"name\": \"\\u677e\\u4e0b\\u6280\\u8853\\u58eb\\u4e8b\\u52d9\\u6240\", \"offsetgroup\": \"\\u677e\\u4e0b\\u6280\\u8853\\u58eb\\u4e8b\\u52d9\\u6240\", \"orientation\": \"v\", \"showlegend\": true, \"textposition\": \"auto\", \"type\": \"bar\", \"x\": [2019], \"xaxis\": \"x\", \"y\": [1], \"yaxis\": \"y\"}, {\"alignmentgroup\": \"True\", \"hovertemplate\": \"Company=\\u67cf\\u539f\\u30b3\\u30f3\\u30b5\\u30eb\\u30c6\\u30a3\\u30f3\\u30b0\\u30aa\\u30d5\\u30a3\\u30b9<br>Year=%{x}<br>Counts=%{y}<extra></extra>\", \"legendgroup\": \"\\u67cf\\u539f\\u30b3\\u30f3\\u30b5\\u30eb\\u30c6\\u30a3\\u30f3\\u30b0\\u30aa\\u30d5\\u30a3\\u30b9\", \"marker\": {\"color\": \"#FFA15A\"}, \"name\": \"\\u67cf\\u539f\\u30b3\\u30f3\\u30b5\\u30eb\\u30c6\\u30a3\\u30f3\\u30b0\\u30aa\\u30d5\\u30a3\\u30b9\", \"offsetgroup\": \"\\u67cf\\u539f\\u30b3\\u30f3\\u30b5\\u30eb\\u30c6\\u30a3\\u30f3\\u30b0\\u30aa\\u30d5\\u30a3\\u30b9\", \"orientation\": \"v\", \"showlegend\": true, \"textposition\": \"auto\", \"type\": \"bar\", \"x\": [2019], \"xaxis\": \"x\", \"y\": [1], \"yaxis\": \"y\"}, {\"alignmentgroup\": \"True\", \"hovertemplate\": \"Company=\\u6c96\\u96fb\\u6c17\\u5de5\\u696d<br>Year=%{x}<br>Counts=%{y}<extra></extra>\", \"legendgroup\": \"\\u6c96\\u96fb\\u6c17\\u5de5\\u696d\", \"marker\": {\"color\": \"#19d3f3\"}, \"name\": \"\\u6c96\\u96fb\\u6c17\\u5de5\\u696d\", \"offsetgroup\": \"\\u6c96\\u96fb\\u6c17\\u5de5\\u696d\", \"orientation\": \"v\", \"showlegend\": true, \"textposition\": \"auto\", \"type\": \"bar\", \"x\": [2019], \"xaxis\": \"x\", \"y\": [1], \"yaxis\": \"y\"}, {\"alignmentgroup\": \"True\", \"hovertemplate\": \"Company=\\u77f3\\u5ddd\\uff25\\uff06\\uff29\\uff34\\u6280\\u8853\\u58eb\\u4e8b\\u52d9\\u6240<br>Year=%{x}<br>Counts=%{y}<extra></extra>\", \"legendgroup\": \"\\u77f3\\u5ddd\\uff25\\uff06\\uff29\\uff34\\u6280\\u8853\\u58eb\\u4e8b\\u52d9\\u6240\", \"marker\": {\"color\": \"#FF6692\"}, \"name\": \"\\u77f3\\u5ddd\\uff25\\uff06\\uff29\\uff34\\u6280\\u8853\\u58eb\\u4e8b\\u52d9\\u6240\", \"offsetgroup\": \"\\u77f3\\u5ddd\\uff25\\uff06\\uff29\\uff34\\u6280\\u8853\\u58eb\\u4e8b\\u52d9\\u6240\", \"orientation\": \"v\", \"showlegend\": true, \"textposition\": \"auto\", \"type\": \"bar\", \"x\": [2019], \"xaxis\": \"x\", \"y\": [1], \"yaxis\": \"y\"}, {\"alignmentgroup\": \"True\", \"hovertemplate\": \"Company=\\u795e\\u6238\\u5b66\\u9662\\u5927\\u5b66<br>Year=%{x}<br>Counts=%{y}<extra></extra>\", \"legendgroup\": \"\\u795e\\u6238\\u5b66\\u9662\\u5927\\u5b66\", \"marker\": {\"color\": \"#B6E880\"}, \"name\": \"\\u795e\\u6238\\u5b66\\u9662\\u5927\\u5b66\", \"offsetgroup\": \"\\u795e\\u6238\\u5b66\\u9662\\u5927\\u5b66\", \"orientation\": \"v\", \"showlegend\": true, \"textposition\": \"auto\", \"type\": \"bar\", \"x\": [2019], \"xaxis\": \"x\", \"y\": [1], \"yaxis\": \"y\"}, {\"alignmentgroup\": \"True\", \"hovertemplate\": \"Company=\\u935c\\u6cbb\\u6280\\u8853\\u58eb\\u4e8b\\u52d9\\u6240<br>Year=%{x}<br>Counts=%{y}<extra></extra>\", \"legendgroup\": \"\\u935c\\u6cbb\\u6280\\u8853\\u58eb\\u4e8b\\u52d9\\u6240\", \"marker\": {\"color\": \"#FF97FF\"}, \"name\": \"\\u935c\\u6cbb\\u6280\\u8853\\u58eb\\u4e8b\\u52d9\\u6240\", \"offsetgroup\": \"\\u935c\\u6cbb\\u6280\\u8853\\u58eb\\u4e8b\\u52d9\\u6240\", \"orientation\": \"v\", \"showlegend\": true, \"textposition\": \"auto\", \"type\": \"bar\", \"x\": [2019], \"xaxis\": \"x\", \"y\": [1], \"yaxis\": \"y\"}, {\"alignmentgroup\": \"True\", \"hovertemplate\": \"Company=\\u95a2\\u96fb\\u30b7\\u30b9\\u30c6\\u30e0\\u30ba<br>Year=%{x}<br>Counts=%{y}<extra></extra>\", \"legendgroup\": \"\\u95a2\\u96fb\\u30b7\\u30b9\\u30c6\\u30e0\\u30ba\", \"marker\": {\"color\": \"#FECB52\"}, \"name\": \"\\u95a2\\u96fb\\u30b7\\u30b9\\u30c6\\u30e0\\u30ba\", \"offsetgroup\": \"\\u95a2\\u96fb\\u30b7\\u30b9\\u30c6\\u30e0\\u30ba\", \"orientation\": \"v\", \"showlegend\": true, \"textposition\": \"auto\", \"type\": \"bar\", \"x\": [2019], \"xaxis\": \"x\", \"y\": [1], \"yaxis\": \"y\"}, {\"alignmentgroup\": \"True\", \"hovertemplate\": \"Company=\\u96fb\\u8a2d\\u30b3\\u30f3\\u30b5\\u30eb\\u30bf\\u30f3\\u30c4\\u682a\\u5f0f\\u4f1a\\u793e<br>Year=%{x}<br>Counts=%{y}<extra></extra>\", \"legendgroup\": \"\\u96fb\\u8a2d\\u30b3\\u30f3\\u30b5\\u30eb\\u30bf\\u30f3\\u30c4\\u682a\\u5f0f\\u4f1a\\u793e\", \"marker\": {\"color\": \"#636efa\"}, \"name\": \"\\u96fb\\u8a2d\\u30b3\\u30f3\\u30b5\\u30eb\\u30bf\\u30f3\\u30c4\\u682a\\u5f0f\\u4f1a\\u793e\", \"offsetgroup\": \"\\u96fb\\u8a2d\\u30b3\\u30f3\\u30b5\\u30eb\\u30bf\\u30f3\\u30c4\\u682a\\u5f0f\\u4f1a\\u793e\", \"orientation\": \"v\", \"showlegend\": true, \"textposition\": \"auto\", \"type\": \"bar\", \"x\": [2019], \"xaxis\": \"x\", \"y\": [1], \"yaxis\": \"y\"}, {\"alignmentgroup\": \"True\", \"hovertemplate\": \"Company=\\u96fb\\u901a\\u56fd\\u969b\\u60c5\\u5831\\u30b5\\u30fc\\u30d3\\u30b9<br>Year=%{x}<br>Counts=%{y}<extra></extra>\", \"legendgroup\": \"\\u96fb\\u901a\\u56fd\\u969b\\u60c5\\u5831\\u30b5\\u30fc\\u30d3\\u30b9\", \"marker\": {\"color\": \"#EF553B\"}, \"name\": \"\\u96fb\\u901a\\u56fd\\u969b\\u60c5\\u5831\\u30b5\\u30fc\\u30d3\\u30b9\", \"offsetgroup\": \"\\u96fb\\u901a\\u56fd\\u969b\\u60c5\\u5831\\u30b5\\u30fc\\u30d3\\u30b9\", \"orientation\": \"v\", \"showlegend\": true, \"textposition\": \"auto\", \"type\": \"bar\", \"x\": [2019], \"xaxis\": \"x\", \"y\": [1], \"yaxis\": \"y\"}, {\"alignmentgroup\": \"True\", \"hovertemplate\": \"Company=\\u98ef\\u7530ICT\\u6280\\u8853\\u58eb\\u4e8b\\u52d9\\u6240<br>Year=%{x}<br>Counts=%{y}<extra></extra>\", \"legendgroup\": \"\\u98ef\\u7530ICT\\u6280\\u8853\\u58eb\\u4e8b\\u52d9\\u6240\", \"marker\": {\"color\": \"#00cc96\"}, \"name\": \"\\u98ef\\u7530ICT\\u6280\\u8853\\u58eb\\u4e8b\\u52d9\\u6240\", \"offsetgroup\": \"\\u98ef\\u7530ICT\\u6280\\u8853\\u58eb\\u4e8b\\u52d9\\u6240\", \"orientation\": \"v\", \"showlegend\": true, \"textposition\": \"auto\", \"type\": \"bar\", \"x\": [2019], \"xaxis\": \"x\", \"y\": [1], \"yaxis\": \"y\"}, {\"alignmentgroup\": \"True\", \"hovertemplate\": \"Company=\\uff2c\\uff33\\uff25\\uff34<br>Year=%{x}<br>Counts=%{y}<extra></extra>\", \"legendgroup\": \"\\uff2c\\uff33\\uff25\\uff34\", \"marker\": {\"color\": \"#ab63fa\"}, \"name\": \"\\uff2c\\uff33\\uff25\\uff34\", \"offsetgroup\": \"\\uff2c\\uff33\\uff25\\uff34\", \"orientation\": \"v\", \"showlegend\": true, \"textposition\": \"auto\", \"type\": \"bar\", \"x\": [2019], \"xaxis\": \"x\", \"y\": [1], \"yaxis\": \"y\"}, {\"alignmentgroup\": \"True\", \"hovertemplate\": \"Company=\\uff2e\\uff24\\uff33<br>Year=%{x}<br>Counts=%{y}<extra></extra>\", \"legendgroup\": \"\\uff2e\\uff24\\uff33\", \"marker\": {\"color\": \"#FFA15A\"}, \"name\": \"\\uff2e\\uff24\\uff33\", \"offsetgroup\": \"\\uff2e\\uff24\\uff33\", \"orientation\": \"v\", \"showlegend\": true, \"textposition\": \"auto\", \"type\": \"bar\", \"x\": [2019], \"xaxis\": \"x\", \"y\": [1], \"yaxis\": \"y\"}, {\"alignmentgroup\": \"True\", \"hovertemplate\": \"Company=NTT\\u897f\\u65e5\\u672c<br>Year=%{x}<br>Counts=%{y}<extra></extra>\", \"legendgroup\": \"NTT\\u897f\\u65e5\\u672c\", \"marker\": {\"color\": \"#19d3f3\"}, \"name\": \"NTT\\u897f\\u65e5\\u672c\", \"offsetgroup\": \"NTT\\u897f\\u65e5\\u672c\", \"orientation\": \"v\", \"showlegend\": true, \"textposition\": \"auto\", \"type\": \"bar\", \"x\": [2020], \"xaxis\": \"x\", \"y\": [1], \"yaxis\": \"y\"}, {\"alignmentgroup\": \"True\", \"hovertemplate\": \"Company=\\u307f\\u305a\\u307b\\u4fe1\\u8a17\\u9280\\u884c<br>Year=%{x}<br>Counts=%{y}<extra></extra>\", \"legendgroup\": \"\\u307f\\u305a\\u307b\\u4fe1\\u8a17\\u9280\\u884c\", \"marker\": {\"color\": \"#FF6692\"}, \"name\": \"\\u307f\\u305a\\u307b\\u4fe1\\u8a17\\u9280\\u884c\", \"offsetgroup\": \"\\u307f\\u305a\\u307b\\u4fe1\\u8a17\\u9280\\u884c\", \"orientation\": \"v\", \"showlegend\": true, \"textposition\": \"auto\", \"type\": \"bar\", \"x\": [2020], \"xaxis\": \"x\", \"y\": [1], \"yaxis\": \"y\"}, {\"alignmentgroup\": \"True\", \"hovertemplate\": \"Company=\\u30a2\\u30eb\\u30d7\\u30b9\\u30a2\\u30eb\\u30d1\\u30a4\\u30f3<br>Year=%{x}<br>Counts=%{y}<extra></extra>\", \"legendgroup\": \"\\u30a2\\u30eb\\u30d7\\u30b9\\u30a2\\u30eb\\u30d1\\u30a4\\u30f3\", \"marker\": {\"color\": \"#B6E880\"}, \"name\": \"\\u30a2\\u30eb\\u30d7\\u30b9\\u30a2\\u30eb\\u30d1\\u30a4\\u30f3\", \"offsetgroup\": \"\\u30a2\\u30eb\\u30d7\\u30b9\\u30a2\\u30eb\\u30d1\\u30a4\\u30f3\", \"orientation\": \"v\", \"showlegend\": true, \"textposition\": \"auto\", \"type\": \"bar\", \"x\": [2020], \"xaxis\": \"x\", \"y\": [1], \"yaxis\": \"y\"}, {\"alignmentgroup\": \"True\", \"hovertemplate\": \"Company=\\u30bf\\u30af\\u30de<br>Year=%{x}<br>Counts=%{y}<extra></extra>\", \"legendgroup\": \"\\u30bf\\u30af\\u30de\", \"marker\": {\"color\": \"#FF97FF\"}, \"name\": \"\\u30bf\\u30af\\u30de\", \"offsetgroup\": \"\\u30bf\\u30af\\u30de\", \"orientation\": \"v\", \"showlegend\": true, \"textposition\": \"auto\", \"type\": \"bar\", \"x\": [2020], \"xaxis\": \"x\", \"y\": [1], \"yaxis\": \"y\"}, {\"alignmentgroup\": \"True\", \"hovertemplate\": \"Company=\\u30ea\\u30b3\\u30fcIT\\u30bd\\u30ea\\u30e5\\u30fc\\u30b7\\u30e7\\u30f3\\u30ba<br>Year=%{x}<br>Counts=%{y}<extra></extra>\", \"legendgroup\": \"\\u30ea\\u30b3\\u30fcIT\\u30bd\\u30ea\\u30e5\\u30fc\\u30b7\\u30e7\\u30f3\\u30ba\", \"marker\": {\"color\": \"#FECB52\"}, \"name\": \"\\u30ea\\u30b3\\u30fcIT\\u30bd\\u30ea\\u30e5\\u30fc\\u30b7\\u30e7\\u30f3\\u30ba\", \"offsetgroup\": \"\\u30ea\\u30b3\\u30fcIT\\u30bd\\u30ea\\u30e5\\u30fc\\u30b7\\u30e7\\u30f3\\u30ba\", \"orientation\": \"v\", \"showlegend\": true, \"textposition\": \"auto\", \"type\": \"bar\", \"x\": [2020], \"xaxis\": \"x\", \"y\": [53], \"yaxis\": \"y\"}, {\"alignmentgroup\": \"True\", \"hovertemplate\": \"Company=\\u4e09\\u5009\\u30a8\\u30f3\\u30b8\\u30cb\\u30a2\\u30ea\\u30f3\\u30b0<br>Year=%{x}<br>Counts=%{y}<extra></extra>\", \"legendgroup\": \"\\u4e09\\u5009\\u30a8\\u30f3\\u30b8\\u30cb\\u30a2\\u30ea\\u30f3\\u30b0\", \"marker\": {\"color\": \"#636efa\"}, \"name\": \"\\u4e09\\u5009\\u30a8\\u30f3\\u30b8\\u30cb\\u30a2\\u30ea\\u30f3\\u30b0\", \"offsetgroup\": \"\\u4e09\\u5009\\u30a8\\u30f3\\u30b8\\u30cb\\u30a2\\u30ea\\u30f3\\u30b0\", \"orientation\": \"v\", \"showlegend\": true, \"textposition\": \"auto\", \"type\": \"bar\", \"x\": [2020], \"xaxis\": \"x\", \"y\": [1], \"yaxis\": \"y\"}, {\"alignmentgroup\": \"True\", \"hovertemplate\": \"Company=\\u5409\\u5ddd\\u6280\\u8853\\u58eb\\u4e8b\\u52d9\\u6240<br>Year=%{x}<br>Counts=%{y}<extra></extra>\", \"legendgroup\": \"\\u5409\\u5ddd\\u6280\\u8853\\u58eb\\u4e8b\\u52d9\\u6240\", \"marker\": {\"color\": \"#EF553B\"}, \"name\": \"\\u5409\\u5ddd\\u6280\\u8853\\u58eb\\u4e8b\\u52d9\\u6240\", \"offsetgroup\": \"\\u5409\\u5ddd\\u6280\\u8853\\u58eb\\u4e8b\\u52d9\\u6240\", \"orientation\": \"v\", \"showlegend\": true, \"textposition\": \"auto\", \"type\": \"bar\", \"x\": [2020], \"xaxis\": \"x\", \"y\": [1], \"yaxis\": \"y\"}, {\"alignmentgroup\": \"True\", \"hovertemplate\": \"Company=\\u65e5\\u672c\\u96fb\\u6280<br>Year=%{x}<br>Counts=%{y}<extra></extra>\", \"legendgroup\": \"\\u65e5\\u672c\\u96fb\\u6280\", \"marker\": {\"color\": \"#00cc96\"}, \"name\": \"\\u65e5\\u672c\\u96fb\\u6280\", \"offsetgroup\": \"\\u65e5\\u672c\\u96fb\\u6280\", \"orientation\": \"v\", \"showlegend\": true, \"textposition\": \"auto\", \"type\": \"bar\", \"x\": [2020], \"xaxis\": \"x\", \"y\": [1], \"yaxis\": \"y\"}],                        {\"barmode\": \"relative\", \"legend\": {\"title\": {\"text\": \"Company\"}, \"tracegroupgap\": 0}, \"margin\": {\"t\": 60}, \"template\": {\"data\": {\"bar\": [{\"error_x\": {\"color\": \"#2a3f5f\"}, \"error_y\": {\"color\": \"#2a3f5f\"}, \"marker\": {\"line\": {\"color\": \"#E5ECF6\", \"width\": 0.5}}, \"type\": \"bar\"}], \"barpolar\": [{\"marker\": {\"line\": {\"color\": \"#E5ECF6\", \"width\": 0.5}}, \"type\": \"barpolar\"}], \"carpet\": [{\"aaxis\": {\"endlinecolor\": \"#2a3f5f\", \"gridcolor\": \"white\", \"linecolor\": \"white\", \"minorgridcolor\": \"white\", \"startlinecolor\": \"#2a3f5f\"}, \"baxis\": {\"endlinecolor\": \"#2a3f5f\", \"gridcolor\": \"white\", \"linecolor\": \"white\", \"minorgridcolor\": \"white\", \"startlinecolor\": \"#2a3f5f\"}, \"type\": \"carpet\"}], \"choropleth\": [{\"colorbar\": {\"outlinewidth\": 0, \"ticks\": \"\"}, \"type\": \"choropleth\"}], \"contour\": [{\"colorbar\": {\"outlinewidth\": 0, \"ticks\": \"\"}, \"colorscale\": [[0.0, \"#0d0887\"], [0.1111111111111111, \"#46039f\"], [0.2222222222222222, \"#7201a8\"], [0.3333333333333333, \"#9c179e\"], [0.4444444444444444, \"#bd3786\"], [0.5555555555555556, \"#d8576b\"], [0.6666666666666666, \"#ed7953\"], [0.7777777777777778, \"#fb9f3a\"], [0.8888888888888888, \"#fdca26\"], [1.0, \"#f0f921\"]], \"type\": \"contour\"}], \"contourcarpet\": [{\"colorbar\": {\"outlinewidth\": 0, \"ticks\": \"\"}, \"type\": \"contourcarpet\"}], \"heatmap\": [{\"colorbar\": {\"outlinewidth\": 0, \"ticks\": \"\"}, \"colorscale\": [[0.0, \"#0d0887\"], [0.1111111111111111, \"#46039f\"], [0.2222222222222222, \"#7201a8\"], [0.3333333333333333, \"#9c179e\"], [0.4444444444444444, \"#bd3786\"], [0.5555555555555556, \"#d8576b\"], [0.6666666666666666, \"#ed7953\"], [0.7777777777777778, \"#fb9f3a\"], [0.8888888888888888, \"#fdca26\"], [1.0, \"#f0f921\"]], \"type\": \"heatmap\"}], \"heatmapgl\": [{\"colorbar\": {\"outlinewidth\": 0, \"ticks\": \"\"}, \"colorscale\": [[0.0, \"#0d0887\"], [0.1111111111111111, \"#46039f\"], [0.2222222222222222, \"#7201a8\"], [0.3333333333333333, \"#9c179e\"], [0.4444444444444444, \"#bd3786\"], [0.5555555555555556, \"#d8576b\"], [0.6666666666666666, \"#ed7953\"], [0.7777777777777778, \"#fb9f3a\"], [0.8888888888888888, \"#fdca26\"], [1.0, \"#f0f921\"]], \"type\": \"heatmapgl\"}], \"histogram\": [{\"marker\": {\"colorbar\": {\"outlinewidth\": 0, \"ticks\": \"\"}}, \"type\": \"histogram\"}], \"histogram2d\": [{\"colorbar\": {\"outlinewidth\": 0, \"ticks\": \"\"}, \"colorscale\": [[0.0, \"#0d0887\"], [0.1111111111111111, \"#46039f\"], [0.2222222222222222, \"#7201a8\"], [0.3333333333333333, \"#9c179e\"], [0.4444444444444444, \"#bd3786\"], [0.5555555555555556, \"#d8576b\"], [0.6666666666666666, \"#ed7953\"], [0.7777777777777778, \"#fb9f3a\"], [0.8888888888888888, \"#fdca26\"], [1.0, \"#f0f921\"]], \"type\": \"histogram2d\"}], \"histogram2dcontour\": [{\"colorbar\": {\"outlinewidth\": 0, \"ticks\": \"\"}, \"colorscale\": [[0.0, \"#0d0887\"], [0.1111111111111111, \"#46039f\"], [0.2222222222222222, \"#7201a8\"], [0.3333333333333333, \"#9c179e\"], [0.4444444444444444, \"#bd3786\"], [0.5555555555555556, \"#d8576b\"], [0.6666666666666666, \"#ed7953\"], [0.7777777777777778, \"#fb9f3a\"], [0.8888888888888888, \"#fdca26\"], [1.0, \"#f0f921\"]], \"type\": \"histogram2dcontour\"}], \"mesh3d\": [{\"colorbar\": {\"outlinewidth\": 0, \"ticks\": \"\"}, \"type\": \"mesh3d\"}], \"parcoords\": [{\"line\": {\"colorbar\": {\"outlinewidth\": 0, \"ticks\": \"\"}}, \"type\": \"parcoords\"}], \"pie\": [{\"automargin\": true, \"type\": \"pie\"}], \"scatter\": [{\"marker\": {\"colorbar\": {\"outlinewidth\": 0, \"ticks\": \"\"}}, \"type\": \"scatter\"}], \"scatter3d\": [{\"line\": {\"colorbar\": {\"outlinewidth\": 0, \"ticks\": \"\"}}, \"marker\": {\"colorbar\": {\"outlinewidth\": 0, \"ticks\": \"\"}}, \"type\": \"scatter3d\"}], \"scattercarpet\": [{\"marker\": {\"colorbar\": {\"outlinewidth\": 0, \"ticks\": \"\"}}, \"type\": \"scattercarpet\"}], \"scattergeo\": [{\"marker\": {\"colorbar\": {\"outlinewidth\": 0, \"ticks\": \"\"}}, \"type\": \"scattergeo\"}], \"scattergl\": [{\"marker\": {\"colorbar\": {\"outlinewidth\": 0, \"ticks\": \"\"}}, \"type\": \"scattergl\"}], \"scattermapbox\": [{\"marker\": {\"colorbar\": {\"outlinewidth\": 0, \"ticks\": \"\"}}, \"type\": \"scattermapbox\"}], \"scatterpolar\": [{\"marker\": {\"colorbar\": {\"outlinewidth\": 0, \"ticks\": \"\"}}, \"type\": \"scatterpolar\"}], \"scatterpolargl\": [{\"marker\": {\"colorbar\": {\"outlinewidth\": 0, \"ticks\": \"\"}}, \"type\": \"scatterpolargl\"}], \"scatterternary\": [{\"marker\": {\"colorbar\": {\"outlinewidth\": 0, \"ticks\": \"\"}}, \"type\": \"scatterternary\"}], \"surface\": [{\"colorbar\": {\"outlinewidth\": 0, \"ticks\": \"\"}, \"colorscale\": [[0.0, \"#0d0887\"], [0.1111111111111111, \"#46039f\"], [0.2222222222222222, \"#7201a8\"], [0.3333333333333333, \"#9c179e\"], [0.4444444444444444, \"#bd3786\"], [0.5555555555555556, \"#d8576b\"], [0.6666666666666666, \"#ed7953\"], [0.7777777777777778, \"#fb9f3a\"], [0.8888888888888888, \"#fdca26\"], [1.0, \"#f0f921\"]], \"type\": \"surface\"}], \"table\": [{\"cells\": {\"fill\": {\"color\": \"#EBF0F8\"}, \"line\": {\"color\": \"white\"}}, \"header\": {\"fill\": {\"color\": \"#C8D4E3\"}, \"line\": {\"color\": \"white\"}}, \"type\": \"table\"}]}, \"layout\": {\"annotationdefaults\": {\"arrowcolor\": \"#2a3f5f\", \"arrowhead\": 0, \"arrowwidth\": 1}, \"coloraxis\": {\"colorbar\": {\"outlinewidth\": 0, \"ticks\": \"\"}}, \"colorscale\": {\"diverging\": [[0, \"#8e0152\"], [0.1, \"#c51b7d\"], [0.2, \"#de77ae\"], [0.3, \"#f1b6da\"], [0.4, \"#fde0ef\"], [0.5, \"#f7f7f7\"], [0.6, \"#e6f5d0\"], [0.7, \"#b8e186\"], [0.8, \"#7fbc41\"], [0.9, \"#4d9221\"], [1, \"#276419\"]], \"sequential\": [[0.0, \"#0d0887\"], [0.1111111111111111, \"#46039f\"], [0.2222222222222222, \"#7201a8\"], [0.3333333333333333, \"#9c179e\"], [0.4444444444444444, \"#bd3786\"], [0.5555555555555556, \"#d8576b\"], [0.6666666666666666, \"#ed7953\"], [0.7777777777777778, \"#fb9f3a\"], [0.8888888888888888, \"#fdca26\"], [1.0, \"#f0f921\"]], \"sequentialminus\": [[0.0, \"#0d0887\"], [0.1111111111111111, \"#46039f\"], [0.2222222222222222, \"#7201a8\"], [0.3333333333333333, \"#9c179e\"], [0.4444444444444444, \"#bd3786\"], [0.5555555555555556, \"#d8576b\"], [0.6666666666666666, \"#ed7953\"], [0.7777777777777778, \"#fb9f3a\"], [0.8888888888888888, \"#fdca26\"], [1.0, \"#f0f921\"]]}, \"colorway\": [\"#636efa\", \"#EF553B\", \"#00cc96\", \"#ab63fa\", \"#FFA15A\", \"#19d3f3\", \"#FF6692\", \"#B6E880\", \"#FF97FF\", \"#FECB52\"], \"font\": {\"color\": \"#2a3f5f\"}, \"geo\": {\"bgcolor\": \"white\", \"lakecolor\": \"white\", \"landcolor\": \"#E5ECF6\", \"showlakes\": true, \"showland\": true, \"subunitcolor\": \"white\"}, \"hoverlabel\": {\"align\": \"left\"}, \"hovermode\": \"closest\", \"mapbox\": {\"style\": \"light\"}, \"paper_bgcolor\": \"white\", \"plot_bgcolor\": \"#E5ECF6\", \"polar\": {\"angularaxis\": {\"gridcolor\": \"white\", \"linecolor\": \"white\", \"ticks\": \"\"}, \"bgcolor\": \"#E5ECF6\", \"radialaxis\": {\"gridcolor\": \"white\", \"linecolor\": \"white\", \"ticks\": \"\"}}, \"scene\": {\"xaxis\": {\"backgroundcolor\": \"#E5ECF6\", \"gridcolor\": \"white\", \"gridwidth\": 2, \"linecolor\": \"white\", \"showbackground\": true, \"ticks\": \"\", \"zerolinecolor\": \"white\"}, \"yaxis\": {\"backgroundcolor\": \"#E5ECF6\", \"gridcolor\": \"white\", \"gridwidth\": 2, \"linecolor\": \"white\", \"showbackground\": true, \"ticks\": \"\", \"zerolinecolor\": \"white\"}, \"zaxis\": {\"backgroundcolor\": \"#E5ECF6\", \"gridcolor\": \"white\", \"gridwidth\": 2, \"linecolor\": \"white\", \"showbackground\": true, \"ticks\": \"\", \"zerolinecolor\": \"white\"}}, \"shapedefaults\": {\"line\": {\"color\": \"#2a3f5f\"}}, \"ternary\": {\"aaxis\": {\"gridcolor\": \"white\", \"linecolor\": \"white\", \"ticks\": \"\"}, \"baxis\": {\"gridcolor\": \"white\", \"linecolor\": \"white\", \"ticks\": \"\"}, \"bgcolor\": \"#E5ECF6\", \"caxis\": {\"gridcolor\": \"white\", \"linecolor\": \"white\", \"ticks\": \"\"}}, \"title\": {\"x\": 0.05}, \"xaxis\": {\"automargin\": true, \"gridcolor\": \"white\", \"linecolor\": \"white\", \"ticks\": \"\", \"title\": {\"standoff\": 15}, \"zerolinecolor\": \"white\", \"zerolinewidth\": 2}, \"yaxis\": {\"automargin\": true, \"gridcolor\": \"white\", \"linecolor\": \"white\", \"ticks\": \"\", \"title\": {\"standoff\": 15}, \"zerolinecolor\": \"white\", \"zerolinewidth\": 2}}}, \"xaxis\": {\"anchor\": \"y\", \"domain\": [0.0, 1.0], \"title\": {\"text\": \"Year\"}}, \"yaxis\": {\"anchor\": \"x\", \"domain\": [0.0, 1.0], \"title\": {\"text\": \"Counts\"}}},                        {\"responsive\": true}                    ).then(function(){\n",
       "                            \n",
       "var gd = document.getElementById('2381eeb2-e2cb-4fa4-b0d8-381a465d11bf');\n",
       "var x = new MutationObserver(function (mutations, observer) {{\n",
       "        var display = window.getComputedStyle(gd).display;\n",
       "        if (!display || display === 'none') {{\n",
       "            console.log([gd, 'removed!']);\n",
       "            Plotly.purge(gd);\n",
       "            observer.disconnect();\n",
       "        }}\n",
       "}});\n",
       "\n",
       "// Listen for the removal of the full notebook cells\n",
       "var notebookContainer = gd.closest('#notebook-container');\n",
       "if (notebookContainer) {{\n",
       "    x.observe(notebookContainer, {childList: true});\n",
       "}}\n",
       "\n",
       "// Listen for the clearing of the current output cell\n",
       "var outputEl = gd.closest('.output');\n",
       "if (outputEl) {{\n",
       "    x.observe(outputEl, {childList: true});\n",
       "}}\n",
       "\n",
       "                        })                };                });            </script>        </div>"
      ]
     },
     "metadata": {},
     "output_type": "display_data"
    }
   ],
   "source": [
    "px.bar( df_for_plotly, x = \"Year\", y = \"Counts\", color = \"Company\")"
   ]
  },
  {
   "cell_type": "markdown",
   "metadata": {},
   "source": [
    "### もっとも多くの組織からCITPが登録されたのは2019年度"
   ]
  },
  {
   "cell_type": "code",
   "execution_count": 32,
   "metadata": {},
   "outputs": [
    {
     "data": {
      "text/plain": [
       "Year\n",
       "2013     3\n",
       "2014     6\n",
       "2015     6\n",
       "2016     9\n",
       "2017     8\n",
       "2018     9\n",
       "2019    61\n",
       "2020    16\n",
       "dtype: int64"
      ]
     },
     "execution_count": 32,
     "metadata": {},
     "output_type": "execute_result"
    }
   ],
   "source": [
    "df_for_plotly.groupby(\"Year\").size()"
   ]
  },
  {
   "cell_type": "markdown",
   "metadata": {},
   "source": [
    "### 中電シーティーアイは2014年以降、毎年CITPを輩出している"
   ]
  },
  {
   "cell_type": "code",
   "execution_count": 22,
   "metadata": {},
   "outputs": [
    {
     "data": {
      "text/html": [
       "<div>\n",
       "<style scoped>\n",
       "    .dataframe tbody tr th:only-of-type {\n",
       "        vertical-align: middle;\n",
       "    }\n",
       "\n",
       "    .dataframe tbody tr th {\n",
       "        vertical-align: top;\n",
       "    }\n",
       "\n",
       "    .dataframe thead th {\n",
       "        text-align: right;\n",
       "    }\n",
       "</style>\n",
       "<table border=\"1\" class=\"dataframe\">\n",
       "  <thead>\n",
       "    <tr style=\"text-align: right;\">\n",
       "      <th></th>\n",
       "      <th>Year</th>\n",
       "      <th>Counts</th>\n",
       "    </tr>\n",
       "  </thead>\n",
       "  <tbody>\n",
       "    <tr>\n",
       "      <th>7</th>\n",
       "      <td>2014</td>\n",
       "      <td>2</td>\n",
       "    </tr>\n",
       "    <tr>\n",
       "      <th>13</th>\n",
       "      <td>2015</td>\n",
       "      <td>2</td>\n",
       "    </tr>\n",
       "    <tr>\n",
       "      <th>21</th>\n",
       "      <td>2016</td>\n",
       "      <td>5</td>\n",
       "    </tr>\n",
       "    <tr>\n",
       "      <th>30</th>\n",
       "      <td>2017</td>\n",
       "      <td>5</td>\n",
       "    </tr>\n",
       "    <tr>\n",
       "      <th>36</th>\n",
       "      <td>2018</td>\n",
       "      <td>3</td>\n",
       "    </tr>\n",
       "    <tr>\n",
       "      <th>70</th>\n",
       "      <td>2019</td>\n",
       "      <td>1</td>\n",
       "    </tr>\n",
       "    <tr>\n",
       "      <th>113</th>\n",
       "      <td>2020</td>\n",
       "      <td>1</td>\n",
       "    </tr>\n",
       "  </tbody>\n",
       "</table>\n",
       "</div>"
      ],
      "text/plain": [
       "     Year  Counts\n",
       "7    2014       2\n",
       "13   2015       2\n",
       "21   2016       5\n",
       "30   2017       5\n",
       "36   2018       3\n",
       "70   2019       1\n",
       "113  2020       1"
      ]
     },
     "execution_count": 22,
     "metadata": {},
     "output_type": "execute_result"
    }
   ],
   "source": [
    "df_for_plotly.query('Company==\"中電シーティーアイ\"')[[\"Year\",\"Counts\"]]"
   ]
  },
  {
   "cell_type": "markdown",
   "metadata": {},
   "source": [
    "## このページの情報から読み取れる事\n",
    "\n",
    "* このページで公開されているCITPの情報は7298人分。\n",
    "* 7割にあたる約5000人は氏名や社名（所属）を公表していない\n",
    "* もっとも多くのCITPを擁する組織は、エヌ・ティ・ティ・コムウェアの853人\n",
    "* これまででCITPがもっとも増加したのは2016年度、ついで2018年度。\n",
    "* もっとも多くの組織からCITPが登録されたのは2019年度\n",
    "* 中電シーティーアイは2014年以降、毎年CITPを輩出している"
   ]
  },
  {
   "cell_type": "markdown",
   "metadata": {},
   "source": [
    "更新日時"
   ]
  },
  {
   "cell_type": "code",
   "execution_count": 23,
   "metadata": {},
   "outputs": [
    {
     "name": "stdout",
     "output_type": "stream",
     "text": [
      "Sun Feb 28 17:59:34 JST 2021\r\n"
     ]
    }
   ],
   "source": [
    "!LANG=C date"
   ]
  }
 ],
 "metadata": {
  "kernelspec": {
   "display_name": "Python 3",
   "language": "python",
   "name": "python3"
  },
  "language_info": {
   "codemirror_mode": {
    "name": "ipython",
    "version": 3
   },
   "file_extension": ".py",
   "mimetype": "text/x-python",
   "name": "python",
   "nbconvert_exporter": "python",
   "pygments_lexer": "ipython3",
   "version": "3.8.6"
  }
 },
 "nbformat": 4,
 "nbformat_minor": 4
}
